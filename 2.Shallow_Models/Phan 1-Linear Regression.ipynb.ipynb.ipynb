{
 "cells": [
  {
   "cell_type": "markdown",
   "id": "03eead2e",
   "metadata": {},
   "source": [
    "Before you turn this problem in, make sure everything runs as expected. First, **restart the kernel** (in the menubar, select Kernel$\\rightarrow$Restart) and then **run all cells** (in the menubar, select Cell$\\rightarrow$Run All).\n",
    "\n",
    "Make sure you fill in any place that says `YOUR CODE HERE` or \"YOUR ANSWER HERE\", as well as your name and collaborators below:"
   ]
  },
  {
   "cell_type": "code",
   "execution_count": 1,
   "id": "65160c4c",
   "metadata": {},
   "outputs": [],
   "source": [
    "NAME = \"Nguyễn Duy Đạt\""
   ]
  },
  {
   "cell_type": "markdown",
   "id": "ea38fe1e",
   "metadata": {},
   "source": [
    "---"
   ]
  },
  {
   "cell_type": "markdown",
   "id": "32d8e798-415f-437f-9595-395432d2f6ea",
   "metadata": {
    "deletable": false,
    "editable": false,
    "nbgrader": {
     "cell_type": "markdown",
     "checksum": "4acb2c0a70655148756f90c891ced2c0",
     "grade": false,
     "grade_id": "cell-cd8ada6364a44dde",
     "locked": true,
     "schema_version": 3,
     "solution": false,
     "task": false
    },
    "tags": []
   },
   "source": [
    "# CÀI ĐẶT MÔ HÌNH LINEAR REGRESSION VỚI KERAS"
   ]
  },
  {
   "cell_type": "markdown",
   "id": "fd050030-303d-46a5-814b-39eb047ad932",
   "metadata": {
    "deletable": false,
    "editable": false,
    "nbgrader": {
     "cell_type": "markdown",
     "checksum": "30977e2983aaebcf2baeee83d603d3ff",
     "grade": false,
     "grade_id": "cell-0bffba57d1ad9cb3",
     "locked": true,
     "schema_version": 3,
     "solution": false,
     "task": false
    },
    "tags": []
   },
   "source": [
    "Một mô hình máy học cần có đủ ít nhất 7 phương thức sau:\n",
    "- `__init__`: hàm constructor trong hướng đối tượng, được sử dụng để khởi tạo các tham số mặc định hoặc tham số bắt đầu một mô hình. Trong những bài tập đầu tiên, để đơn giản constructor sẽ không sử dụng.\n",
    "- `build`: xây dựng kiến trúc của mô hình\n",
    "- `train`: bắt đầu quá trình huấn luyện mô hình\n",
    "- `save`: lưu lại mô hình sau khi đã huấn luyện\n",
    "- `load`: load lên mô hình từ file đã huấn luyện (pretrained)\n",
    "- `summary`: in tóm tắt kiến trúc mô hình\n",
    "- `predict`: dự đoán giá trị output từ dữ liệu đầu vào"
   ]
  },
  {
   "cell_type": "code",
   "execution_count": 2,
   "id": "4045ce28-ee6d-4e9b-a48a-f1735f301574",
   "metadata": {
    "deletable": false,
    "editable": false,
    "nbgrader": {
     "cell_type": "code",
     "checksum": "d9b238ae74e12b38c0ac8d7442967d56",
     "grade": false,
     "grade_id": "cell-126fc97be75a7453",
     "locked": true,
     "schema_version": 3,
     "solution": false,
     "task": false
    },
    "tags": []
   },
   "outputs": [],
   "source": [
    "# Mô hình cài đặt tổng quát bao gồm 7 phương thức cơ bản\n",
    "# Lưu ý: mô hình này chỉ mang tính gợi ý, không bắt buộc\n",
    "# Tuy nhiên, trong phần bài tập cần tuân theo các tên phương thức này\n",
    "class MyModel:\n",
    "    # constructor\n",
    "    def __init__(self):\n",
    "        return None\n",
    "  \n",
    "    # Implement architecture of the model\n",
    "    def build(self):\n",
    "        return None\n",
    "\n",
    "    # Train the defined model with training and validation data \n",
    "    def train(self):\n",
    "        return None\n",
    "\n",
    "    # Save the trained model to file\n",
    "    def save(self, model_path):\n",
    "        return None\n",
    "\n",
    "    # Load pretrained model from file\n",
    "    def load(self):\n",
    "        return None\n",
    "    # Visualize your model\n",
    "    def summary(self):\n",
    "        return None\n",
    "\n",
    "    # Apply your model with new input data\n",
    "    def predict(self):\n",
    "        return None"
   ]
  },
  {
   "cell_type": "markdown",
   "id": "498cd880-c80c-4d9a-9ca8-bff003cf2ae6",
   "metadata": {
    "deletable": false,
    "editable": false,
    "nbgrader": {
     "cell_type": "markdown",
     "checksum": "91058848e4d8a35e61983b4fd9e493de",
     "grade": false,
     "grade_id": "cell-449bbee0eee23e80",
     "locked": true,
     "schema_version": 3,
     "solution": false,
     "task": false
    },
    "tags": []
   },
   "source": [
    "## 1. Import các thư viện Keras\n",
    "\n",
    "Đầu tiên, ta sẽ import các thư viện, module, hàm của `Keras`:\n",
    "- `Input`: để nhận dữ liệu đầu vào cho mô hình\n",
    "- `Dense`: hay còn gọi là lớp Fully Connected (Lớp kết nối đầy đủ), một thành phần quan trọng của các mô hình dựa trên mạng Neural Network.\n",
    "- `Model`: đây là lớp đối tượng mô hình được sử dụng để đóng gói lớp đầu vào, đầu ra, sau đó huấn luyện với phương thức `fit` và dự đoán kết quả với `predict`.\n",
    "- `load_model`: hàm sử dụng để load mô hình lên từ file"
   ]
  },
  {
   "cell_type": "code",
   "execution_count": 3,
   "id": "1f4b4acb-157f-4309-96de-b8e7b01f6506",
   "metadata": {
    "deletable": false,
    "editable": false,
    "nbgrader": {
     "cell_type": "code",
     "checksum": "362deb48b42f34099c7bf7f0cf350fb3",
     "grade": false,
     "grade_id": "cell-57c79d33953aeef2",
     "locked": true,
     "schema_version": 3,
     "solution": false,
     "task": false
    },
    "tags": []
   },
   "outputs": [],
   "source": [
    "from keras.layers import Input, Dense\n",
    "from keras import Model\n",
    "import tensorflow as tf\n",
    "from keras.models import load_model"
   ]
  },
  {
   "cell_type": "markdown",
   "id": "04a833c1-4990-489c-bbac-968b578eac39",
   "metadata": {
    "deletable": false,
    "editable": false,
    "nbgrader": {
     "cell_type": "markdown",
     "checksum": "1a53c39039ad7e23b9185535cd3707a6",
     "grade": false,
     "grade_id": "cell-f72ad50b2c988c98",
     "locked": true,
     "schema_version": 3,
     "solution": false,
     "task": false
    },
    "tags": []
   },
   "source": [
    "## 2. Cài đặt mô hình Linear Regression\n",
    "Tiếp theo, ta sẽ dựa trên khung đối tượng `MyModel` đã trình bày ở mục trước để tiến hành cài đặt mô hình **Linear Regression**. Phương thức chính mà bài tập này cần thực hiện là `def build()`. Các phương thức còn lại đã được cài đặt sẵn, các bạn cần đọc, hiểu ý nghĩa và cách thức sử dụng về sau.\n",
    "\n",
    "<p align=\"center\">\n",
    "  <img src=\"LinearReg.png\" />\n",
    "</p>\n"
   ]
  },
  {
   "cell_type": "code",
   "execution_count": 4,
   "id": "60b33717-b96f-4c9b-97f8-2e0eb49d7afa",
   "metadata": {
    "deletable": false,
    "nbgrader": {
     "cell_type": "code",
     "checksum": "a42b45fa425f1bbd3e347da3fca87adb",
     "grade": false,
     "grade_id": "cell-39579eccef29b960",
     "locked": false,
     "schema_version": 3,
     "solution": true,
     "task": false
    },
    "tags": []
   },
   "outputs": [],
   "source": [
    "# Linear Regression\n",
    "class LinearRegression:\n",
    "    def __init__(self): # Self is similar to your 'this' pointer in C++\n",
    "        return None\n",
    "\n",
    "    def build(self, input_dim):\n",
    "        \n",
    "        self.model = None\n",
    "        # Hãy cài đặt để định nghĩa KIẾN TRÚC MÔ HÌNH và lưu ở thuộc tính `self.model`\n",
    "        # với các biến đối tượng sau:\n",
    "        #  - tạo biến `input` với lớp đối tượng `Input` của Keras, \n",
    "        #    truyền vào kích thước đầu vào `input_dim`\n",
    "        #  - tạo biến `output` với lớp đối tượng `Dense` của Keras,\n",
    "        #    truyền vào các tham số:  kích thước output, có sử dụng bias, \n",
    "        #    không sử dụng hàm activation\n",
    "        # Sau bước này, self.model sẽ đóng gói 2 biến `input` và `output` để tạo thành mô hình\n",
    "        # YOUR CODE HERE\n",
    "        input = Input(input_dim)\n",
    "        output = Dense(1, use_bias = True)(input)\n",
    "        # raise NotImplementedError()\n",
    "        self.model = Model(input, output)\n",
    "        return self.model\n",
    "\n",
    "    def train(self, x_train, y_train):\n",
    "        opt = tf.keras.optimizers.SGD(learning_rate=0.1) # Stochastic Gradient Descent\n",
    "        self.model.compile(optimizer=opt, loss='mse') # MSE: mean squared error or L2 distance # (y~ - y)^2\n",
    "        return self.model.fit(x_train, y_train, epochs=30)\n",
    "\n",
    "    def save(self, model_file):\n",
    "        return self.model.save(model_file)\n",
    "  \n",
    "    def load(self, model_file):\n",
    "        self.model = load_model(model_file)\n",
    "\n",
    "    def summary(self):\n",
    "        self.model.summary()\n",
    "\n",
    "    def predict(self, x_test):\n",
    "        return self.model.predict(x_test)\n",
    "  \n",
    "    def get_weights(self):\n",
    "        return self.model.layers[1].get_weights()"
   ]
  },
  {
   "cell_type": "markdown",
   "id": "97f6c731-3e41-4d71-988d-b41a6dfa2999",
   "metadata": {
    "deletable": false,
    "editable": false,
    "nbgrader": {
     "cell_type": "markdown",
     "checksum": "815f63faac74131957cc175c7a3a8729",
     "grade": false,
     "grade_id": "cell-ac1cf2df36b35acb",
     "locked": true,
     "schema_version": 3,
     "solution": false,
     "task": false
    },
    "tags": []
   },
   "source": [
    "Tiếp theo, ta sẽ khởi tạo đối tượng LinearRegression và kiểm tra thử xem phương `build` đã cài đặt chính xác chưa."
   ]
  },
  {
   "cell_type": "code",
   "execution_count": 5,
   "id": "74d6e729-8fcc-4464-9d1f-0e24da5629dc",
   "metadata": {
    "deletable": false,
    "editable": false,
    "nbgrader": {
     "cell_type": "code",
     "checksum": "f09741d2aaaff22062fe94afffb165d7",
     "grade": false,
     "grade_id": "cell-cb24e77ca4ff451e",
     "locked": true,
     "schema_version": 3,
     "solution": false,
     "task": false
    },
    "tags": []
   },
   "outputs": [
    {
     "data": {
      "text/plain": [
       "<keras.engine.functional.Functional at 0x7f7791382b80>"
      ]
     },
     "execution_count": 5,
     "metadata": {},
     "output_type": "execute_result"
    }
   ],
   "source": [
    "lr = LinearRegression()\n",
    "# Trong ví dụ này, ta sẽ khởi tạo input là một vector 1000 chiều:\n",
    "lr.build(1000)"
   ]
  },
  {
   "cell_type": "code",
   "execution_count": 6,
   "id": "9ca9fdb2-e913-4c1d-a858-48a3842f3436",
   "metadata": {
    "deletable": false,
    "editable": false,
    "nbgrader": {
     "cell_type": "code",
     "checksum": "5c53eb2c16c77aa86d34ca757659d3da",
     "grade": true,
     "grade_id": "cell-278fafeae5c407d0",
     "locked": true,
     "points": 5,
     "schema_version": 3,
     "solution": false,
     "task": false
    },
    "tags": []
   },
   "outputs": [],
   "source": [
    "# Kiểm tra kiến trúc mạng gồm 2 lớp: Input và Output\n",
    "assert len(lr.model.layers)==2\n",
    "assert str(type(lr.model.layers[0]))== \"<class 'keras.engine.input_layer.InputLayer'>\"\n",
    "assert str(type(lr.model.layers[1]))== \"<class 'keras.layers.core.dense.Dense'>\"\n",
    "assert lr.model.layers[0].input_shape[0][1] == 1000\n"
   ]
  },
  {
   "cell_type": "code",
   "execution_count": null,
   "id": "a5589098-a98d-4356-b01c-c4c01139b1c3",
   "metadata": {
    "deletable": false,
    "editable": false,
    "nbgrader": {
     "cell_type": "code",
     "checksum": "2ee9383762bb4552b6d1cc7cb398e40d",
     "grade": true,
     "grade_id": "cell-05b9ba2de5ca007e",
     "locked": true,
     "points": 10,
     "schema_version": 3,
     "solution": false,
     "task": false
    },
    "tags": []
   },
   "outputs": [],
   "source": [
    "# Kiểm tra với bộ test ẩn"
   ]
  },
  {
   "cell_type": "markdown",
   "id": "834e8988-86a3-4914-8b48-5b1e0c26ef9f",
   "metadata": {
    "deletable": false,
    "editable": false,
    "nbgrader": {
     "cell_type": "markdown",
     "checksum": "44c67b2185b8505ac9de943dd10ceaf8",
     "grade": false,
     "grade_id": "cell-ac7a9ddf407c8762",
     "locked": true,
     "schema_version": 3,
     "solution": false,
     "task": false
    },
    "tags": []
   },
   "source": [
    "## 3. Tạo dữ liệu mẫu (toy example)\n",
    "Bước tiếp theo, ta sẽ tiến hành tạo mẫu dữ liệu để huấn luyện và kiểm thử.\n",
    "\n",
    "Dữ liệu được tạo ra là các điểm xoay xung quanh một đường thẳng với một số nhiễu"
   ]
  },
  {
   "cell_type": "code",
   "execution_count": 7,
   "id": "e85e8cda-f476-4091-8bbc-e1c5c05a8c99",
   "metadata": {
    "deletable": false,
    "editable": false,
    "nbgrader": {
     "cell_type": "code",
     "checksum": "5fbdbfd24819873bed033a5bb4109ca1",
     "grade": false,
     "grade_id": "cell-596b906e8b2db48f",
     "locked": true,
     "schema_version": 3,
     "solution": false,
     "task": false
    },
    "tags": []
   },
   "outputs": [
    {
     "data": {
      "image/png": "[encoded data removed]",
      "text/plain": [
       "<Figure size 640x480 with 1 Axes>"
      ]
     },
     "metadata": {},
     "output_type": "display_data"
    }
   ],
   "source": [
    "import numpy as np\n",
    "import matplotlib.pyplot as plt\n",
    "\n",
    "# Khởi tạo các điểm xung quanh đường thẳng y = -3*x + 10\n",
    "x = np.arange(-5, 5, 0.5)\n",
    "n = len(x) # Số mẫu dữ liệu\n",
    "\n",
    "std = 2 # tham số thể hiện mức độ nhiễu nhiều hay ít. Càng lớn càng nhiễu\n",
    "y = -3*x + 10 + np.random.normal(0, std, n) \n",
    "\n",
    "# Trực quan hóa dữ liệu bằng các hình tròn màu đỏ\n",
    "plt.plot(x, y, 'ro')\n",
    "plt.show()"
   ]
  },
  {
   "cell_type": "code",
   "execution_count": 8,
   "id": "8aa7ce32-4f59-4cee-ae56-25f0cd972886",
   "metadata": {
    "deletable": false,
    "nbgrader": {
     "cell_type": "code",
     "checksum": "6236a53104d91ee587abbe3ccead9545",
     "grade": false,
     "grade_id": "cell-7b350a0e29be5844",
     "locked": false,
     "schema_version": 3,
     "solution": true,
     "task": false
    },
    "tags": []
   },
   "outputs": [
    {
     "name": "stdout",
     "output_type": "stream",
     "text": [
      "The architecture of Linear Regression model: \n",
      "Model: \"model_1\"\n",
      "_________________________________________________________________\n",
      " Layer (type)                Output Shape              Param #   \n",
      "=================================================================\n",
      " input_2 (InputLayer)        [(None, 1)]               0         \n",
      "                                                                 \n",
      " dense_1 (Dense)             (None, 1)                 2         \n",
      "                                                                 \n",
      "=================================================================\n",
      "Total params: 2\n",
      "Trainable params: 2\n",
      "Non-trainable params: 0\n",
      "_________________________________________________________________\n"
     ]
    }
   ],
   "source": [
    "lr = LinearRegression()\n",
    "\n",
    "# Hãy gọi phương thức `build` cho đối tượng `lr` và truyền tham số đầu vào\n",
    "# tương ứng với dữ liệu train đã phát sinh ở code block trên\n",
    "# Theo bạn, `input_dim` bằng bao nhiêu?\n",
    "\n",
    "# YOUR CODE HERE\n",
    "lr.build(1)\n",
    "# raise NotImplementedError()\n",
    "\n",
    "# Để hiển thị kiến trúc của mô hình ta gọi phương thức `summary`\n",
    "print(\"The architecture of Linear Regression model: \")\n",
    "lr.summary()"
   ]
  },
  {
   "cell_type": "code",
   "execution_count": null,
   "id": "0c6a3f9c-d529-4e33-968f-ef924a7f7ef7",
   "metadata": {
    "deletable": false,
    "editable": false,
    "nbgrader": {
     "cell_type": "code",
     "checksum": "bc6fc50e4c7769eaedafd0a00290d063",
     "grade": true,
     "grade_id": "cell-cf64170f2b98a6d3",
     "locked": true,
     "points": 5,
     "schema_version": 3,
     "solution": false,
     "task": false
    },
    "tags": []
   },
   "outputs": [],
   "source": [
    "# Kiểm tra bước gọi phương thức `build`"
   ]
  },
  {
   "cell_type": "code",
   "execution_count": 9,
   "id": "7f34ecff-3ef0-497f-bcd0-c138cb7b7af3",
   "metadata": {
    "deletable": false,
    "editable": false,
    "nbgrader": {
     "cell_type": "code",
     "checksum": "c760fe1e62724fb13592e0e730923cd2",
     "grade": false,
     "grade_id": "cell-9ba3148b1e8aacd3",
     "locked": true,
     "schema_version": 3,
     "solution": false,
     "task": false
    },
    "tags": []
   },
   "outputs": [
    {
     "name": "stdout",
     "output_type": "stream",
     "text": [
      "Epoch 1/30\n",
      "1/1 [==============================] - 0s 401ms/step - loss: 227.0914\n",
      "Epoch 2/30\n",
      "1/1 [==============================] - 0s 5ms/step - loss: 124.4673\n",
      "Epoch 3/30\n",
      "1/1 [==============================] - 0s 4ms/step - loss: 70.7288\n",
      "Epoch 4/30\n",
      "1/1 [==============================] - 0s 4ms/step - loss: 41.7857\n",
      "Epoch 5/30\n",
      "1/1 [==============================] - 0s 4ms/step - loss: 25.7459\n",
      "Epoch 6/30\n",
      "1/1 [==============================] - 0s 5ms/step - loss: 16.6101\n",
      "Epoch 7/30\n",
      "1/1 [==============================] - 0s 5ms/step - loss: 11.2757\n",
      "Epoch 8/30\n",
      "1/1 [==============================] - 0s 6ms/step - loss: 8.0932\n",
      "Epoch 9/30\n",
      "1/1 [==============================] - 0s 5ms/step - loss: 6.1605\n",
      "Epoch 10/30\n",
      "1/1 [==============================] - 0s 20ms/step - loss: 4.9698\n",
      "Epoch 11/30\n",
      "1/1 [==============================] - 0s 5ms/step - loss: 4.2282\n",
      "Epoch 12/30\n",
      "1/1 [==============================] - 0s 5ms/step - loss: 3.7624\n",
      "Epoch 13/30\n",
      "1/1 [==============================] - 0s 5ms/step - loss: 3.4680\n",
      "Epoch 14/30\n",
      "1/1 [==============================] - 0s 5ms/step - loss: 3.2810\n",
      "Epoch 15/30\n",
      "1/1 [==============================] - 0s 5ms/step - loss: 3.1619\n",
      "Epoch 16/30\n",
      "1/1 [==============================] - 0s 5ms/step - loss: 3.0858\n",
      "Epoch 17/30\n",
      "1/1 [==============================] - 0s 4ms/step - loss: 3.0371\n",
      "Epoch 18/30\n",
      "1/1 [==============================] - 0s 4ms/step - loss: 3.0059\n",
      "Epoch 19/30\n",
      "1/1 [==============================] - 0s 4ms/step - loss: 2.9859\n",
      "Epoch 20/30\n",
      "1/1 [==============================] - 0s 5ms/step - loss: 2.9731\n",
      "Epoch 21/30\n",
      "1/1 [==============================] - 0s 4ms/step - loss: 2.9648\n",
      "Epoch 22/30\n",
      "1/1 [==============================] - 0s 5ms/step - loss: 2.9595\n",
      "Epoch 23/30\n",
      "1/1 [==============================] - 0s 5ms/step - loss: 2.9561\n",
      "Epoch 24/30\n",
      "1/1 [==============================] - 0s 5ms/step - loss: 2.9540\n",
      "Epoch 25/30\n",
      "1/1 [==============================] - 0s 4ms/step - loss: 2.9526\n",
      "Epoch 26/30\n",
      "1/1 [==============================] - 0s 4ms/step - loss: 2.9517\n",
      "Epoch 27/30\n",
      "1/1 [==============================] - 0s 5ms/step - loss: 2.9511\n",
      "Epoch 28/30\n",
      "1/1 [==============================] - 0s 4ms/step - loss: 2.9507\n",
      "Epoch 29/30\n",
      "1/1 [==============================] - 0s 6ms/step - loss: 2.9505\n",
      "Epoch 30/30\n",
      "1/1 [==============================] - 0s 5ms/step - loss: 2.9503\n"
     ]
    }
   ],
   "source": [
    "# Để huấn luyện mô hình ta gọi phương thức `train` với dữ liệu mẫu đã tạo được\n",
    "# Nếu bước `build` mô hình gọi đúng thì bước `train` sau sẽ thực hiện thành công\n",
    "hist = lr.train(x, y)"
   ]
  },
  {
   "cell_type": "code",
   "execution_count": 14,
   "id": "44d04e58-792d-40e7-b4c5-01b4e0a582df",
   "metadata": {
    "deletable": false,
    "editable": false,
    "nbgrader": {
     "cell_type": "code",
     "checksum": "1eee35f30b79c20b3d1e1879203a74fb",
     "grade": false,
     "grade_id": "cell-410570417a6e9fdd",
     "locked": true,
     "schema_version": 3,
     "solution": false,
     "task": false
    },
    "tags": []
   },
   "outputs": [
    {
     "data": {
      "image/png": "[encoded data removed]",
      "text/plain": [
       "<Figure size 640x480 with 1 Axes>"
      ]
     },
     "metadata": {},
     "output_type": "display_data"
    }
   ],
   "source": [
    "# Hiển thị loss theo số epoch\n",
    "plt.plot(hist.history['loss'])\n",
    "plt.title('Model Loss')\n",
    "plt.ylabel('loss')\n",
    "plt.xlabel('epoch')\n",
    "plt.show()"
   ]
  },
  {
   "cell_type": "code",
   "execution_count": 15,
   "id": "3fb633a4-92b1-4d1d-a189-df8b64bca31d",
   "metadata": {
    "deletable": false,
    "editable": false,
    "nbgrader": {
     "cell_type": "code",
     "checksum": "25c752b343eadd46e476e4596fbdee3c",
     "grade": false,
     "grade_id": "cell-bbe1e1b3f7109f67",
     "locked": true,
     "schema_version": 3,
     "solution": false,
     "task": false
    },
    "tags": []
   },
   "outputs": [],
   "source": [
    "# Sau khi đã huấn luyện, ta lưu mô hình về để sau này tái sử dụng\n",
    "# Lưu ý: hai phương thức lưu mô hình `save` và tải mô hình lên 'load'\n",
    "# được sử dụng khi muốn tái sử dụng nhiều lần mà KHÔNG CẦN PHẢI HUẤN LUYỆN LẠI\n",
    "lr.save('linear_regression_model.h5')"
   ]
  },
  {
   "cell_type": "markdown",
   "id": "70ea400e-07a0-42d5-a516-0d902674dc01",
   "metadata": {},
   "source": [
    "## 5. Trực quan hóa mô hình và dự đoán với dữ liệu test"
   ]
  },
  {
   "cell_type": "code",
   "execution_count": 16,
   "id": "734b3a8b-8f30-4acb-a92a-471ee4c3b052",
   "metadata": {
    "deletable": false,
    "editable": false,
    "nbgrader": {
     "cell_type": "code",
     "checksum": "3fcd9591733f9633ec92fa39059bf0ee",
     "grade": false,
     "grade_id": "cell-6caaefefab9d0f32",
     "locked": true,
     "schema_version": 3,
     "solution": false,
     "task": false
    },
    "tags": []
   },
   "outputs": [],
   "source": [
    "# Khởi tạo đối tượng mới và gọi phương thức load mô hình từ file\n",
    "pretrain_lr = LinearRegression()\n",
    "pretrain_lr.load('linear_regression_model.h5')"
   ]
  },
  {
   "cell_type": "code",
   "execution_count": 17,
   "id": "dd9a079b-2dd4-49f6-b766-d16fe4358b55",
   "metadata": {
    "deletable": false,
    "editable": false,
    "nbgrader": {
     "cell_type": "code",
     "checksum": "c92b668842f1ee619316ba89338cb226",
     "grade": false,
     "grade_id": "cell-4c57bf1e1c1fe3c9",
     "locked": true,
     "schema_version": 3,
     "solution": false,
     "task": false
    },
    "tags": []
   },
   "outputs": [
    {
     "name": "stdout",
     "output_type": "stream",
     "text": [
      "Tham số tối ưu: \n",
      "[array([[-3.0522516]], dtype=float32), array([10.260622], dtype=float32)]\n",
      "Trong đó: \n",
      "   - bias (hệ số tự do) :  10.260622\n",
      "   - theta (hệ số cho dữ liệu đầu vào):  -3.0522516\n"
     ]
    }
   ],
   "source": [
    "theta = pretrain_lr.get_weights()\n",
    "print('Tham số tối ưu: ')\n",
    "print(theta)\n",
    "bias = theta[1][0] # bias chính là theta0 trong mô hình gốc\n",
    "theta1 = theta[0][0][0]\n",
    "print('Trong đó: ')\n",
    "print('   - bias (hệ số tự do) : ', bias)\n",
    "print('   - theta (hệ số cho dữ liệu đầu vào): ', theta1)"
   ]
  },
  {
   "cell_type": "markdown",
   "id": "5b3d5093-1ed8-4366-a430-950609438930",
   "metadata": {
    "deletable": false,
    "editable": false,
    "nbgrader": {
     "cell_type": "markdown",
     "checksum": "02b0fcfda3b6739db275cf5f3a0dafb2",
     "grade": false,
     "grade_id": "cell-e2cbb740bcdc77a8",
     "locked": true,
     "schema_version": 3,
     "solution": false,
     "task": false
    },
    "tags": []
   },
   "source": [
    "Như ta có thể thấy, tham số tối ưu xấp xỉ với mô hình gốc được sử dụng để khởi tạo dữ liệu:\n",
    "\n",
    "`y = -3*x + 10 + np.random.normal(0, std, n)`"
   ]
  },
  {
   "cell_type": "code",
   "execution_count": 18,
   "id": "6d32360d-f18c-4c90-85af-1a4df14d8ae6",
   "metadata": {
    "deletable": false,
    "editable": false,
    "nbgrader": {
     "cell_type": "code",
     "checksum": "6cacab8f8441e5bf601990f965dfa4ad",
     "grade": false,
     "grade_id": "cell-1ad67705d50f701d",
     "locked": true,
     "schema_version": 3,
     "solution": false,
     "task": false
    },
    "tags": []
   },
   "outputs": [
    {
     "data": {
      "image/png": "[encoded data removed]",
      "text/plain": [
       "<Figure size 640x480 with 1 Axes>"
      ]
     },
     "metadata": {},
     "output_type": "display_data"
    }
   ],
   "source": [
    "# Trực quan hóa dữ liệu và mô hình sau khi huấn luyện\n",
    "plt.plot(x, y, 'ro')\n",
    "\n",
    "# Trực quan hóa mô hình\n",
    "plt.plot([x[0],x[-1]], [theta1*x[0]+bias, theta1*x[-1]+bias])\n",
    "plt.show()"
   ]
  },
  {
   "cell_type": "markdown",
   "id": "f6d90f1f-8ff1-49f7-9c4b-a099ca7bfed8",
   "metadata": {
    "deletable": false,
    "editable": false,
    "nbgrader": {
     "cell_type": "markdown",
     "checksum": "ea84353fcf918b7ed43440b5b92feeac",
     "grade": false,
     "grade_id": "cell-64f389b662b21977",
     "locked": true,
     "schema_version": 3,
     "solution": false,
     "task": false
    },
    "tags": []
   },
   "source": [
    "Như vậy ta có thể thấy rằng, các hệ số đã huấn luyện tương ứng đã tạo thành phương trình đường thẳng đi qua các điểm mẫu huấn luyện.\n",
    "\n",
    "Tiếp theo, ta sẽ thử nghiệm với dữ liệu x_test với 2 trường hợp: -4, 0 và 4.\n",
    "\n",
    "Dựa trên biểu đồ, ta đoán rằng y_test sẽ nhận giá trị lân cận các giá trị\n",
    "trên 20, xấp xỉ 10 và 0."
   ]
  },
  {
   "cell_type": "code",
   "execution_count": 19,
   "id": "253408c5-0133-42c6-bd35-140d7b8602d7",
   "metadata": {
    "deletable": false,
    "editable": false,
    "nbgrader": {
     "cell_type": "code",
     "checksum": "c40e64396f984cfa65da99a3b413a70b",
     "grade": false,
     "grade_id": "cell-d893fdd4cbcd3c2c",
     "locked": true,
     "schema_version": 3,
     "solution": false,
     "task": false
    },
    "tags": []
   },
   "outputs": [
    {
     "name": "stdout",
     "output_type": "stream",
     "text": [
      "1/1 [==============================] - 0s 223ms/step\n",
      "Các giá trị mà mô hình hồi quy dự đoán trên x_test:  [-4, 0, 4]\n",
      "[[22.469627 ]\n",
      " [10.260622 ]\n",
      " [-1.9483843]]\n"
     ]
    }
   ],
   "source": [
    "x_test = [-4, 0, 4]\n",
    "y_pred = pretrain_lr.predict(x_test)\n",
    "\n",
    "print(\"Các giá trị mà mô hình hồi quy dự đoán trên x_test: \", x_test)\n",
    "print(y_pred)"
   ]
  },
  {
   "cell_type": "markdown",
   "id": "dc2861f5-840e-4ee8-8be6-c8010feb0cee",
   "metadata": {
    "deletable": false,
    "editable": false,
    "nbgrader": {
     "cell_type": "markdown",
     "checksum": "a128bd110df9d25ab230b13875661138",
     "grade": false,
     "grade_id": "cell-cbe9714134925bf2",
     "locked": true,
     "schema_version": 3,
     "solution": false,
     "task": false
    },
    "tags": []
   },
   "source": [
    "Các giá trị này khá khớp với giá trị dự đoán ở trên."
   ]
  }
 ],
 "metadata": {
  "kernelspec": {
   "display_name": "Python 3 (ipykernel)",
   "language": "python",
   "name": "python3"
  },
  "language_info": {
   "codemirror_mode": {
    "name": "ipython",
    "version": 3
   },
   "file_extension": ".py",
   "mimetype": "text/x-python",
   "name": "python",
   "nbconvert_exporter": "python",
   "pygments_lexer": "ipython3",
   "version": "3.9.15"
  }
 },
 "nbformat": 4,
 "nbformat_minor": 5
}
