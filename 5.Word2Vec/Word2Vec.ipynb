{
 "cells": [
  {
   "cell_type": "markdown",
   "metadata": {},
   "source": [
    "Before you turn this problem in, make sure everything runs as expected. First, **restart the kernel** (in the menubar, select Kernel$\\rightarrow$Restart) and then step by step run the code blocks. If you pass all code blocks, remember to **Save** and **Submit** your notebook to the system.\n",
    "\n",
    "Make sure you fill in any place that says `YOUR CODE HERE` or \"YOUR ANSWER HERE\", as well as your name and collaborators below:"
   ]
  },
  {
   "cell_type": "code",
   "execution_count": 1,
   "metadata": {},
   "outputs": [],
   "source": [
    "NAME = \"Nguyễn Duy Đạt\""
   ]
  },
  {
   "cell_type": "markdown",
   "metadata": {},
   "source": [
    "---"
   ]
  },
  {
   "cell_type": "markdown",
   "metadata": {
    "deletable": false,
    "editable": false,
    "id": "IUV3Nu6Vrl4h",
    "nbgrader": {
     "cell_type": "markdown",
     "checksum": "5179bb39049f8174011b4ab38687f4f6",
     "grade": false,
     "grade_id": "cell-3679f8286c671122",
     "locked": true,
     "schema_version": 3,
     "solution": false,
     "task": false
    },
    "tags": []
   },
   "source": [
    "# WORD2VEC TUTORIAL - Mô hình hóa từ ngữ với Word2Vec"
   ]
  },
  {
   "cell_type": "markdown",
   "metadata": {
    "deletable": false,
    "editable": false,
    "id": "KHFT1gbJxCO0",
    "nbgrader": {
     "cell_type": "markdown",
     "checksum": "fd195c77d5ba148af209332824cb56fe",
     "grade": false,
     "grade_id": "cell-27b01d8dc6eeef82",
     "locked": true,
     "schema_version": 3,
     "solution": false,
     "task": false
    },
    "tags": []
   },
   "source": [
    "*Word2vec* (W2V) là một mô hình đơn giản và nổi tiếng giúp tạo ra các *biểu diễn* (*embedding*) của từ trong một không gian vector:\n",
    "- Có số chiều biểu diễn **thấp hơn nhiều lần** so với cách sử dụng từ điển (hàng trăm so với hàng triệu chiều)\n",
    "- Các từ có có **tính chất giống nhau** thì biểu diễn trong không gian embedding cũng **tương tự nhau**\n",
    "\n",
    "*Word2vec* sau đó được sử dụng như là bước xử lý đầu vào bắt buộc cho nhiều bài toán/mô hình sau này.\n",
    "\n",
    "Ý tưởng cơ bản của word2vec có thể được gói gọn trong các ý sau:\n",
    "\n",
    "1. Hai từ xuất hiện trong những văn cảnh giống nhau thường có ý nghĩa gần với nhau.\n",
    "\n",
    "2. Ta có thể đoán được một từ nếu biết các từ xung quanh nó trong câu. Ví dụ, với câu “Hà Nội là … của Việt Nam” thì từ trong dấu ba chấm khả năng cao là “thủ đô”. Với câu hoàn chỉnh “Hà Nội là thủ đô của Việt Nam”, mô hình word2vec sẽ xây dựng ra embedding của các từ sao cho xác suất để từ trong dấu ba chấm là “thủ đô” là cao nhất.\n",
    "\n",
    "(Trích *[machinelearningcoban.com](https://machinelearningcoban.com/tabml_book/ch_embedding/word2vec.html)*)\n",
    "\n"
   ]
  },
  {
   "cell_type": "markdown",
   "metadata": {
    "deletable": false,
    "editable": false,
    "id": "sJ5_X-n1qTJS",
    "nbgrader": {
     "cell_type": "markdown",
     "checksum": "a8f4f274a0f499aa0ab98fb89838455b",
     "grade": false,
     "grade_id": "cell-86fca2501634c911",
     "locked": true,
     "schema_version": 3,
     "solution": false,
     "task": false
    },
    "tags": []
   },
   "source": [
    "## Phần 1. Word2Vec với thư viện GenSim"
   ]
  },
  {
   "cell_type": "markdown",
   "metadata": {
    "deletable": false,
    "editable": false,
    "id": "tXLaNiN-zHLY",
    "nbgrader": {
     "cell_type": "markdown",
     "checksum": "b93fd272ee08c6bd75c1572f831a38a9",
     "grade": false,
     "grade_id": "cell-5ee603bd46326686",
     "locked": true,
     "schema_version": 3,
     "solution": false,
     "task": false
    },
    "tags": []
   },
   "source": [
    "Khai báo các thư viện và hàm cần dùng"
   ]
  },
  {
   "cell_type": "code",
   "execution_count": 2,
   "metadata": {
    "deletable": false,
    "editable": false,
    "id": "y91hpzv0sezb",
    "nbgrader": {
     "cell_type": "code",
     "checksum": "a64410c75e42cc66d61622e5355457c8",
     "grade": true,
     "grade_id": "cell-af5ee9e21f00c461",
     "locked": true,
     "points": 0,
     "schema_version": 3,
     "solution": false,
     "task": false
    },
    "tags": []
   },
   "outputs": [],
   "source": [
    "# Sử dụng thư viện GenSim cho Word2Vec\n",
    "import gensim\n",
    "from numpy import dot\n",
    "from numpy.linalg import norm\n",
    "import numpy as np\n",
    "\n",
    "cos_sim = lambda a,b: dot(a, b)/(norm(a)*norm(b))"
   ]
  },
  {
   "cell_type": "markdown",
   "metadata": {
    "deletable": false,
    "editable": false,
    "id": "2Hx6zC5EtHUS",
    "nbgrader": {
     "cell_type": "markdown",
     "checksum": "243990ec7b847ebd5e438dc1dbf31ccb",
     "grade": false,
     "grade_id": "cell-bb51d5f676e2fed4",
     "locked": true,
     "schema_version": 3,
     "solution": false,
     "task": false
    },
    "tags": []
   },
   "source": [
    "### Tải mô hình huấn luyện sẵn\n",
    "\n",
    "Mô hình Word2Vec được huấn luyện sẵn với một lượng lớn dữ liệu (hàng triệu văn bản), sử dụng nhiều tài nguyên tính toán GPUs và có thể tốn đến hàng tuần để huấn luyện. Do đó, việc tận dụng mô hình huấn luyện sẵn là phương án khả thi và phù hợp với đại đa số người dùng. \n",
    "\n",
    "Để tải mô hình Word2Vec huấn luyện sẵn, các bạn có thể sử dụng lệnh 'wget' với đường dẫn đã được chuẩn bị sẵn ở phần code. Để biết thêm thông tin về mô hình này, các bạn có thể tham khảo đường dẫn sau: https://fasttext.cc\n",
    "\n",
    "Sẽ mất khoảng 1 phút để tải và giải nén mô hình tùy thuộc vào tốc độ mạng của bạn.\n",
    "\n",
    "**Ở đây, server đã tải sẵn cho các bạn mô hình này, các bạn chỉ cần sử dụng.** \n",
    "\n",
    "**Việc tải về file và giải nén chỉ cần thiết khi các bạn sử dụng trên các nền tảng khác(Ví dụ Colab)**"
   ]
  },
  {
   "cell_type": "code",
   "execution_count": null,
   "metadata": {
    "colab": {
     "base_uri": "https://localhost:8080/"
    },
    "deletable": false,
    "editable": false,
    "id": "kg2t75o0fD2_",
    "nbgrader": {
     "cell_type": "code",
     "checksum": "e781b4860965e22f984649225501e9ce",
     "grade": false,
     "grade_id": "cell-7dcc7a271b6776ae",
     "locked": true,
     "schema_version": 3,
     "solution": false,
     "task": false
    },
    "outputId": "68605b80-8457-4224-c882-b004eafb4787",
    "tags": []
   },
   "outputs": [],
   "source": [
    "# Tải file nén mô hình W2V đã được huấn luyện\n",
    "# !wget https://dl.fbaipublicfiles.com/fasttext/vectors-english/wiki-news-300d-1M.vec.zip\n",
    "\n",
    "# Giải nén file mô hình\n",
    "# !unzip wiki-news-300d-1M.vec.zip"
   ]
  },
  {
   "cell_type": "markdown",
   "metadata": {
    "deletable": false,
    "editable": false,
    "id": "3w4257_ButWi",
    "nbgrader": {
     "cell_type": "markdown",
     "checksum": "0c948e29569429f7111d7051168b57fd",
     "grade": false,
     "grade_id": "cell-3dfa5df00e1276b6",
     "locked": true,
     "schema_version": 3,
     "solution": false,
     "task": false
    },
    "tags": []
   },
   "source": [
    "Chúng ta sẽ sử dụng thư viện 'gensim' để load mô hình đã tải về. Các bạn đợi khoảng 3-4 phút nhé!"
   ]
  },
  {
   "cell_type": "code",
   "execution_count": 136,
   "metadata": {
    "deletable": false,
    "editable": false,
    "id": "vwUUJQ1EfrYd",
    "nbgrader": {
     "cell_type": "code",
     "checksum": "2bc79c83a496570e3492992beb74be63",
     "grade": false,
     "grade_id": "cell-add267b18749434b",
     "locked": true,
     "schema_version": 3,
     "solution": false,
     "task": false
    },
    "tags": []
   },
   "outputs": [],
   "source": [
    "model_path = '/data/cs2230/wiki-news-300d-1M.vec'\n",
    "model = gensim.models.KeyedVectors.load_word2vec_format(model_path, binary=False)"
   ]
  },
  {
   "cell_type": "markdown",
   "metadata": {
    "deletable": false,
    "editable": false,
    "id": "lDZEs0p_vmx6",
    "nbgrader": {
     "cell_type": "markdown",
     "checksum": "adec2f1a61b8fa796805fd4fafc4c6af",
     "grade": false,
     "grade_id": "cell-ce9735c1ae9d9a38",
     "locked": true,
     "schema_version": 3,
     "solution": false,
     "task": false
    },
    "tags": []
   },
   "source": [
    "### Các thao tác cơ bản\n",
    "\n",
    "\n",
    "Ở bước đầu tiên này, chúng ta cùng xem thử mô hình W2V biểu diễn một 'token' bất kì dưới dạng vector đặc trưng như thế nào nhé!\n",
    "\n",
    "Lấy ví dụ, chúng ta cùng thử với từ khóa `'king'` trở thành một vector 300 chiều."
   ]
  },
  {
   "cell_type": "code",
   "execution_count": 8,
   "metadata": {
    "deletable": false,
    "id": "9AtOICF8FS2Z",
    "nbgrader": {
     "cell_type": "code",
     "checksum": "20da658aae6ada442a3e0817d0c3f5b0",
     "grade": false,
     "grade_id": "cell-66cf494cb5b560cc",
     "locked": false,
     "schema_version": 3,
     "solution": true,
     "task": false
    },
    "tags": []
   },
   "outputs": [],
   "source": [
    "king_vec = None\n",
    "\n",
    "# TODO: Đưa từ khóa 'king' làm input để mô hình huấn luyện sẵn dự đoán ra vector biểu diễn của nó\n",
    "# YOUR CODE HERE\n",
    "king_vec = model.get_vector('king')"
   ]
  },
  {
   "cell_type": "markdown",
   "metadata": {
    "deletable": false,
    "editable": false,
    "id": "YVOFayPawcip",
    "nbgrader": {
     "cell_type": "markdown",
     "checksum": "1321936b62eb8dadba095774ad67b8ba",
     "grade": false,
     "grade_id": "cell-5e2559a90b0562fd",
     "locked": true,
     "schema_version": 3,
     "solution": false,
     "task": false
    },
    "tags": []
   },
   "source": [
    "Dưới đây chính là cách mà mô hình W2V hiểu về từ khóa `'king'` mà chúng ta vừa đưa vào mô hình:"
   ]
  },
  {
   "cell_type": "code",
   "execution_count": 9,
   "metadata": {
    "deletable": false,
    "editable": false,
    "id": "EMyp7XZ8wiPx",
    "nbgrader": {
     "cell_type": "code",
     "checksum": "d67752f81e1603e5025a9d7ae9cb77e2",
     "grade": false,
     "grade_id": "cell-da09cfce0f77d63d",
     "locked": true,
     "schema_version": 3,
     "solution": false,
     "task": false
    },
    "tags": []
   },
   "outputs": [
    {
     "name": "stdout",
     "output_type": "stream",
     "text": [
      "[ 1.082e-01  4.450e-02 -3.840e-02  1.100e-03 -8.880e-02  7.130e-02\n",
      " -6.960e-02 -4.770e-02  7.100e-03 -4.080e-02 -7.070e-02 -2.660e-02\n",
      "  5.000e-02 -8.240e-02  8.480e-02 -1.627e-01 -8.510e-02 -2.950e-02\n",
      "  1.534e-01 -1.828e-01 -2.208e-01  2.430e-02 -9.210e-02 -1.089e-01\n",
      " -1.009e-01 -1.190e-02  3.770e-02  2.038e-01  7.200e-02  2.020e-02\n",
      "  2.798e-01  1.150e-02 -1.510e-02  1.037e-01  4.000e-04 -1.040e-02\n",
      "  1.960e-02  1.265e-01  8.280e-02 -1.369e-01  1.070e-01  1.270e-01\n",
      " -3.490e-02 -6.830e-02 -1.140e-02  3.370e-02  1.260e-02  7.920e-02\n",
      "  4.400e-02 -2.530e-02  4.890e-02 -7.850e-02 -6.259e-01 -9.720e-02\n",
      "  1.654e-01 -5.780e-02 -4.370e-02  4.090e-02 -1.820e-02 -1.891e-01\n",
      "  2.770e-02 -1.460e-02 -5.310e-02  4.260e-02  4.900e-03  4.000e-03\n",
      "  1.423e-01 -9.750e-02 -3.500e-03  9.630e-02 -1.900e-03 -1.466e-01\n",
      " -1.662e-01  6.650e-02 -1.500e-01 -1.267e-01  2.670e-02 -1.560e-01\n",
      " -1.442e-01  1.515e-01  2.420e-02 -6.080e-02  9.180e-02 -2.407e-01\n",
      " -4.110e-02 -1.420e-02  6.550e-02 -3.590e-02  1.459e-01  9.400e-02\n",
      "  1.590e-02  6.380e-02 -1.077e-01 -5.170e-02 -1.370e-02  5.120e-02\n",
      " -2.750e-02 -5.070e-02  6.900e-03  3.660e-02 -1.529e-01 -1.813e-01\n",
      "  3.390e-02 -8.510e-02 -5.400e-02  1.180e-01  1.039e-01  6.190e-02\n",
      " -2.350e-02 -1.150e-02  1.648e-01  9.360e-02 -5.000e-03 -9.790e-02\n",
      " -5.890e-02 -7.210e-02 -1.586e-01  2.270e-02 -4.460e-02 -3.398e-01\n",
      " -2.840e-02 -2.507e-01  4.510e-02 -1.226e-01  8.000e-02  2.365e-01\n",
      "  7.560e-02 -8.530e-02  1.157e-01  2.780e-02  7.100e-02 -1.314e-01\n",
      " -4.630e-02  4.270e-02 -5.050e-02 -2.490e-02  1.182e-01  4.810e-02\n",
      " -1.085e-01 -1.600e-02  3.900e-03 -3.860e-02  1.551e-01  2.695e-01\n",
      "  7.070e-02 -8.420e-02  1.167e-01  8.450e-02 -1.040e-02  2.060e-02\n",
      "  4.690e-02  5.700e-03  8.970e-02  7.230e-02  2.220e-02  7.270e-02\n",
      "  6.420e-02 -2.350e-02 -2.160e-02 -6.010e-02  5.370e-02 -2.842e-01\n",
      " -1.047e-01  1.733e-01  2.100e-03 -1.050e-02  1.143e-01  2.150e-02\n",
      "  7.400e-03 -5.040e-02 -4.900e-03  1.190e-02 -2.700e-02  1.450e-02\n",
      "  9.670e-02  9.030e-02  3.145e-01  1.222e-01  9.850e-02  2.126e-01\n",
      " -1.030e-01  7.930e-02 -7.870e-02 -5.930e-02  7.390e-02 -6.960e-02\n",
      " -8.180e-02  3.200e-02 -1.808e-01  4.770e-02  8.250e-02 -1.270e-02\n",
      "  1.445e-01 -6.050e-02 -5.130e-02  9.450e-02 -1.030e-01  4.750e-02\n",
      "  9.820e-02  2.402e-01  8.600e-03 -2.410e-02 -3.320e-02  4.300e-02\n",
      " -4.170e-02  1.990e-02 -5.280e-02 -6.300e-02  3.470e-02  5.800e-02\n",
      " -2.600e-02  1.113e-01  9.890e-02 -3.800e-03 -1.272e-01 -9.790e-02\n",
      "  4.500e-03  6.100e-03 -3.980e-02 -8.500e-03 -3.500e-03 -1.191e-01\n",
      " -9.490e-02  1.230e-02  1.705e-01 -2.065e-01  5.500e-02  4.530e-02\n",
      "  4.240e-02 -5.780e-02 -3.480e-02 -1.770e-02  3.437e-01 -6.590e-02\n",
      "  9.240e-02 -1.122e-01 -1.588e-01  1.068e-01 -3.029e-01  1.800e-03\n",
      "  3.170e-02  1.857e-01  3.600e-02  8.290e-02  2.240e-02  9.340e-02\n",
      " -4.750e-02  1.719e-01  1.500e-03  4.849e-01 -2.280e-02 -9.020e-02\n",
      "  4.650e-02 -1.087e-01  1.374e-01  1.150e-02 -1.246e-01  5.090e-02\n",
      "  1.578e-01 -1.667e-01 -3.400e-02  4.690e-02  5.680e-02  1.599e-01\n",
      " -3.915e-01  3.560e-02  2.870e-02 -2.275e-01 -1.378e-01 -2.650e-02\n",
      " -1.115e-01  1.804e-01  7.960e-02 -9.870e-02  9.050e-02  3.556e-01\n",
      "  2.400e-02  2.460e-02  2.830e-02  6.090e-02 -2.270e-02 -4.690e-02\n",
      " -5.350e-02  4.400e-02  1.021e-01 -1.398e-01  5.370e-02 -2.549e-01\n",
      "  8.270e-02 -1.011e-01  4.700e-03 -7.120e-02  1.442e-01 -7.000e-02\n",
      "  1.230e-02  3.440e-02 -5.700e-02  1.580e-02  5.440e-02  2.560e-02]\n"
     ]
    }
   ],
   "source": [
    "print(king_vec)"
   ]
  },
  {
   "cell_type": "code",
   "execution_count": 10,
   "metadata": {
    "deletable": false,
    "editable": false,
    "id": "1mS6JJbDFhtd",
    "nbgrader": {
     "cell_type": "code",
     "checksum": "d874f82e513b588184d27a4b5c94c7a8",
     "grade": true,
     "grade_id": "cell-fe047ee4370f14bf",
     "locked": true,
     "points": 5,
     "schema_version": 3,
     "solution": false,
     "task": false
    },
    "tags": []
   },
   "outputs": [],
   "source": [
    "# Kiểm tra một số phần tử trong vector biểu diễn\n",
    "assert king_vec[0] - 0.1082 < 1e-9\n",
    "assert king_vec[200] - 0.0086 < 1e-9"
   ]
  },
  {
   "cell_type": "code",
   "execution_count": 11,
   "metadata": {
    "deletable": false,
    "editable": false,
    "id": "OtjPsZkT5Fe3",
    "nbgrader": {
     "cell_type": "code",
     "checksum": "658c86395932201df28b9021faa67275",
     "grade": true,
     "grade_id": "cell-b8b646623417ba27",
     "locked": true,
     "points": 5,
     "schema_version": 3,
     "solution": false,
     "task": false
    },
    "tags": []
   },
   "outputs": [],
   "source": [
    "# Kiểm tra với bộ test ẩn"
   ]
  },
  {
   "cell_type": "markdown",
   "metadata": {
    "deletable": false,
    "editable": false,
    "id": "i6fPW9uAwxn6",
    "nbgrader": {
     "cell_type": "markdown",
     "checksum": "bed26c9cbe02d8611bc4a7fc7ab42f4d",
     "grade": false,
     "grade_id": "cell-89d22aaea4e8d585",
     "locked": true,
     "schema_version": 3,
     "solution": false,
     "task": false
    },
    "tags": []
   },
   "source": [
    "Những con số mà chúng ta thấy ở trên, chắc chắn chúng ta sẽ không hiểu ý nghĩa của chúng. Thế nhưng, mô hình W2V sẽ hiểu và có thể dùng những con số này để so sánh tính tương đồng giữa các từ khóa mà chúng ta đưa vào mô hình.\n",
    "\n",
    "Làm ví dụ dưới đây để thấy mối quan hệ giữa `king` và `queen` sẽ có tính tương đồng cao hơn so với `king` và `car`:"
   ]
  },
  {
   "cell_type": "code",
   "execution_count": 13,
   "metadata": {
    "colab": {
     "base_uri": "https://localhost:8080/"
    },
    "deletable": false,
    "id": "QqE-0XaFxOeS",
    "nbgrader": {
     "cell_type": "code",
     "checksum": "a0950d9fbe4040beacd1a3bf2b1d50cb",
     "grade": false,
     "grade_id": "cell-cc445f6faf4cda46",
     "locked": false,
     "schema_version": 3,
     "solution": true,
     "task": false
    },
    "outputId": "9b078ef2-411a-41cc-a11e-393d0c71a282",
    "tags": []
   },
   "outputs": [],
   "source": [
    "# TODO: Tương tự như việc tạo ra vector biểu diễn của `king`, các bạn hãy tạo ra vector biểu diễn cho `queen` và `car`\n",
    "queen_vec = None\n",
    "car_vec = None\n",
    "\n",
    "# YOUR CODE HERE\n",
    "queen_vec = model.get_vector('queen')\n",
    "car_vec = model.get_vector('car')"
   ]
  },
  {
   "cell_type": "code",
   "execution_count": 14,
   "metadata": {
    "deletable": false,
    "editable": false,
    "id": "hP5yqSCoLnrU",
    "nbgrader": {
     "cell_type": "code",
     "checksum": "b9daca616749a95649d25cdd1877f26e",
     "grade": true,
     "grade_id": "cell-dca32f1d7ee84341",
     "locked": true,
     "points": 5,
     "schema_version": 3,
     "solution": false,
     "task": false
    },
    "tags": []
   },
   "outputs": [],
   "source": [
    "# Kiểm tra một số phần tử trong vector biểu diễn\n",
    "assert queen_vec[0] - 0.2158 < 1e-8\n",
    "assert car_vec[200] + 0.0224 < 1e-8"
   ]
  },
  {
   "cell_type": "code",
   "execution_count": 15,
   "metadata": {
    "deletable": false,
    "editable": false,
    "id": "Ytnp7em4LnrV",
    "nbgrader": {
     "cell_type": "code",
     "checksum": "4a15425651a19de31facdd2a1d16cdac",
     "grade": true,
     "grade_id": "cell-92c6eb4562e70dae",
     "locked": true,
     "points": 5,
     "schema_version": 3,
     "solution": false,
     "task": false
    },
    "tags": []
   },
   "outputs": [],
   "source": [
    "# Kiểm tra với bộ test ẩn"
   ]
  },
  {
   "cell_type": "markdown",
   "metadata": {
    "deletable": false,
    "editable": false,
    "id": "hrDbQ7lELZga",
    "nbgrader": {
     "cell_type": "markdown",
     "checksum": "0f69016f594e3f1141869a26d88c7261",
     "grade": false,
     "grade_id": "cell-d2c13c5741ff7047",
     "locked": true,
     "schema_version": 3,
     "solution": false,
     "task": false
    },
    "tags": []
   },
   "source": [
    "Chúng ta có thể sử dụng `cosine similarity` để đo độ tương đồng giữa các vector biểu diễn này."
   ]
  },
  {
   "cell_type": "code",
   "execution_count": 44,
   "metadata": {
    "colab": {
     "base_uri": "https://localhost:8080/"
    },
    "deletable": false,
    "id": "snqjW1epPpNg",
    "nbgrader": {
     "cell_type": "code",
     "checksum": "8f5ecfdc2d4fb8258cb03ff73317da9d",
     "grade": false,
     "grade_id": "cell-e04a94f7499ed248",
     "locked": false,
     "schema_version": 3,
     "solution": true,
     "task": false
    },
    "outputId": "6c73351b-13a0-4761-b087-bfb5e30c138d",
    "tags": []
   },
   "outputs": [
    {
     "name": "stdout",
     "output_type": "stream",
     "text": [
      "Độ tương đồng của `king` và `queen` là: 0.7638539\n"
     ]
    }
   ],
   "source": [
    "# TODO: Tính độ tương đồng cosine similarity của `king` và `queen`:\n",
    "\n",
    "king_queen_sim = None\n",
    "# YOUR CODE HERE\n",
    "king_queen_sim = cos_sim(king_vec, queen_vec)\n",
    "print('Độ tương đồng của `king` và `queen` là:', king_queen_sim)"
   ]
  },
  {
   "cell_type": "code",
   "execution_count": null,
   "metadata": {
    "deletable": false,
    "editable": false,
    "id": "64EWklw_M1md",
    "nbgrader": {
     "cell_type": "code",
     "checksum": "626c02c71c73af70f0671c64ffc5aa22",
     "grade": true,
     "grade_id": "cell-838e3769202d67b5",
     "locked": true,
     "points": 5,
     "schema_version": 3,
     "solution": false,
     "task": false
    },
    "tags": []
   },
   "outputs": [],
   "source": [
    "# Kiểm tra với bộ test ẩn"
   ]
  },
  {
   "cell_type": "markdown",
   "metadata": {
    "deletable": false,
    "editable": false,
    "id": "JIbVOtTOwhEp",
    "nbgrader": {
     "cell_type": "markdown",
     "checksum": "39d3646c4136640f0dd6e1a921cf047e",
     "grade": false,
     "grade_id": "cell-bfdc42cab0559ceb",
     "locked": true,
     "schema_version": 3,
     "solution": false,
     "task": false
    },
    "tags": []
   },
   "source": [
    "Hãy thử với nhiều cặp từ hơn để hiểu hơn về độ tương đồng giữa chúng. \n",
    "Nếu từ khóa A và từ khóa B có ý nghĩa tương tự, vector biểu diễn của chúng cũng sẽ tương đồng với nhau, vì thế độ tương đồng trả về sẽ có giá trị cao hơn.\n",
    "\n",
    "Cùng thử với các từ khóa sau: `'like'`, `'love'` và `'hate'`."
   ]
  },
  {
   "cell_type": "markdown",
   "metadata": {
    "deletable": false,
    "editable": false,
    "id": "W7tBtIwVnDIj",
    "nbgrader": {
     "cell_type": "markdown",
     "checksum": "e5291e850e05e89b35b012e368bb682f",
     "grade": false,
     "grade_id": "cell-e567e92dbd0e209e",
     "locked": true,
     "schema_version": 3,
     "solution": false,
     "task": false
    },
    "tags": []
   },
   "source": [
    "CÁCH 1: Sử dụng DOT PRODUCT"
   ]
  },
  {
   "cell_type": "code",
   "execution_count": 22,
   "metadata": {
    "colab": {
     "base_uri": "https://localhost:8080/"
    },
    "deletable": false,
    "id": "Ckbqgun1mmLS",
    "nbgrader": {
     "cell_type": "code",
     "checksum": "9b5e72e12f9b26f3ba25f77cc886a753",
     "grade": false,
     "grade_id": "cell-177e0859eaf6f597",
     "locked": false,
     "schema_version": 3,
     "solution": true,
     "task": false
    },
    "outputId": "74f1aa38-a675-48e9-a3ed-a9d8c7e63f89",
    "tags": []
   },
   "outputs": [
    {
     "name": "stdout",
     "output_type": "stream",
     "text": [
      "Độ tương đồng của like và love là: 1.609117\n",
      "Độ tương đồng của like và hate là: 1.8135115\n",
      "Độ tương đồng của love và hate là: 2.8157127\n"
     ]
    }
   ],
   "source": [
    "words = [\n",
    "    'like love',\n",
    "    'like hate',\n",
    "    'love hate',\n",
    "]\n",
    "w1_w2_sim_storage = []\n",
    "\n",
    "for w in words:\n",
    "    w1, w2 = w.split()\n",
    "\n",
    "    # TODO: Tính độ tương đồng của các cặp từ đã cho trong list `words` sử dụng DOT PRODUCT\n",
    "    w1_w2_sim = None\n",
    "    # YOUR CODE HERE\n",
    "    w1_vec = model.get_vector(w1)\n",
    "    w2_vec = model.get_vector(w2)\n",
    "    w1_w2_sim = dot(w1_vec, w2_vec)\n",
    "    w1_w2_sim_storage.append(w1_w2_sim)\n",
    "\n",
    "    print(f\"Độ tương đồng của {w1} và {w2} là:\", w1_w2_sim)"
   ]
  },
  {
   "cell_type": "code",
   "execution_count": 23,
   "metadata": {
    "deletable": false,
    "editable": false,
    "id": "8MFMZcLKm_jV",
    "nbgrader": {
     "cell_type": "code",
     "checksum": "8dbc87e78db22366152a509b099aa321",
     "grade": true,
     "grade_id": "cell-3836e0dbc8ca76cb",
     "locked": true,
     "points": 5,
     "schema_version": 3,
     "solution": false,
     "task": false
    },
    "tags": []
   },
   "outputs": [],
   "source": [
    "assert w1_w2_sim_storage[0] *2 - 3.2 < 2e-1\n",
    "assert w1_w2_sim_storage[1] *2 - 3.5 < 2e-1\n",
    "assert w1_w2_sim_storage[2] *2 - 5.5 < 2e-1"
   ]
  },
  {
   "cell_type": "code",
   "execution_count": 24,
   "metadata": {
    "deletable": false,
    "editable": false,
    "id": "FHg4ngWum_jV",
    "nbgrader": {
     "cell_type": "code",
     "checksum": "bc72f06fa440dd76b8d599a8bbc439a2",
     "grade": true,
     "grade_id": "cell-69319fef0d131bac",
     "locked": true,
     "points": 5,
     "schema_version": 3,
     "solution": false,
     "task": false
    },
    "tags": []
   },
   "outputs": [],
   "source": [
    "# Kiểm tra với bộ test ẩn"
   ]
  },
  {
   "cell_type": "markdown",
   "metadata": {
    "deletable": false,
    "editable": false,
    "id": "MES4T9dInGTh",
    "nbgrader": {
     "cell_type": "markdown",
     "checksum": "4d5fb09861bb6a95af0ba998f4331f63",
     "grade": false,
     "grade_id": "cell-e25f36abce550fc7",
     "locked": true,
     "schema_version": 3,
     "solution": false,
     "task": false
    },
    "tags": []
   },
   "source": [
    "CÁCH 2: Sử dụng độ tương đồng tính theo khoảng cách cosine"
   ]
  },
  {
   "cell_type": "code",
   "execution_count": 45,
   "metadata": {
    "colab": {
     "base_uri": "https://localhost:8080/"
    },
    "deletable": false,
    "id": "oXio2ygcy2pC",
    "nbgrader": {
     "cell_type": "code",
     "checksum": "9b51a50c5886176eea3e18c9f01f1739",
     "grade": false,
     "grade_id": "cell-8211e273e4cfad87",
     "locked": false,
     "schema_version": 3,
     "solution": true,
     "task": false
    },
    "outputId": "ca5d9c45-0fdf-4532-d395-e33537905017",
    "tags": []
   },
   "outputs": [
    {
     "name": "stdout",
     "output_type": "stream",
     "text": [
      "Độ tương đồng của like và love là: 0.50099474\n",
      "Độ tương đồng của like và hate là: 0.52742887\n",
      "Độ tương đồng của love và hate là: 0.712714\n"
     ]
    }
   ],
   "source": [
    "words = [\n",
    "    'like love',\n",
    "    'like hate',\n",
    "    'love hate',\n",
    "]\n",
    "w1_w2_sim_storage = []\n",
    "\n",
    "for w in words:\n",
    "    w1, w2 = w.split()\n",
    "\n",
    "    # TODO: Tính độ tương đồng của các cặp từ đã cho trong list `words`\n",
    "    w1_w2_sim = None\n",
    "    # YOUR CODE HERE\n",
    "    w1_vec = model.get_vector(w1)\n",
    "    w2_vec = model.get_vector(w2)\n",
    "    w1_w2_sim = cos_sim(w1_vec, w2_vec)\n",
    "    w1_w2_sim_storage.append(w1_w2_sim)\n",
    "\n",
    "    print(f\"Độ tương đồng của {w1} và {w2} là:\", w1_w2_sim)"
   ]
  },
  {
   "cell_type": "code",
   "execution_count": 26,
   "metadata": {
    "deletable": false,
    "editable": false,
    "id": "nru22_3KOdWo",
    "nbgrader": {
     "cell_type": "code",
     "checksum": "bb453d6ddd96a576753698fc9cd35e72",
     "grade": true,
     "grade_id": "cell-ae4255fb8e12d4d6",
     "locked": true,
     "points": 5,
     "schema_version": 3,
     "solution": false,
     "task": false
    },
    "tags": []
   },
   "outputs": [],
   "source": [
    "assert w1_w2_sim_storage[0] *2 - 1 < 1e-2\n",
    "assert w1_w2_sim_storage[1] *2 - 1 < 1e-1\n",
    "assert w1_w2_sim_storage[2] *2 - 1 < 1e-0"
   ]
  },
  {
   "cell_type": "code",
   "execution_count": 27,
   "metadata": {
    "deletable": false,
    "editable": false,
    "id": "lKj37__FPKkN",
    "nbgrader": {
     "cell_type": "code",
     "checksum": "75089a4a42d188b0febcbdfa4d5dc2ea",
     "grade": true,
     "grade_id": "cell-5ab3c11be7ddfa47",
     "locked": true,
     "points": 5,
     "schema_version": 3,
     "solution": false,
     "task": false
    },
    "tags": []
   },
   "outputs": [],
   "source": [
    "# Kiểm tra với bộ test ẩn"
   ]
  },
  {
   "cell_type": "markdown",
   "metadata": {
    "deletable": false,
    "editable": false,
    "id": "Q-R9BGyFPeVt",
    "nbgrader": {
     "cell_type": "markdown",
     "checksum": "951f778e87af4fa7361838112fa4a766",
     "grade": false,
     "grade_id": "cell-df46f3789fb534ed",
     "locked": true,
     "schema_version": 3,
     "solution": false,
     "task": false
    },
    "tags": []
   },
   "source": [
    "Độ tương đồng tính bằng khoảng cách cosine của `love` và `hate` là bao nhiêu?"
   ]
  },
  {
   "cell_type": "code",
   "execution_count": 28,
   "metadata": {
    "colab": {
     "base_uri": "https://localhost:8080/"
    },
    "deletable": false,
    "id": "-rj0KvPkOPJi",
    "nbgrader": {
     "cell_type": "code",
     "checksum": "a5357511bfb6aca0aecb54720b0818f6",
     "grade": false,
     "grade_id": "cell-4ea9d1519bd7a26e",
     "locked": false,
     "schema_version": 3,
     "solution": true,
     "task": false
    },
    "outputId": "8a8943d1-b7eb-4848-f1f5-98dc0d56ce8b",
    "tags": []
   },
   "outputs": [
    {
     "name": "stdout",
     "output_type": "stream",
     "text": [
      "Độ tương đồng tính bằng khoảng cách cosine của `love` và `hate` là khoảng 70%\n"
     ]
    }
   ],
   "source": [
    "options = ['khoảng 50%', \n",
    "           'khoảng 60%', \n",
    "           'khoảng 70%', \n",
    "           'khoảng 80%']\n",
    "your_choice = None\n",
    "\n",
    "# Hãy chọn your_choice bằng 0, 1, 2 hoặc 3 tương ứng với các lựa chọn ở trên\n",
    "# YOUR CODE HERE\n",
    "your_choice = 2\n",
    "\n",
    "print(\"Độ tương đồng tính bằng khoảng cách cosine của `love` và `hate` là\", options[your_choice])"
   ]
  },
  {
   "cell_type": "code",
   "execution_count": 29,
   "metadata": {
    "deletable": false,
    "editable": false,
    "id": "9KdvIrw8OQwr",
    "nbgrader": {
     "cell_type": "code",
     "checksum": "1fb71f585498260500a40c88f7f21306",
     "grade": true,
     "grade_id": "cell-7116be91fa046f9d",
     "locked": true,
     "points": 5,
     "schema_version": 3,
     "solution": false,
     "task": false
    },
    "tags": []
   },
   "outputs": [],
   "source": [
    "# Bộ test ẩn"
   ]
  },
  {
   "cell_type": "markdown",
   "metadata": {
    "deletable": false,
    "editable": false,
    "id": "k8uoDaiDzaci",
    "nbgrader": {
     "cell_type": "markdown",
     "checksum": "16f5dce1bda7a2bddb3bab48cdf75e57",
     "grade": false,
     "grade_id": "cell-2aee69c4da4a91a2",
     "locked": true,
     "schema_version": 3,
     "solution": false,
     "task": false
    },
    "tags": []
   },
   "source": [
    "Trong thực tế, `'love'` và `'hate'` có ngữ nghĩa trong tiếng Anh khác biệt nhau hoàn toàn, yêu thương so với ghét bỏ, trong khi `'love'` và `like'` lại rất khác nhau. \n",
    "Chúng ta có thể dùng từ điển để so sánh ngữ nghĩa của những từ này!\n",
    "\n",
    "Tại sao `'love'` và `'hate'` lại có độ tương đồng cao hơn `'love'` và `like'`?\n",
    "\n"
   ]
  },
  {
   "cell_type": "code",
   "execution_count": 30,
   "metadata": {
    "colab": {
     "base_uri": "https://localhost:8080/"
    },
    "deletable": false,
    "id": "JqNjmH1ViFGs",
    "nbgrader": {
     "cell_type": "code",
     "checksum": "26df8d1fcaf13459f270f894bf432248",
     "grade": false,
     "grade_id": "cell-350dc5fe6ca7775c",
     "locked": false,
     "schema_version": 3,
     "solution": true,
     "task": false
    },
    "outputId": "a5546cfb-47ee-48df-de71-d654d194e183",
    "tags": []
   },
   "outputs": [
    {
     "name": "stdout",
     "output_type": "stream",
     "text": [
      "'love' và 'hate' có độ tương đồng cao hơn 'love' và like' vì 'love' và 'hate' cùng thể hiện một mức độ cảm xúc tương tự nhau\n"
     ]
    }
   ],
   "source": [
    "options = [\"'love' và 'hate' cùng là ngoại động từ\", \n",
    "           \"'love' và 'hate' cùng thể hiện một mức độ cảm xúc tương tự nhau\", \n",
    "           \"'love' và 'like' cùng thể hiện sự yêu thích\", \n",
    "           \"'love' và 'like' cùng thể hiện một mức độ cảm xúc tương tự nhau\"]\n",
    "your_choice = None\n",
    "\n",
    "# Hãy chọn your_choice bằng 0, 1, 2 hoặc 3 tương ứng với các lựa chọn ở trên\n",
    "# YOUR CODE HERE\n",
    "your_choice = 1\n",
    "\n",
    "print(\"'love' và 'hate' có độ tương đồng cao hơn 'love' và like' vì\", options[your_choice])"
   ]
  },
  {
   "cell_type": "code",
   "execution_count": 31,
   "metadata": {
    "deletable": false,
    "editable": false,
    "id": "rjReYGSOjSt0",
    "nbgrader": {
     "cell_type": "code",
     "checksum": "f3ac91d4fadbdbcb4fd2930d1f025d92",
     "grade": true,
     "grade_id": "cell-4498ea07b7ba490d",
     "locked": true,
     "points": 5,
     "schema_version": 3,
     "solution": false,
     "task": false
    },
    "tags": []
   },
   "outputs": [],
   "source": [
    "# Bộ test ẩn"
   ]
  },
  {
   "cell_type": "code",
   "execution_count": 55,
   "metadata": {
    "deletable": false,
    "id": "FiZe6tzdQEMm",
    "nbgrader": {
     "cell_type": "code",
     "checksum": "c98bafe18dd7f89275a39bf99dea802f",
     "grade": false,
     "grade_id": "cell-660fcb6753278162",
     "locked": false,
     "schema_version": 3,
     "solution": true,
     "task": false
    },
    "tags": []
   },
   "outputs": [],
   "source": [
    "classes  = [\"airplane\", \"automobile\", \"bird\", \"cat\", \"deer\", \"dog\", \"frog\", \"horse\", \"ship\", \"truck\",]\n",
    "matrix = None\n",
    "\n",
    "# TODO: dùng mô hình W2V để rút trích đặc trưng và tính ma trận độ tương đồng \n",
    "# giữa các lớp trong cifar10. `matrix` thể hiện độ tượng đồng giữa các lớp:\n",
    "# ví dụ: matrix[0, 1], và matrix[1, 0] là độ tương động giữa \"airplane\" và \"automobile\"\n",
    "# Lưu ý: độ tương đồng giữa \"airplane\" và \"airplane\", tức matrix[0, 0] =1\n",
    "\n",
    "# YOUR CODE HERE\n",
    "classes_vec = list(map(lambda name: model.get_vector(name), classes))\n",
    "matrix = []\n",
    "for i in range(len(classes)):\n",
    "    cos_sim_1_row = list(map(lambda name: cos_sim(classes_vec[i], name), classes_vec))\n",
    "    matrix.append(cos_sim_1_row)\n",
    "matrix = np.array(matrix)"
   ]
  },
  {
   "cell_type": "code",
   "execution_count": 56,
   "metadata": {
    "deletable": false,
    "editable": false,
    "id": "oQStdZ5DpBrU",
    "nbgrader": {
     "cell_type": "code",
     "checksum": "e8d61e7ce1b6594824494c6bcc261a98",
     "grade": true,
     "grade_id": "cell-edd6ea15ae92eb33",
     "locked": true,
     "points": 5,
     "schema_version": 3,
     "solution": false,
     "task": false
    },
    "tags": []
   },
   "outputs": [],
   "source": [
    "# Kiểm tra với bộ test\n",
    "assert matrix.shape == (len(classes), len(classes))\n",
    "assert (matrix-matrix.T<1e-8).all()\n",
    "assert matrix[0, 0] -1 < 1e-4"
   ]
  },
  {
   "cell_type": "code",
   "execution_count": null,
   "metadata": {
    "deletable": false,
    "editable": false,
    "id": "4bJ9rcCIpEjB",
    "nbgrader": {
     "cell_type": "code",
     "checksum": "73b46c885faf59d4f6437c84ca0d0875",
     "grade": true,
     "grade_id": "cell-a5cdda1761368074",
     "locked": true,
     "points": 5,
     "schema_version": 3,
     "solution": false,
     "task": false
    },
    "tags": []
   },
   "outputs": [],
   "source": [
    "# Kiểm tra với bộ test ẩn"
   ]
  },
  {
   "cell_type": "code",
   "execution_count": 57,
   "metadata": {
    "colab": {
     "base_uri": "https://localhost:8080/",
     "height": 863
    },
    "deletable": false,
    "editable": false,
    "id": "0cHozkc3TCQu",
    "nbgrader": {
     "cell_type": "code",
     "checksum": "14f51df54dcc8f26f3e3aba4adcae8de",
     "grade": false,
     "grade_id": "cell-4e340b4ed1858b34",
     "locked": true,
     "schema_version": 3,
     "solution": false,
     "task": false
    },
    "outputId": "90f5aa7a-6167-476d-9a22-a8c8f3d5e78e",
    "tags": []
   },
   "outputs": [
    {
     "data": {
      "text/plain": [
       "<AxesSubplot: >"
      ]
     },
     "execution_count": 57,
     "metadata": {},
     "output_type": "execute_result"
    },
    {
     "data": {
      "image/png": "[encoded data removed]",
      "text/plain": [
       "<Figure size 1500x1500 with 1 Axes>"
      ]
     },
     "metadata": {},
     "output_type": "display_data"
    }
   ],
   "source": [
    "import seaborn as sn\n",
    "import pandas as pd\n",
    "import matplotlib.pyplot as plt\n",
    "\n",
    "pd_matrix = pd.DataFrame(np.around(matrix, 2), index=classes, columns=classes)\n",
    "plt.figure(figsize = (15,15))\n",
    "sn.heatmap(pd_matrix, annot=True, cbar=False, linewidths=0.01, annot_kws={\"fontsize\":15})"
   ]
  },
  {
   "cell_type": "markdown",
   "metadata": {
    "deletable": false,
    "editable": false,
    "id": "o88sFUs0wbdr",
    "nbgrader": {
     "cell_type": "markdown",
     "checksum": "51da3cdd31ea642f3045cff34345cca2",
     "grade": false,
     "grade_id": "cell-c1a65aea021c3064",
     "locked": true,
     "schema_version": 3,
     "solution": false,
     "task": false
    },
    "tags": []
   },
   "source": [
    "### Quy tắc ngôn ngữ học\n",
    "![king_and_queen.png](data:image/png;base64,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)\n"
   ]
  },
  {
   "cell_type": "markdown",
   "metadata": {
    "deletable": false,
    "editable": false,
    "id": "AKUUw_1jaeeX",
    "nbgrader": {
     "cell_type": "markdown",
     "checksum": "dd7ec2387c8a47415a9565aa2e2d5497",
     "grade": false,
     "grade_id": "cell-6c6a4bad4dbbb70f",
     "locked": true,
     "schema_version": 3,
     "solution": false,
     "task": false
    },
    "tags": []
   },
   "source": [
    "Từ hình minh họa, ta có thể thấy vector từ bao hàm nhiều quy tắc về ngôn ngữ, ví dụ \n",
    "\n",
    "vector `model['king'] - model['man'] + model['woman']` sẽ biểu thị `model['queen']`.\n",
    "\n",
    "Chúng ta có thể dùng phương thức `.most_similar()` để hiện thực hóa yêu cầu trên."
   ]
  },
  {
   "cell_type": "code",
   "execution_count": 58,
   "metadata": {
    "colab": {
     "base_uri": "https://localhost:8080/"
    },
    "deletable": false,
    "id": "4P1sECiP02ib",
    "nbgrader": {
     "cell_type": "code",
     "checksum": "3bd5faa56ec14842e2133667dabf5205",
     "grade": false,
     "grade_id": "cell-eae8565fe1b58aa7",
     "locked": false,
     "schema_version": 3,
     "solution": true,
     "task": false
    },
    "outputId": "5e5d25c2-e2b5-42e7-9a93-8bf17aa24ea5",
    "tags": []
   },
   "outputs": [
    {
     "name": "stdout",
     "output_type": "stream",
     "text": [
      "Mô hình cho rằng: king - man + woman = queen với độ tương đồng cao nhất là 0.7515912055969238\n"
     ]
    }
   ],
   "source": [
    "# TODO: Hiện thực hóa yêu cầu trên và kiểm tra xem từ khóa nào được mô hình cho là tương đồng nhất với `king - man + woman`\n",
    "\n",
    "most_similar_list = None\n",
    "# YOUR CODE HERE\n",
    "most_similar_list = model.most_similar(positive=['king', 'woman'], negative=['man'])\n",
    "\n",
    "print(f'Mô hình cho rằng: king - man + woman = {most_similar_list[0][0]} với độ tương đồng cao nhất là {most_similar_list[0][1]}')"
   ]
  },
  {
   "cell_type": "code",
   "execution_count": 59,
   "metadata": {
    "deletable": false,
    "editable": false,
    "id": "kSBKk24hbE8C",
    "nbgrader": {
     "cell_type": "code",
     "checksum": "7bd3713b1f6377d96e8d4da52e770943",
     "grade": true,
     "grade_id": "cell-96611e116c5d0463",
     "locked": true,
     "points": 5,
     "schema_version": 3,
     "solution": false,
     "task": false
    },
    "tags": []
   },
   "outputs": [],
   "source": [
    "assert most_similar_list[2][1] - 0.671 < 1e-3\n",
    "assert most_similar_list[5][0] == 'royal'"
   ]
  },
  {
   "cell_type": "code",
   "execution_count": null,
   "metadata": {
    "deletable": false,
    "editable": false,
    "id": "bO2_QIBebFEO",
    "nbgrader": {
     "cell_type": "code",
     "checksum": "c0e946ac9282720d2ffb4f132987219b",
     "grade": true,
     "grade_id": "cell-4b4140ead1587082",
     "locked": true,
     "points": 5,
     "schema_version": 3,
     "solution": false,
     "task": false
    },
    "tags": []
   },
   "outputs": [],
   "source": [
    "# Kiểm tra với bộ test ẩn"
   ]
  },
  {
   "cell_type": "markdown",
   "metadata": {
    "deletable": false,
    "editable": false,
    "id": "NUF-ekzUcDXe",
    "nbgrader": {
     "cell_type": "markdown",
     "checksum": "41e37e38f8e3ade11dd1b3bdb4ff9d37",
     "grade": false,
     "grade_id": "cell-148f7fa8d4351b0a",
     "locked": true,
     "schema_version": 3,
     "solution": false,
     "task": false
    },
    "tags": []
   },
   "source": [
    "Hãy cùng thử hỏi model W2V xem liệu `'king'` là `'man'` thì `'queen'` sẽ là gì nhỉ?"
   ]
  },
  {
   "cell_type": "markdown",
   "metadata": {
    "deletable": false,
    "editable": false,
    "id": "-Jj76vPLcOIp",
    "nbgrader": {
     "cell_type": "markdown",
     "checksum": "d2e33f9140ba08625102b7c329d46c36",
     "grade": false,
     "grade_id": "cell-f44b13bb723b4205",
     "locked": true,
     "schema_version": 3,
     "solution": false,
     "task": false
    },
    "tags": []
   },
   "source": [
    "Hidden: Gợi ý: king + queen - man\n"
   ]
  },
  {
   "cell_type": "code",
   "execution_count": 60,
   "metadata": {
    "colab": {
     "base_uri": "https://localhost:8080/"
    },
    "deletable": false,
    "id": "hGOZutO3b2PI",
    "nbgrader": {
     "cell_type": "code",
     "checksum": "5db247b27d43863c59e3edc04b6b5f3b",
     "grade": false,
     "grade_id": "cell-66b8a7cd8e8fba59",
     "locked": false,
     "schema_version": 3,
     "solution": true,
     "task": false
    },
    "outputId": "317a04d8-386a-4b1e-991e-39b800021a7b",
    "tags": []
   },
   "outputs": [
    {
     "name": "stdout",
     "output_type": "stream",
     "text": [
      "Mô hình trả về từ khóa queens với độ tương đồng cao nhất là 0.6644245982170105\n"
     ]
    }
   ],
   "source": [
    "# TODO: Hiện thực hóa yêu cầu trên và kiểm tra xem từ khóa nào được mô hình cho là tương đồng nhất\n",
    "\n",
    "most_similar_list = None\n",
    "# YOUR CODE HERE\n",
    "most_similar_list = model.most_similar(positive=['king', 'queen'], negative=['man'])\n",
    "\n",
    "print(f'Mô hình trả về từ khóa {most_similar_list[0][0]} với độ tương đồng cao nhất là {most_similar_list[0][1]}')"
   ]
  },
  {
   "cell_type": "code",
   "execution_count": 61,
   "metadata": {
    "deletable": false,
    "editable": false,
    "id": "sZhnPzwKcbEf",
    "nbgrader": {
     "cell_type": "code",
     "checksum": "f402bd86be4f067d3478423bd1b40fa5",
     "grade": true,
     "grade_id": "cell-6fffc091985a150e",
     "locked": true,
     "points": 5,
     "schema_version": 3,
     "solution": false,
     "task": false
    },
    "tags": []
   },
   "outputs": [],
   "source": [
    "assert most_similar_list[1][1] - 0.603 < 1e-3\n",
    "assert most_similar_list[6][0] == 'princess'"
   ]
  },
  {
   "cell_type": "code",
   "execution_count": null,
   "metadata": {
    "deletable": false,
    "editable": false,
    "id": "2r6NG8YwcbEf",
    "nbgrader": {
     "cell_type": "code",
     "checksum": "acd162ec9aa39d4c35838d24ec23c779",
     "grade": true,
     "grade_id": "cell-73a49086f10d8762",
     "locked": true,
     "points": 5,
     "schema_version": 3,
     "solution": false,
     "task": false
    },
    "tags": []
   },
   "outputs": [],
   "source": [
    "# Kiểm tra với bộ test ẩn"
   ]
  },
  {
   "cell_type": "markdown",
   "metadata": {
    "deletable": false,
    "editable": false,
    "id": "c2lYFTK_ddd-",
    "nbgrader": {
     "cell_type": "markdown",
     "checksum": "3fea23968709856aa8a423296312e92e",
     "grade": false,
     "grade_id": "cell-39ff71b564410c60",
     "locked": true,
     "schema_version": 3,
     "solution": false,
     "task": false
    },
    "tags": []
   },
   "source": [
    "### Bài tập\n",
    "Các bạn có thể trải nghiệm thêm với các cặp quan hệ sau:\n",
    "\n",
    "- Capital - Country (Thủ đô - Đất nước)\n",
    "- Noun - Plural form (Danh từ - Dạng số nhiều của danh từ)\n",
    "- Verb - V3 form (Động từ - Dạng quá khứ phân từ của động từ)"
   ]
  },
  {
   "cell_type": "code",
   "execution_count": 137,
   "metadata": {
    "colab": {
     "base_uri": "https://localhost:8080/"
    },
    "deletable": false,
    "id": "gQWk19jQSaAa",
    "nbgrader": {
     "cell_type": "code",
     "checksum": "77514bd24b6793b2eed3bccb4a4f8ccf",
     "grade": false,
     "grade_id": "cell-32dbe30d61a6a27e",
     "locked": false,
     "schema_version": 3,
     "solution": true,
     "task": false
    },
    "outputId": "f4291e9d-6eea-480b-b33c-3dcbb95d0272",
    "tags": []
   },
   "outputs": [
    {
     "name": "stdout",
     "output_type": "stream",
     "text": [
      "Thủ đô của Việt Nam là Hà Nội, vậy thủ đô của Nhật Bản là: Korea\n"
     ]
    }
   ],
   "source": [
    "# TODO: Thử nghiệm với câu hỏi \"Thủ đô của Việt Nam là Hà Nội, vậy thủ đô của Nhật Bản là gì?\"\n",
    "\n",
    "result_list = None\n",
    "# YOUR CODE HERE\n",
    "result_list = model.most_similar(positive=['Vietnam', 'Japan'], negative=['Hanoi'])\n",
    "\n",
    "print(\"Thủ đô của Việt Nam là Hà Nội, vậy thủ đô của Nhật Bản là:\", result_list[0][0])"
   ]
  },
  {
   "cell_type": "code",
   "execution_count": 138,
   "metadata": {
    "deletable": false,
    "editable": false,
    "id": "lJIw0XCefcsp",
    "nbgrader": {
     "cell_type": "code",
     "checksum": "ab7caf8a7cea3b53021a30e577b1b10c",
     "grade": true,
     "grade_id": "cell-b27fd6388ebe41ff",
     "locked": true,
     "points": 5,
     "schema_version": 3,
     "solution": false,
     "task": false
    },
    "tags": []
   },
   "outputs": [
    {
     "ename": "AssertionError",
     "evalue": "",
     "output_type": "error",
     "traceback": [
      "\u001b[0;31m---------------------------------------------------------------------------\u001b[0m",
      "\u001b[0;31mAssertionError\u001b[0m                            Traceback (most recent call last)",
      "Cell \u001b[0;32mIn[138], line 2\u001b[0m\n\u001b[1;32m      1\u001b[0m \u001b[38;5;28;01massert\u001b[39;00m result_list[\u001b[38;5;241m2\u001b[39m][\u001b[38;5;241m1\u001b[39m] \u001b[38;5;241m-\u001b[39m \u001b[38;5;241m0.687\u001b[39m \u001b[38;5;241m<\u001b[39m \u001b[38;5;241m1e-3\u001b[39m\n\u001b[0;32m----> 2\u001b[0m \u001b[38;5;28;01massert\u001b[39;00m result_list[\u001b[38;5;241m4\u001b[39m][\u001b[38;5;241m0\u001b[39m] \u001b[38;5;241m==\u001b[39m \u001b[38;5;124m'\u001b[39m\u001b[38;5;124mYokohama\u001b[39m\u001b[38;5;124m'\u001b[39m\n",
      "\u001b[0;31mAssertionError\u001b[0m: "
     ]
    }
   ],
   "source": [
    "assert result_list[2][1] - 0.687 < 1e-3\n",
    "assert result_list[4][0] == 'Yokohama'"
   ]
  },
  {
   "cell_type": "code",
   "execution_count": null,
   "metadata": {
    "deletable": false,
    "editable": false,
    "id": "WI6bGt2lfcsq",
    "nbgrader": {
     "cell_type": "code",
     "checksum": "39b179f1de8a7f877016e4f62e77485d",
     "grade": true,
     "grade_id": "cell-c5edf8e626b26026",
     "locked": true,
     "points": 5,
     "schema_version": 3,
     "solution": false,
     "task": false
    },
    "tags": []
   },
   "outputs": [],
   "source": [
    "# Kiểm tra với bộ test ẩn"
   ]
  },
  {
   "cell_type": "markdown",
   "metadata": {
    "deletable": false,
    "editable": false,
    "id": "29Al0DIkfIsW",
    "nbgrader": {
     "cell_type": "markdown",
     "checksum": "72a7f87f0feb282199ff46847e681016",
     "grade": false,
     "grade_id": "cell-2a61ab6ec6fee0c6",
     "locked": true,
     "schema_version": 3,
     "solution": false,
     "task": false
    },
    "tags": []
   },
   "source": [
    "Các bạn cùng thử nghiệm với các cặp quan hệ còn lại và nêu nhận xét của mình về khả năng của mô hình được huấn luyện sẵn này nhé!\n"
   ]
  },
  {
   "cell_type": "markdown",
   "metadata": {
    "deletable": false,
    "editable": false,
    "id": "F-98KHVnvZtj",
    "nbgrader": {
     "cell_type": "markdown",
     "checksum": "d278ea7c061a5757fae69cc2cfba8d61",
     "grade": false,
     "grade_id": "cell-12ad1454698a5a92",
     "locked": true,
     "schema_version": 3,
     "solution": false,
     "task": false
    },
    "tags": []
   },
   "source": [
    "## Phần 2. Word2vec với framework hỗ trợ Tensorflow"
   ]
  },
  {
   "cell_type": "markdown",
   "metadata": {
    "deletable": false,
    "editable": false,
    "id": "wpi_8Vz2h7F2",
    "nbgrader": {
     "cell_type": "markdown",
     "checksum": "ce7ec7ecb6e2ffebb55e2965d968acc0",
     "grade": false,
     "grade_id": "cell-61b7987894178e07",
     "locked": true,
     "schema_version": 3,
     "solution": false,
     "task": false
    },
    "tags": []
   },
   "source": [
    "### Tải mô hình huấn luyện sẵn\n",
    "\n",
    "Tensorflow cũng cung cấp nhiều mô hình được huấn luyện sẵn cho tác vụ vector hóa từ, chúng ta có thể dùng Tensorflow Hub để tải và sử dụng các mô hình này.\n",
    "\n",
    "Các bạn chờ khoảng 1 phút để mô hình được tải về nhé!"
   ]
  },
  {
   "cell_type": "code",
   "execution_count": null,
   "metadata": {
    "deletable": false,
    "editable": false,
    "nbgrader": {
     "cell_type": "code",
     "checksum": "9d59bbc669ef0d5955247a126be075df",
     "grade": false,
     "grade_id": "cell-a4c7e1d08d2a6316",
     "locked": true,
     "schema_version": 3,
     "solution": false,
     "task": false
    },
    "tags": []
   },
   "outputs": [],
   "source": [
    "# pip install tensorflow_hub"
   ]
  },
  {
   "cell_type": "code",
   "execution_count": 98,
   "metadata": {
    "deletable": false,
    "editable": false,
    "id": "VXAIHuFMBZ8B",
    "nbgrader": {
     "cell_type": "code",
     "checksum": "2ca3e7d685d884e25da85308152acdf4",
     "grade": false,
     "grade_id": "cell-2fd290b17ed66c9e",
     "locked": true,
     "schema_version": 3,
     "solution": false,
     "task": false
    },
    "tags": []
   },
   "outputs": [],
   "source": [
    "import tensorflow_hub as hub\n",
    "# embed = hub.load(\"https://tfhub.dev/google/Wiki-words-250-with-normalization/2\")\n",
    "model_path=\"/data/cs2230/Wiki-words-250-with-normalization_2\"\n",
    "embed = hub.load(model_path)"
   ]
  },
  {
   "cell_type": "markdown",
   "metadata": {
    "deletable": false,
    "editable": false,
    "id": "aPwqYPUbiN19",
    "nbgrader": {
     "cell_type": "markdown",
     "checksum": "32bcecd8b31705f44faaca477971dba7",
     "grade": false,
     "grade_id": "cell-b16db291bfb26c24",
     "locked": true,
     "schema_version": 3,
     "solution": false,
     "task": false
    },
    "tags": []
   },
   "source": [
    "### Các thao tác cơ bản\n",
    "\n",
    "Để lấy được vector biểu diễn từ, chúng ta sử dụng `.numpy()` sau output của mô hình."
   ]
  },
  {
   "cell_type": "code",
   "execution_count": 126,
   "metadata": {
    "deletable": false,
    "id": "qfLmVHa8Bo7Z",
    "nbgrader": {
     "cell_type": "code",
     "checksum": "3730034138f83cd7d5d383ed069951b5",
     "grade": false,
     "grade_id": "cell-3996a5b3962dee59",
     "locked": false,
     "schema_version": 3,
     "solution": true,
     "task": false
    },
    "tags": []
   },
   "outputs": [],
   "source": [
    "# TODO: Sử dụng mô hình được Tensorflow hỗ trợ để lấy vector biểu diễn của các từ khóa `love`, `like`, và `hate`\n",
    "love_vec, like_vec, hate_vec = None, None, None\n",
    "\n",
    "# YOUR CODE HERE\n",
    "love_vec = embed(['love']).numpy()\n",
    "like_vec = embed(['like']).numpy()\n",
    "hate_vec = embed(['hate']).numpy()"
   ]
  },
  {
   "cell_type": "code",
   "execution_count": 127,
   "metadata": {
    "deletable": false,
    "editable": false,
    "id": "wpvn6_kGg1CE",
    "nbgrader": {
     "cell_type": "code",
     "checksum": "12386fd07cbe94603605a8cc887cc15d",
     "grade": true,
     "grade_id": "cell-d17fc840730eb467",
     "locked": true,
     "points": 5,
     "schema_version": 3,
     "solution": false,
     "task": false
    },
    "tags": []
   },
   "outputs": [],
   "source": [
    "# Kiểm tra một số phần tử trong vector biểu diễn\n",
    "assert love_vec[0][0] + 0.033035338 < 1e-6\n",
    "assert like_vec[0][200] + 0.03201509 < 1e-6\n",
    "assert hate_vec[0][222] + 0.0048128446 < 1e-6"
   ]
  },
  {
   "cell_type": "code",
   "execution_count": null,
   "metadata": {
    "deletable": false,
    "editable": false,
    "id": "vWhvS04Ng1CE",
    "nbgrader": {
     "cell_type": "code",
     "checksum": "7417f380f8a72f8a2a73f4dd696faef3",
     "grade": true,
     "grade_id": "cell-1a06451f6e33f266",
     "locked": true,
     "points": 5,
     "schema_version": 3,
     "solution": false,
     "task": false
    },
    "tags": []
   },
   "outputs": [],
   "source": [
    "# Kiểm tra với bộ test ẩn"
   ]
  },
  {
   "cell_type": "markdown",
   "metadata": {
    "deletable": false,
    "editable": false,
    "id": "_3ZMDiLyh1L9",
    "nbgrader": {
     "cell_type": "markdown",
     "checksum": "744ff884f4a36fbc67e27fa7f62a16e5",
     "grade": false,
     "grade_id": "cell-e47f512921ac1289",
     "locked": true,
     "schema_version": 3,
     "solution": false,
     "task": false
    },
    "tags": []
   },
   "source": [
    "Tương tự như đã làm với thư viện `gensim` ở Phần 1, chúng ta cùng so sánh độ tương đồng giữa vector biểu diễn của những từ này nhé."
   ]
  },
  {
   "cell_type": "code",
   "execution_count": 130,
   "metadata": {
    "colab": {
     "base_uri": "https://localhost:8080/"
    },
    "deletable": false,
    "id": "GGg1DfOkguKj",
    "nbgrader": {
     "cell_type": "code",
     "checksum": "b68bc7ec8dd3c7469aaf49b2e9fd07ef",
     "grade": false,
     "grade_id": "cell-3266ba3122bf4c73",
     "locked": false,
     "schema_version": 3,
     "solution": true,
     "task": false
    },
    "outputId": "94f5db65-63db-4725-a456-eeb979ca615e",
    "tags": []
   },
   "outputs": [
    {
     "name": "stdout",
     "output_type": "stream",
     "text": [
      "Độ tương đồng của like và love là: 0.24091528\n",
      "Độ tương đồng của like và hate là: 0.25267747\n",
      "Độ tương đồng của love và hate là: 0.5915959\n"
     ]
    }
   ],
   "source": [
    "words = [\n",
    "    'like love',\n",
    "    'like hate',\n",
    "    'love hate',\n",
    "]\n",
    "w1_w2_sim_storage = []\n",
    "\n",
    "for w in words:\n",
    "    w1, w2 = w.split()\n",
    "\n",
    "    # TODO: Tính độ tương đồng của các cặp từ đã cho trong list `words`\n",
    "    w1_w2_sim = None\n",
    "    # YOUR CODE HERE\n",
    "    w1_vec = embed([w1]).numpy()\n",
    "    w2_vec = embed([w2]).numpy()\n",
    "    w1_w2_sim = cos_sim(w1_vec[0], w2_vec[0])\n",
    "    w1_w2_sim_storage.append(w1_w2_sim)\n",
    "\n",
    "    print(f\"Độ tương đồng của {w1} và {w2} là:\", w1_w2_sim)"
   ]
  },
  {
   "cell_type": "code",
   "execution_count": 131,
   "metadata": {
    "deletable": false,
    "editable": false,
    "id": "KMJxp68fjwV7",
    "nbgrader": {
     "cell_type": "code",
     "checksum": "209e4b4f0c1eb8ab79d857ed5c59a051",
     "grade": true,
     "grade_id": "cell-b8fbaf6c734567ec",
     "locked": true,
     "points": 5,
     "schema_version": 3,
     "solution": false,
     "task": false
    },
    "tags": []
   },
   "outputs": [],
   "source": [
    "assert w1_w2_sim_storage[0] *4 - 4/4 < 1e-2\n",
    "assert w1_w2_sim_storage[1] *3 - 3/4 < 1e-2\n",
    "assert w1_w2_sim_storage[2] *2 - 4/4 < 3e-1"
   ]
  },
  {
   "cell_type": "code",
   "execution_count": null,
   "metadata": {
    "deletable": false,
    "editable": false,
    "id": "wvfOVvetjwV8",
    "nbgrader": {
     "cell_type": "code",
     "checksum": "cf2e18d0632c55f1d8b89e7077bc9aab",
     "grade": true,
     "grade_id": "cell-c8c50e3848f9fa6d",
     "locked": true,
     "points": 5,
     "schema_version": 3,
     "solution": false,
     "task": false
    },
    "tags": []
   },
   "outputs": [],
   "source": [
    "# Kiểm tra với bộ test ẩn"
   ]
  },
  {
   "cell_type": "markdown",
   "metadata": {
    "deletable": false,
    "editable": false,
    "id": "U17z-iiljwV8",
    "nbgrader": {
     "cell_type": "markdown",
     "checksum": "b16ee867e1ce6792db6f50ce4e9086fd",
     "grade": false,
     "grade_id": "cell-ea44709fed26dde5",
     "locked": true,
     "schema_version": 3,
     "solution": false,
     "task": false
    },
    "tags": []
   },
   "source": [
    "Độ tương đồng tính bằng khoảng cách cosine của `love` và `hate` là bao nhiêu?"
   ]
  },
  {
   "cell_type": "code",
   "execution_count": 132,
   "metadata": {
    "colab": {
     "base_uri": "https://localhost:8080/"
    },
    "deletable": false,
    "id": "VWWJebqAjwV8",
    "nbgrader": {
     "cell_type": "code",
     "checksum": "0f6f020f688bd8a32f369ea31215e749",
     "grade": false,
     "grade_id": "cell-daf138e5ce2a40a9",
     "locked": false,
     "schema_version": 3,
     "solution": true,
     "task": false
    },
    "outputId": "3e2a6d18-293c-4140-ad3e-4f778988c2c0",
    "tags": []
   },
   "outputs": [
    {
     "name": "stdout",
     "output_type": "stream",
     "text": [
      "Độ tương đồng tính bằng khoảng cách cosine của `love` và `hate` là khoảng 60%\n"
     ]
    }
   ],
   "source": [
    "options = ['khoảng 60%', \n",
    "           'khoảng 70%', \n",
    "           'khoảng 80%', \n",
    "           'khoảng 90%']\n",
    "your_choice = None\n",
    "\n",
    "# Hãy chọn your_choice bằng 0, 1, 2 hoặc 3 tương ứng với các lựa chọn ở trên\n",
    "# YOUR CODE HERE\n",
    "your_choice = 0\n",
    "\n",
    "print(\"Độ tương đồng tính bằng khoảng cách cosine của `love` và `hate` là\", options[your_choice])"
   ]
  },
  {
   "cell_type": "code",
   "execution_count": null,
   "metadata": {
    "deletable": false,
    "editable": false,
    "id": "J8UI2EdgjwV8",
    "nbgrader": {
     "cell_type": "code",
     "checksum": "97cdf704711b2f5a54d3afb68bcc5252",
     "grade": true,
     "grade_id": "cell-5d21a9cd5b8f7480",
     "locked": true,
     "points": 5,
     "schema_version": 3,
     "solution": false,
     "task": false
    },
    "tags": []
   },
   "outputs": [],
   "source": [
    "# Bộ test ẩn"
   ]
  },
  {
   "cell_type": "markdown",
   "metadata": {
    "deletable": false,
    "editable": false,
    "id": "IMPQpFWoiqcd",
    "nbgrader": {
     "cell_type": "markdown",
     "checksum": "210c4f34b5f7d9f2f4ec1a39b0f59475",
     "grade": false,
     "grade_id": "cell-c03b9702931b062c",
     "locked": true,
     "schema_version": 3,
     "solution": false,
     "task": false
    },
    "tags": []
   },
   "source": [
    "Giống với `gensim`, chúng ta có thể sử dụng phép nhân dot product để tính toán độ tương đồng giữa các vector biểu diễn từ khóa.\n",
    "\n",
    "Hãy cùng thử tương tự với các từ khóa và so sánh kết quả với `gensim` nhé!"
   ]
  },
  {
   "cell_type": "code",
   "execution_count": 133,
   "metadata": {
    "colab": {
     "base_uri": "https://localhost:8080/"
    },
    "deletable": false,
    "id": "Mg4BzsvkmRS2",
    "nbgrader": {
     "cell_type": "code",
     "checksum": "df050a0992a1eadca850a36b5b556b18",
     "grade": false,
     "grade_id": "cell-ad735e0a70a60d7f",
     "locked": false,
     "schema_version": 3,
     "solution": true,
     "task": false
    },
    "outputId": "cbd6447c-44d5-4563-a17a-e978b21bc22f",
    "tags": []
   },
   "outputs": [
    {
     "name": "stdout",
     "output_type": "stream",
     "text": [
      "Độ tương đồng của like và love là: 0.24091528\n",
      "Độ tương đồng của like và hate là: 0.25267747\n",
      "Độ tương đồng của love và hate là: 0.5915959\n"
     ]
    }
   ],
   "source": [
    "words = [\n",
    "    'like love',\n",
    "    'like hate',\n",
    "    'love hate',\n",
    "]\n",
    "w1_w2_sim_storage = []\n",
    "\n",
    "for w in words:\n",
    "    w1, w2 = w.split()\n",
    "\n",
    "    # TODO: Tính độ tương đồng của các cặp từ đã cho trong list `words` sử dụng DOT PRODUCT\n",
    "    w1_w2_sim = None\n",
    "    # YOUR CODE HERE\n",
    "    w1_vec = embed([w1]).numpy()\n",
    "    w2_vec = embed([w2]).numpy()\n",
    "    w1_w2_sim = dot(w1_vec[0], w2_vec[0])\n",
    "    w1_w2_sim_storage.append(w1_w2_sim)\n",
    "\n",
    "    print(f\"Độ tương đồng của {w1} và {w2} là:\", w1_w2_sim)"
   ]
  },
  {
   "cell_type": "code",
   "execution_count": 134,
   "metadata": {
    "deletable": false,
    "editable": false,
    "id": "Mcu9bg59oWRl",
    "nbgrader": {
     "cell_type": "code",
     "checksum": "396d388269de645d85bf574905275e03",
     "grade": true,
     "grade_id": "cell-4caf800e5a5cd875",
     "locked": true,
     "points": 5,
     "schema_version": 3,
     "solution": false,
     "task": false
    },
    "tags": []
   },
   "outputs": [],
   "source": [
    "assert w1_w2_sim_storage[0] *4 - 4/4 < 1e-2\n",
    "assert w1_w2_sim_storage[1] *3 - 3/4 < 1e-2\n",
    "assert w1_w2_sim_storage[2] *2 - 4/4 < 3e-1"
   ]
  },
  {
   "cell_type": "code",
   "execution_count": null,
   "metadata": {
    "deletable": false,
    "editable": false,
    "id": "fxe-2c2WoWRl",
    "nbgrader": {
     "cell_type": "code",
     "checksum": "f2aefc5bb234b203eac929e7dc3b0c7a",
     "grade": true,
     "grade_id": "cell-7b5455408520cc0c",
     "locked": true,
     "points": 5,
     "schema_version": 3,
     "solution": false,
     "task": false
    },
    "tags": []
   },
   "outputs": [],
   "source": [
    "# Kiểm tra với bộ test ẩn"
   ]
  },
  {
   "cell_type": "markdown",
   "metadata": {
    "deletable": false,
    "editable": false,
    "id": "Hogf9YJjoWRl",
    "nbgrader": {
     "cell_type": "markdown",
     "checksum": "216348d3d043302685ca9e2b96d269d5",
     "grade": false,
     "grade_id": "cell-1b93d86300a57504",
     "locked": true,
     "schema_version": 3,
     "solution": false,
     "task": false
    },
    "tags": []
   },
   "source": [
    "Độ tương đồng tính bằng khoảng cách cosine của `love` và `hate` là bao nhiêu?"
   ]
  },
  {
   "cell_type": "code",
   "execution_count": 135,
   "metadata": {
    "colab": {
     "base_uri": "https://localhost:8080/"
    },
    "deletable": false,
    "id": "C2FzSm9RoWRl",
    "nbgrader": {
     "cell_type": "code",
     "checksum": "56ab61970f668872e89ebcf4ba99ab0b",
     "grade": false,
     "grade_id": "cell-3aa8737f76270497",
     "locked": false,
     "schema_version": 3,
     "solution": true,
     "task": false
    },
    "outputId": "b2b0dcf8-21a3-4917-e455-b276372c5d3b",
    "tags": []
   },
   "outputs": [
    {
     "name": "stdout",
     "output_type": "stream",
     "text": [
      "Độ tương đồng tính bằng khoảng cách cosine của `love` và `hate` là khoảng 60%\n"
     ]
    }
   ],
   "source": [
    "options = ['khoảng 60%', \n",
    "           'khoảng 70%', \n",
    "           'khoảng 80%', \n",
    "           'khoảng 90%']\n",
    "your_choice = None\n",
    "\n",
    "# Hãy chọn your_choice bằng 0, 1, 2 hoặc 3 tương ứng với các lựa chọn ở trên\n",
    "# YOUR CODE HERE\n",
    "your_choice = 0\n",
    "\n",
    "print(\"Độ tương đồng tính bằng khoảng cách cosine của `love` và `hate` là\", options[your_choice])"
   ]
  },
  {
   "cell_type": "code",
   "execution_count": null,
   "metadata": {
    "deletable": false,
    "editable": false,
    "id": "fv3eXwUxonqg",
    "nbgrader": {
     "cell_type": "code",
     "checksum": "9e0848c489e9035abc972f65d08e1d70",
     "grade": true,
     "grade_id": "cell-aa57477c8fdc04e3",
     "locked": true,
     "points": 5,
     "schema_version": 3,
     "solution": false,
     "task": false
    },
    "tags": []
   },
   "outputs": [],
   "source": [
    "# Bộ test ẩn"
   ]
  },
  {
   "cell_type": "markdown",
   "metadata": {
    "deletable": false,
    "editable": false,
    "id": "FmKCMvBwooZw",
    "nbgrader": {
     "cell_type": "markdown",
     "checksum": "900a2c8612286a2ca019c6fb4c745e0a",
     "grade": false,
     "grade_id": "cell-b71672b8af696937",
     "locked": true,
     "schema_version": 3,
     "solution": false,
     "task": false
    },
    "tags": []
   },
   "source": [
    "**HẾT**"
   ]
  }
 ],
 "metadata": {
  "colab": {
   "provenance": [],
   "toc_visible": true
  },
  "kernelspec": {
   "display_name": "Python 3 (ipykernel)",
   "language": "python",
   "name": "python3"
  },
  "language_info": {
   "codemirror_mode": {
    "name": "ipython",
    "version": 3
   },
   "file_extension": ".py",
   "mimetype": "text/x-python",
   "name": "python",
   "nbconvert_exporter": "python",
   "pygments_lexer": "ipython3",
   "version": "3.9.15"
  }
 },
 "nbformat": 4,
 "nbformat_minor": 4
}
