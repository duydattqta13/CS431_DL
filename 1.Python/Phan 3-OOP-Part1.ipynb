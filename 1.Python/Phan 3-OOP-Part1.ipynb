{
 "cells": [
  {
   "cell_type": "markdown",
   "id": "52141366",
   "metadata": {},
   "source": [
    "Before you turn this problem in, make sure everything runs as expected. First, **restart the kernel** (in the menubar, select Kernel$\\rightarrow$Restart) and then **run all cells** (in the menubar, select Cell$\\rightarrow$Run All).\n",
    "\n",
    "Make sure you fill in any place that says `YOUR CODE HERE` or \"YOUR ANSWER HERE\", as well as your name and collaborators below:"
   ]
  },
  {
   "cell_type": "code",
   "execution_count": 1,
   "id": "900edd2d",
   "metadata": {},
   "outputs": [],
   "source": [
    "NAME = \"Nguyễn Duy Đạt\"\n",
    "COLLABORATORS = \"CS431.N21\""
   ]
  },
  {
   "cell_type": "markdown",
   "id": "be5fde3b",
   "metadata": {},
   "source": [
    "---"
   ]
  },
  {
   "cell_type": "markdown",
   "id": "8a0fe6fb-fcb3-4eed-b512-de82d5674bc6",
   "metadata": {
    "deletable": false,
    "editable": false,
    "nbgrader": {
     "cell_type": "markdown",
     "checksum": "1a97247612e1e577e941f81fbf07313b",
     "grade": false,
     "grade_id": "cell-18491838177b1a2b",
     "locked": true,
     "schema_version": 3,
     "solution": false,
     "task": false
    },
    "tags": []
   },
   "source": [
    "# LUYỆN TẬP OOP - PHẦN 1"
   ]
  },
  {
   "cell_type": "markdown",
   "id": "ba145050-b51d-4b03-9bba-dfae12107bc0",
   "metadata": {
    "deletable": false,
    "editable": false,
    "nbgrader": {
     "cell_type": "markdown",
     "checksum": "20cfe5f715545821abd543b3c9c82da4",
     "grade": false,
     "grade_id": "cell-055074de63047ca1",
     "locked": true,
     "schema_version": 3,
     "solution": false,
     "task": false
    },
    "tags": []
   },
   "source": [
    "Viết chương trình cài đặt 3 lớp (class) sau: `Geometry` , `Square`, và `Round`. Cho biết 2 class `Square` và `Round` kế thừa từ class `Geometry`.\n",
    "\n",
    "Cả 3 class đều có những thuộc tính, phương thức sau:\n",
    "\n",
    "- Thuộc tính:\n",
    "    - `property` (`float`): có thể xem là độ dài cạnh (đối với hình vuông) hoặc bán kính (đối với hình tròn).\n",
    "\n",
    "- Phương thức:\n",
    "    - Hàm khởi tạo `__init__`.\n",
    "    - Hàm tính diện tích `calculate_area`."
   ]
  },
  {
   "cell_type": "markdown",
   "id": "9707e570-0208-406b-8ccd-67c20a699cdf",
   "metadata": {
    "deletable": false,
    "editable": false,
    "nbgrader": {
     "cell_type": "markdown",
     "checksum": "725d55b9aeec47bff5f0b4d40ac0f4df",
     "grade": false,
     "grade_id": "cell-2f43eee6ab0f60d4",
     "locked": true,
     "schema_version": 3,
     "solution": false,
     "task": false
    },
    "tags": []
   },
   "source": [
    "Ví dụ về hàm `calculate_area` của class `Square`:\n",
    "- Thuộc tính của object:\n",
    "```\n",
    "property = 2\n",
    "```\n",
    "- Input:\n",
    "```\n",
    "# no input\n",
    "```\n",
    "- Output:\n",
    "```\n",
    "4\n",
    "```"
   ]
  },
  {
   "cell_type": "markdown",
   "id": "96e9c55b-4c6f-4577-be43-c37e19c70361",
   "metadata": {
    "deletable": false,
    "editable": false,
    "nbgrader": {
     "cell_type": "markdown",
     "checksum": "468c4d04c61256726ca2fe2aaf4e225d",
     "grade": false,
     "grade_id": "cell-c91ec40f331cc697",
     "locked": true,
     "schema_version": 3,
     "solution": false,
     "task": false
    },
    "tags": []
   },
   "source": [
    "Ví dụ về hàm `calculate_area` của class `Round`:\n",
    "- Thuộc tính của object:\n",
    "```\n",
    "property = 2\n",
    "```\n",
    "- Input:\n",
    "```\n",
    "# no input\n",
    "```\n",
    "- Output:\n",
    "```\n",
    "12.56637\n",
    "```\n",
    "\n",
    "**Lưu ý:** Dùng `math.pi` để tính diện tích, kết quả làm tròn 5 chữ số thập phân."
   ]
  },
  {
   "cell_type": "markdown",
   "id": "92a12c89-2c57-4c83-aca2-42cec9de2caa",
   "metadata": {
    "deletable": false,
    "editable": false,
    "nbgrader": {
     "cell_type": "markdown",
     "checksum": "54c79ba20bda02482ef32d3c56c22aef",
     "grade": false,
     "grade_id": "cell-a98c1cba07b7c331",
     "locked": true,
     "schema_version": 3,
     "solution": false,
     "task": false
    },
    "tags": []
   },
   "source": [
    "**Yêu cầu 1:** Cài đặt class `Geometry`. Cài đặt phương thức `calculate_area` là abstract method.\n"
   ]
  },
  {
   "cell_type": "code",
   "execution_count": 9,
   "id": "09d7aa17-7b7e-4df0-a336-8dcbbad5ef9c",
   "metadata": {
    "deletable": false,
    "nbgrader": {
     "cell_type": "code",
     "checksum": "4e8016f44b9d5725a878b3c2a1d32f5c",
     "grade": false,
     "grade_id": "cell-a2a977de6573d46c",
     "locked": false,
     "schema_version": 3,
     "solution": true,
     "task": false
    },
    "tags": []
   },
   "outputs": [],
   "source": [
    "from abc import abstractmethod\n",
    "\n",
    "\n",
    "# YOUR CODE HERE\n",
    "class Geometry:\n",
    "    def __init__(self, property: float):\n",
    "        self.property = property\n",
    "    \n",
    "    @abstractmethod\n",
    "    def calculate_area(self):\n",
    "        return self.property\n",
    "        \n",
    "    # raise NotImplementedError()"
   ]
  },
  {
   "cell_type": "code",
   "execution_count": 10,
   "id": "397403e0-6248-4e56-b336-2c6a55f36429",
   "metadata": {
    "deletable": false,
    "editable": false,
    "nbgrader": {
     "cell_type": "code",
     "checksum": "2c4a2a4531ba97e362e038f119a8d906",
     "grade": true,
     "grade_id": "cell-cd8894a81325a585",
     "locked": true,
     "points": 5,
     "schema_version": 3,
     "solution": false,
     "task": false
    },
    "tags": []
   },
   "outputs": [],
   "source": [
    "# cell chấm điểm 1\n",
    "geometry_obj = Geometry(2)\n",
    "assert geometry_obj.property == 2"
   ]
  },
  {
   "cell_type": "code",
   "execution_count": 11,
   "id": "3c075a5c-442b-43d1-93cc-238ca60f3bc5",
   "metadata": {
    "deletable": false,
    "editable": false,
    "nbgrader": {
     "cell_type": "code",
     "checksum": "b66245a4a3cb8d2e599127f3bbf3b1af",
     "grade": true,
     "grade_id": "cell-e5f344956ad1440a",
     "locked": true,
     "points": 5,
     "schema_version": 3,
     "solution": false,
     "task": false
    },
    "tags": []
   },
   "outputs": [],
   "source": [
    "# cell chấm điểm 2"
   ]
  },
  {
   "cell_type": "markdown",
   "id": "77523e66-2d85-483c-8763-e5d1c6744436",
   "metadata": {
    "deletable": false,
    "editable": false,
    "nbgrader": {
     "cell_type": "markdown",
     "checksum": "1ebdf3dc233beff95d4d435e38833813",
     "grade": false,
     "grade_id": "cell-01302b060cc3d479",
     "locked": true,
     "schema_version": 3,
     "solution": false,
     "task": false
    },
    "tags": []
   },
   "source": [
    "**Yêu cầu 2:** Cài đặt class `Square` kế thừa từ class `Geometry`.\n"
   ]
  },
  {
   "cell_type": "code",
   "execution_count": 20,
   "id": "d5b1f770-8242-496c-813f-9af92e3a238e",
   "metadata": {
    "deletable": false,
    "nbgrader": {
     "cell_type": "code",
     "checksum": "2a4d791467048dd9b7ef39d6dbbfeeaf",
     "grade": false,
     "grade_id": "cell-735e1d5e4bdbe1e7",
     "locked": false,
     "schema_version": 3,
     "solution": true,
     "task": false
    },
    "tags": []
   },
   "outputs": [],
   "source": [
    "class Square(Geometry):\n",
    "    def __init__(self, property):\n",
    "        # gọi hàm __init__ của lớp cha bằng hàm `super()`\n",
    "        # YOUR CODE HERE\n",
    "        super(Square, self).__init__(property)\n",
    "        # raise NotImplementedError()\n",
    "\n",
    "    # cài đặt hàm `calculate_area`\n",
    "    # YOUR CODE HERE\n",
    "    def calculate_area(self):\n",
    "        return self.property ** 2\n",
    "    # raise NotImplementedError()"
   ]
  },
  {
   "cell_type": "code",
   "execution_count": 21,
   "id": "abfbbbb2-7fa7-49b9-a1f9-fac5d30df05a",
   "metadata": {
    "deletable": false,
    "editable": false,
    "nbgrader": {
     "cell_type": "code",
     "checksum": "9979232145bd82acfb080718d3b2ad55",
     "grade": true,
     "grade_id": "cell-7d81c0737ff8ff5c",
     "locked": true,
     "points": 5,
     "schema_version": 3,
     "solution": false,
     "task": false
    },
    "tags": []
   },
   "outputs": [],
   "source": [
    "# cell chấm điểm 3\n",
    "square_obj = Square(2)\n",
    "assert square_obj.calculate_area() == 4"
   ]
  },
  {
   "cell_type": "code",
   "execution_count": 22,
   "id": "d56421c2-d971-4aaf-9b2f-940bb73b9495",
   "metadata": {
    "deletable": false,
    "editable": false,
    "nbgrader": {
     "cell_type": "code",
     "checksum": "965e7e033166ca8215577354e340f38c",
     "grade": true,
     "grade_id": "cell-7483770bd88dec92",
     "locked": true,
     "points": 5,
     "schema_version": 3,
     "solution": false,
     "task": false
    },
    "tags": []
   },
   "outputs": [],
   "source": [
    "# cell chấm điểm 4"
   ]
  },
  {
   "cell_type": "markdown",
   "id": "03a003be-797f-4b0d-930c-43d0de00a756",
   "metadata": {
    "deletable": false,
    "editable": false,
    "nbgrader": {
     "cell_type": "markdown",
     "checksum": "70f5a983627b8aba1936e96a416a971f",
     "grade": false,
     "grade_id": "cell-2f3882b9a8753ecb",
     "locked": true,
     "schema_version": 3,
     "solution": false,
     "task": false
    },
    "tags": []
   },
   "source": [
    "**Yêu cầu 3:** Cài đặt class `Round` kế thừa từ class `Geometry`. Lưu ý sử dụng `math.pi` và làm tròn kết quả 5 chữ số thập phân."
   ]
  },
  {
   "cell_type": "code",
   "execution_count": 25,
   "id": "f3186dfb-e3c1-462b-a4d8-cfe4ee27863e",
   "metadata": {
    "deletable": false,
    "nbgrader": {
     "cell_type": "code",
     "checksum": "7a37f6a3fdf86c32653465e35f25e511",
     "grade": false,
     "grade_id": "cell-43e8069b1597af6b",
     "locked": false,
     "schema_version": 3,
     "solution": true,
     "task": false
    },
    "tags": []
   },
   "outputs": [],
   "source": [
    "import math\n",
    "\n",
    "class Round(Geometry):\n",
    "    def __init__(self, property):\n",
    "        # gọi hàm __init__ của lớp cha bằng hàm `super()`\n",
    "        # YOUR CODE HERE\n",
    "        super(Round, self).__init__(property)\n",
    "        # raise NotImplementedError()\n",
    "\n",
    "    # cài đặt hàm `calculate_area`\n",
    "    # YOUR CODE HERE\n",
    "    def calculate_area(self):\n",
    "        return round(math.pi * (self.property ** 2), 5)\n",
    "    # raise NotImplementedError()"
   ]
  },
  {
   "cell_type": "code",
   "execution_count": 26,
   "id": "323f0e16-e4ab-458b-bc9d-e77dc4e1f21e",
   "metadata": {
    "deletable": false,
    "editable": false,
    "nbgrader": {
     "cell_type": "code",
     "checksum": "a8c651c18b609e9d9cc90b21ac2d0ded",
     "grade": true,
     "grade_id": "cell-3e614da348102a27",
     "locked": true,
     "points": 5,
     "schema_version": 3,
     "solution": false,
     "task": false
    },
    "tags": []
   },
   "outputs": [],
   "source": [
    "# cell chấm điểm 5\n",
    "square_obj = Round(2)\n",
    "assert square_obj.calculate_area() == 12.56637"
   ]
  },
  {
   "cell_type": "code",
   "execution_count": 27,
   "id": "425520e3-5daa-42c4-a0f5-f1d455e5cc96",
   "metadata": {
    "deletable": false,
    "editable": false,
    "nbgrader": {
     "cell_type": "code",
     "checksum": "8db878748e9668b452767c5b3f7962b1",
     "grade": true,
     "grade_id": "cell-86742bf27acceec1",
     "locked": true,
     "points": 5,
     "schema_version": 3,
     "solution": false,
     "task": false
    },
    "tags": []
   },
   "outputs": [],
   "source": [
    "# cell chấm điểm 6"
   ]
  }
 ],
 "metadata": {
  "kernelspec": {
   "display_name": "Python 3 (ipykernel)",
   "language": "python",
   "name": "python3"
  },
  "language_info": {
   "codemirror_mode": {
    "name": "ipython",
    "version": 3
   },
   "file_extension": ".py",
   "mimetype": "text/x-python",
   "name": "python",
   "nbconvert_exporter": "python",
   "pygments_lexer": "ipython3",
   "version": "3.9.15"
  }
 },
 "nbformat": 4,
 "nbformat_minor": 5
}
