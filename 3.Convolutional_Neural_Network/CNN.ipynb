{
 "cells": [
  {
   "cell_type": "markdown",
   "id": "3d258993",
   "metadata": {},
   "source": [
    "Before you turn this problem in, make sure everything runs as expected. First, **restart the kernel** (in the menubar, select Kernel$\\rightarrow$Restart) and then step by step run the code blocks. If you pass all code blocks, remember to **Save** and **Submit** your notebook to the system.\n",
    "\n",
    "Make sure you fill in any place that says `YOUR CODE HERE` or \"YOUR ANSWER HERE\", as well as your name and collaborators below:"
   ]
  },
  {
   "cell_type": "code",
   "execution_count": 1,
   "id": "1330eefd",
   "metadata": {},
   "outputs": [],
   "source": [
    "NAME = \"Nguyễn Duy Đạt\""
   ]
  },
  {
   "cell_type": "markdown",
   "id": "cf5720b9",
   "metadata": {},
   "source": [
    "---"
   ]
  },
  {
   "cell_type": "markdown",
   "id": "61e257f0-a0ce-4789-9f79-f96d94ca85f0",
   "metadata": {
    "deletable": false,
    "editable": false,
    "nbgrader": {
     "cell_type": "markdown",
     "checksum": "054fc122e61144df4bce0fdf38d474cc",
     "grade": false,
     "grade_id": "cell-6736f975e67c30ad",
     "locked": true,
     "schema_version": 3,
     "solution": false,
     "task": false
    },
    "tags": []
   },
   "source": [
    "# MẠNG CONVOLUTIONAL NEURAL NETWORK (CNN)"
   ]
  },
  {
   "cell_type": "markdown",
   "id": "d454249f-474b-48c0-8130-049379e629d4",
   "metadata": {
    "deletable": false,
    "editable": false,
    "nbgrader": {
     "cell_type": "markdown",
     "checksum": "50ede4c253419357a3a87c196bb3c377",
     "grade": false,
     "grade_id": "cell-050a6be3b280ce97",
     "locked": true,
     "schema_version": 3,
     "solution": false,
     "task": false
    },
    "tags": []
   },
   "source": [
    "Bài tập này, ta sẽ tiến hành cài đặt một trong những mạng `CNN` đầu tiên là LeNet. Kiến trúc của mạng LeNet được tóm tắt như sau:\n",
    "\n",
    "![](LeNet.png)"
   ]
  },
  {
   "cell_type": "markdown",
   "id": "7ad3b367-d230-4ed5-a08e-b5515639234a",
   "metadata": {
    "deletable": false,
    "editable": false,
    "nbgrader": {
     "cell_type": "markdown",
     "checksum": "5ac9b4b55aac75b476b466b31788bd36",
     "grade": false,
     "grade_id": "cell-6cc039d2bb061e46",
     "locked": true,
     "schema_version": 3,
     "solution": false,
     "task": false
    },
    "tags": []
   },
   "source": [
    "Trong hình trên kiến trúc của mô hình được tóm tắt như sau:\n",
    "\n",
    "**Lớp input**: chứa ảnh đầu vào \n",
    "- Kích thước ảnh của tập MNIST là `28x28`. Do ảnh này là ảnh mức xám (không có màu) nên độ sâu bằng 1.\n",
    "\n",
    "**Lớp convolution C1**: lớp biến đổi đặc trưng đầu tiên, sử dụng phép biến đổi convolution kết hợp với hàm kích hoạt. \n",
    "\n",
    "- Phiên bản năm 1998 Yann Lecun sử dụng `6 filter` kích thước `3x3`, hàm kích hoạt `sigmoid`.\n",
    "\n",
    "**Lớp pooling** hay subsampling S2: lớp làm giảm kích thước chiều không gian (chiều ngang và dọc). \n",
    "- Phiên bản năm 1998 sử dụng filter `AveragePooling` với kích thước à `2x2`.\n",
    "\n",
    "**Lớp convolution C3**: tương tự C1 nhưng số filter nhiều hơn *nhằm tạo ra các **đặc trưng cấp cao** kết hợp từ các đặc trưng cấp thấp trước đó*. \n",
    "- Lớp này sử dụng `16 filter` kích thước `3x3` với hàm kích hoạt `sigmoid`.\n",
    "\n",
    "**Lớp convolution S4**: tương tự như lớp S2. \n",
    "- Ta sử dụng filter `AveragePooling`, kích thước filter là `2x2`.\n",
    "\n",
    "**Lớp fully connected (kết nối đầu đủ) F5**: thực hiện phép nhân tuyến tính kết hợp với hàm kích hoạt. Các lớp F5 trở đi thực hiện chức năng phân loại (classify) đặc trưng đã rút trích từ các bước trước đó.\n",
    "- Phiên bản này sử dụng hàm `sigmoid`. Số neuron output của lớp này là **120 neuron**.\n",
    "- Lưu ý quan trọng: trước lớp F5, ta sẽ có \"bước đệm\" là `Flatten` để biến đặc trưng **từ dạng tensor thành dạng vector**.\n",
    "\n",
    "**Lớp fully connected F6**: tương tự lớp F5.\n",
    "- Số neuron output của lớp này là **84 neuron**, hàm kích hoạt `sigmoid`.\n",
    "\n",
    "**Lớp output**: Tương tự như F5.\n",
    "- Số neuron output của lớp này là **10 neuron**, sử dụng hàm `softmax` để đưa đặc trưng về không gian xác suất của các lớp đối tượng cần phân loại.\n",
    "\n",
    "Bắt đầu tiến hành cài đặt thôi!"
   ]
  },
  {
   "cell_type": "markdown",
   "id": "79eba6e4-47be-4e0b-afb5-48d886f902ab",
   "metadata": {
    "deletable": false,
    "editable": false,
    "nbgrader": {
     "cell_type": "markdown",
     "checksum": "3bda318383e762ee2381a2b13eda8765",
     "grade": false,
     "grade_id": "cell-1812041c5720e9b5",
     "locked": true,
     "schema_version": 3,
     "solution": false,
     "task": false
    },
    "tags": []
   },
   "source": [
    "## 1. Chuẩn bị dữ liệu huấn luyện\n",
    "Đầu tiên, ta sẽ sử dụng tập dữ liệu MNIST cho bài tập này. Trong `keras.datasets` có rất nhiều dữ liệu được đóng gói và chuẩn bị sẵn như `MNIST`, `CIFAR`, `Fashion MNIST`. Trong bài tập này, ta sẽ sử dụng tập dữ liệu `MNIST`:"
   ]
  },
  {
   "cell_type": "code",
   "execution_count": 2,
   "id": "0e2e1340-928e-4831-8e65-cf2f6bb97f40",
   "metadata": {
    "deletable": false,
    "editable": false,
    "nbgrader": {
     "cell_type": "code",
     "checksum": "86c59738898ad33aa69a0629d47da93d",
     "grade": false,
     "grade_id": "cell-331969f8fc0b9ac8",
     "locked": true,
     "schema_version": 3,
     "solution": false,
     "task": false
    },
    "tags": []
   },
   "outputs": [
    {
     "name": "stdout",
     "output_type": "stream",
     "text": [
      "Thông tin kích thước các biến trên: \n",
      "(60000, 28, 28)\n",
      "(60000,)\n",
      "(10000, 28, 28)\n",
      "(10000,)\n"
     ]
    }
   ],
   "source": [
    "from keras.datasets import mnist\n",
    "import numpy as np\n",
    "import tensorflow as tf\n",
    "\n",
    "\n",
    "def fix_random_seed():\n",
    "    np.random.seed(1)\n",
    "    tf.random.set_seed(1)\n",
    "\n",
    "(x_train, y_train), (x_test, y_test) = mnist.load_data()\n",
    "\n",
    "print(\"Thông tin kích thước các biến trên: \")\n",
    "print(x_train.shape)\n",
    "print(y_train.shape)\n",
    "print(x_test.shape)\n",
    "print(y_test.shape)"
   ]
  },
  {
   "cell_type": "code",
   "execution_count": 3,
   "id": "e74456d2-2311-43da-a5d8-3c78a486ba73",
   "metadata": {
    "deletable": false,
    "editable": false,
    "nbgrader": {
     "cell_type": "code",
     "checksum": "4f9b5092bb472d4607413267ecc69bbd",
     "grade": false,
     "grade_id": "cell-6603da2a0f4da64e",
     "locked": true,
     "schema_version": 3,
     "solution": false,
     "task": false
    },
    "tags": []
   },
   "outputs": [
    {
     "name": "stdout",
     "output_type": "stream",
     "text": [
      "Ý nghĩa kích thước các biến trên: \n",
      "Số mẫu train: 60000 mẫu\n",
      "Số mẫu test: 10000 mẫu\n",
      "Kích thước ảnh đầu vào:  (28, 28)\n"
     ]
    }
   ],
   "source": [
    "print('Ý nghĩa kích thước các biến trên: ')\n",
    "print('Số mẫu train: {} mẫu'.format(x_train.shape[0]))\n",
    "print('Số mẫu test: {} mẫu'.format(x_test.shape[0]))\n",
    "print('Kích thước ảnh đầu vào: ', x_train.shape[1:])"
   ]
  },
  {
   "cell_type": "code",
   "execution_count": 4,
   "id": "7d63350c-3085-4e7a-9771-8c9425a3f49f",
   "metadata": {
    "deletable": false,
    "editable": false,
    "nbgrader": {
     "cell_type": "code",
     "checksum": "9b35805e9215e499ca779e42d6362ce2",
     "grade": false,
     "grade_id": "cell-e35d149b69abc143",
     "locked": true,
     "schema_version": 3,
     "solution": false,
     "task": false
    },
    "tags": []
   },
   "outputs": [
    {
     "data": {
      "image/png": "[encoded data removed]",
      "text/plain": [
       "<Figure size 640x480 with 1 Axes>"
      ]
     },
     "metadata": {},
     "output_type": "display_data"
    },
    {
     "name": "stdout",
     "output_type": "stream",
     "text": [
      "Nhãn (label) của ground-truth:  3\n"
     ]
    }
   ],
   "source": [
    "# Code block này hiển thị một mẫu dữ liệu train. \n",
    "# Đây là việc NÊN LÀM khi bắt đầu với bất kỳ dữ liệu nào\n",
    "# Ở đây ta sẽ load mẫu dữ liệu thứ 1234. Các bạn có thể thay đổi giá trị này tùy ý\n",
    "import matplotlib.pyplot as plt\n",
    "\n",
    "sample_id = 1234\n",
    "plt.imshow(x_train[sample_id])\n",
    "plt.show()\n",
    "print('Nhãn (label) của ground-truth: ', y_train[sample_id])"
   ]
  },
  {
   "cell_type": "markdown",
   "id": "225d242e-d010-4f65-9030-97fc722a21a9",
   "metadata": {
    "deletable": false,
    "editable": false,
    "nbgrader": {
     "cell_type": "markdown",
     "checksum": "b09281ebe1e41ac673dca635b82446d8",
     "grade": false,
     "grade_id": "cell-c1c769fbbbafaa90",
     "locked": true,
     "schema_version": 3,
     "solution": false,
     "task": false
    },
    "tags": []
   },
   "source": [
    "## 2. Tiền xử lý dữ liệu\n",
    "Việc chuẩn hóa dữ liệu bao gồm hai nhóm công việc chính:\n",
    "* Đối với output `y`: chuyển đổi **từ dạng nhãn (label) sang dạng one-hot encoding**.\n",
    "* Đối với input `x`: chuẩn hóa các giá trị mức sáng **từ [0-255] về đoạn [0-1]**. Bước này cải tiến tốc độ huấn luyện một cách đáng kể."
   ]
  },
  {
   "cell_type": "code",
   "execution_count": 5,
   "id": "8af7bbc2-4055-4618-99c7-dc0b0c1a459f",
   "metadata": {
    "deletable": false,
    "editable": false,
    "nbgrader": {
     "cell_type": "code",
     "checksum": "503ef97de72f6f929f4ac1fc823464e5",
     "grade": false,
     "grade_id": "cell-f5b6fa2eccd42071",
     "locked": true,
     "schema_version": 3,
     "solution": false,
     "task": false
    },
    "tags": []
   },
   "outputs": [],
   "source": [
    "# Hàm này được sử dụng để chuyển đổi output từ dạng \n",
    "# nhãn sang dạng one-hot vector\n",
    "def onehot(y):\n",
    "    oh = np.zeros((y.shape[0], 10))\n",
    "    for i in range(y.shape[0]):\n",
    "        oh[i, int(y[i])]=1\n",
    "    return oh"
   ]
  },
  {
   "cell_type": "code",
   "execution_count": 6,
   "id": "91de17a1-3122-4360-9a29-b12088db0121",
   "metadata": {
    "deletable": false,
    "editable": false,
    "nbgrader": {
     "cell_type": "code",
     "checksum": "976021cc054f18da76dc89ad3be398ec",
     "grade": false,
     "grade_id": "cell-fa08d97ef14a7f0e",
     "locked": true,
     "schema_version": 3,
     "solution": false,
     "task": false
    },
    "tags": []
   },
   "outputs": [],
   "source": [
    "from sklearn import preprocessing\n",
    "import numpy as np\n",
    "\n",
    "# Chuyển đổi từ dạng label sang dạng one-hot encoding\n",
    "y_train_oh = onehot(y_train)\n",
    "y_train_oh.shape\n",
    "\n",
    "y_test_oh = onehot(y_test)\n",
    "y_test_oh.shape\n",
    "\n",
    "# Chuẩn hóa ảnh đầu vào về [0-1]\n",
    "x_train_norm = x_train / 255.0\n",
    "x_test_norm = x_test / 255.0"
   ]
  },
  {
   "cell_type": "code",
   "execution_count": 7,
   "id": "a2389d65-c9b4-4623-9b9a-0cee90dad63d",
   "metadata": {
    "deletable": false,
    "editable": false,
    "nbgrader": {
     "cell_type": "code",
     "checksum": "8b3ffe084a6f55c56e26e3b03aa834b0",
     "grade": false,
     "grade_id": "cell-0e0243e7b32f48af",
     "locked": true,
     "schema_version": 3,
     "solution": false,
     "task": false
    },
    "tags": []
   },
   "outputs": [
    {
     "name": "stdout",
     "output_type": "stream",
     "text": [
      "`y` TRƯỚC khi biến đổi:  0\n",
      "`y` SAU khi biến đổi:  [1. 0. 0. 0. 0. 0. 0. 0. 0. 0.]\n"
     ]
    }
   ],
   "source": [
    "# Các bạn có thể xem dữ liệu trước và sau khi tiền xử lý\n",
    "# Các bạn có thể thay đổi sample_id bằng số tùy ý\n",
    "sample_id = 4321\n",
    "\n",
    "print(\"`y` TRƯỚC khi biến đổi: \", y_train[sample_id])\n",
    "print(\"`y` SAU khi biến đổi: \", y_train_oh[sample_id])"
   ]
  },
  {
   "cell_type": "code",
   "execution_count": 8,
   "id": "a9968f6d-0861-407a-9968-8e1b9fc5cc88",
   "metadata": {
    "deletable": false,
    "editable": false,
    "nbgrader": {
     "cell_type": "code",
     "checksum": "a72ca151834f589061a26269c1dc9b4d",
     "grade": false,
     "grade_id": "cell-62a5bd0ec9e5d722",
     "locked": true,
     "schema_version": 3,
     "solution": false,
     "task": false
    },
    "tags": []
   },
   "outputs": [
    {
     "name": "stdout",
     "output_type": "stream",
     "text": [
      "`x` TRƯỚC khi biến đổi:  [[  0   0   0   0   0   0   0   0   0   0   0   0   0   0   0   0   0   0\n",
      "    0   0   0   0   0   0   0   0   0   0]\n",
      " [  0   0   0   0   0   0   0   0   0   0   0   0   0   0   0   0   0   0\n",
      "    0   0   0   0   0   0   0   0   0   0]\n",
      " [  0   0   0   0   0   0   0   0   0   0   0   0   0   0   0   0   0   0\n",
      "    0   0   0   0   0   0   0   0   0   0]\n",
      " [  0   0   0   0   0   0   0   0   0   0   0   0   0   0   0   0   0   0\n",
      "    0   0   0   0   0   0   0   0   0   0]\n",
      " [  0   0   0   0   0   0   0   0   0   0   0   0   0   0   0   0   0   0\n",
      "   48 191 255 203   7   0   0   0   0   0]\n",
      " [  0   0   0   0   0   0   0   0   0   0   0   0   0   0   0   0   7  57\n",
      "  172 252 247 196  43   0   0   0   0   0]\n",
      " [  0   0   0   0   0   0   0   0   0   0   0   0   0   0   0   0 104 252\n",
      "  252 252  50   0   0   0   0   0   0   0]\n",
      " [  0   0   0   0   0   0   0   0   0   0   0   0   0   0   0 201 253 252\n",
      "  252 202  51   0   0   0   0   0   0   0]\n",
      " [  0   0   0   0   0   0   0   0   0   0   0   0   0  26 223 253 254 234\n",
      "  235 253 179  10   0   0   0   0   0   0]\n",
      " [  0   0   0   0   0   0   0   0   0   0   0   0  45 169 234 227 134  28\n",
      "   66 246 253  84   0   0   0   0   0   0]\n",
      " [  0   0   0   0   0   0   0   0   0   0   0  38 229 252 252 103   0   0\n",
      "    0 187 253 171   0   0   0   0   0   0]\n",
      " [  0   0   0   0   0   0   0   0   0   0   0 163 253 252 164  15   0   0\n",
      "    0  63 253 246 100   0   0   0   0   0]\n",
      " [  0   0   0   0   0   0   0   0   0   7 204 253 239  88   0   0   0   0\n",
      "    0  51 242 253  56   0   0   0   0   0]\n",
      " [  0   0   0   0   0   0   0   0   7 150 252 252 125   0   0   0   0   0\n",
      "    0   0 216 252  56   0   0   0   0   0]\n",
      " [  0   0   0   0   0   0   0   0  29 252 252 164   0   0   0   0   0   0\n",
      "    0   0 253 252  94   0   0   0   0   0]\n",
      " [  0   0   0   0   0   0   0   0 229 252 214  28   0   0   0   0   0   0\n",
      "    0  51 253 252  68   0   0   0   0   0]\n",
      " [  0   0   0   0   0   0   0 176 254 222  25   0   0   0   0   0   0   0\n",
      "   48 241 254 134   0   0   0   0   0   0]\n",
      " [  0   0   0   0   0   0  82 243 247 103   0   0   0   0   0   0   7  57\n",
      "  172 252 222  65   0   0   0   0   0   0]\n",
      " [  0   0   0   0   0   0 147 252 225   0   0   0   0   0   0   0  66 252\n",
      "  252 252  76   0   0   0   0   0   0   0]\n",
      " [  0   0   0   0   0   0 197 252 125   0   0   0   0   0  38 163 241 252\n",
      "  214  90   0   0   0   0   0   0   0   0]\n",
      " [  0   0   0   0   0  57 253 253  63   0   0  13  29 104 178 253 251 150\n",
      "   25   0   0   0   0   0   0   0   0   0]\n",
      " [  0   0   0   0   0  95 240 252 156 169 169 206 253 252 252 252  75   0\n",
      "    0   0   0   0   0   0   0   0   0   0]\n",
      " [  0   0   0   0   0   0 197 252 253 252 252 252 244 168 130  56   0   0\n",
      "    0   0   0   0   0   0   0   0   0   0]\n",
      " [  0   0   0   0   0   0  59 190 253 252 252 151  25   0   0   0   0   0\n",
      "    0   0   0   0   0   0   0   0   0   0]\n",
      " [  0   0   0   0   0   0   0   0   0   0   0   0   0   0   0   0   0   0\n",
      "    0   0   0   0   0   0   0   0   0   0]\n",
      " [  0   0   0   0   0   0   0   0   0   0   0   0   0   0   0   0   0   0\n",
      "    0   0   0   0   0   0   0   0   0   0]\n",
      " [  0   0   0   0   0   0   0   0   0   0   0   0   0   0   0   0   0   0\n",
      "    0   0   0   0   0   0   0   0   0   0]\n",
      " [  0   0   0   0   0   0   0   0   0   0   0   0   0   0   0   0   0   0\n",
      "    0   0   0   0   0   0   0   0   0   0]]\n",
      "`x` SAU khi biến đổi:  [[0.         0.         0.         0.         0.         0.\n",
      "  0.         0.         0.         0.         0.         0.\n",
      "  0.         0.         0.         0.         0.         0.\n",
      "  0.         0.         0.         0.         0.         0.\n",
      "  0.         0.         0.         0.        ]\n",
      " [0.         0.         0.         0.         0.         0.\n",
      "  0.         0.         0.         0.         0.         0.\n",
      "  0.         0.         0.         0.         0.         0.\n",
      "  0.         0.         0.         0.         0.         0.\n",
      "  0.         0.         0.         0.        ]\n",
      " [0.         0.         0.         0.         0.         0.\n",
      "  0.         0.         0.         0.         0.         0.\n",
      "  0.         0.         0.         0.         0.         0.\n",
      "  0.         0.         0.         0.         0.         0.\n",
      "  0.         0.         0.         0.        ]\n",
      " [0.         0.         0.         0.         0.         0.\n",
      "  0.         0.         0.         0.         0.         0.\n",
      "  0.         0.         0.         0.         0.         0.\n",
      "  0.         0.         0.         0.         0.         0.\n",
      "  0.         0.         0.         0.        ]\n",
      " [0.         0.         0.         0.         0.         0.\n",
      "  0.         0.         0.         0.         0.         0.\n",
      "  0.         0.         0.         0.         0.         0.\n",
      "  0.18823529 0.74901961 1.         0.79607843 0.02745098 0.\n",
      "  0.         0.         0.         0.        ]\n",
      " [0.         0.         0.         0.         0.         0.\n",
      "  0.         0.         0.         0.         0.         0.\n",
      "  0.         0.         0.         0.         0.02745098 0.22352941\n",
      "  0.6745098  0.98823529 0.96862745 0.76862745 0.16862745 0.\n",
      "  0.         0.         0.         0.        ]\n",
      " [0.         0.         0.         0.         0.         0.\n",
      "  0.         0.         0.         0.         0.         0.\n",
      "  0.         0.         0.         0.         0.40784314 0.98823529\n",
      "  0.98823529 0.98823529 0.19607843 0.         0.         0.\n",
      "  0.         0.         0.         0.        ]\n",
      " [0.         0.         0.         0.         0.         0.\n",
      "  0.         0.         0.         0.         0.         0.\n",
      "  0.         0.         0.         0.78823529 0.99215686 0.98823529\n",
      "  0.98823529 0.79215686 0.2        0.         0.         0.\n",
      "  0.         0.         0.         0.        ]\n",
      " [0.         0.         0.         0.         0.         0.\n",
      "  0.         0.         0.         0.         0.         0.\n",
      "  0.         0.10196078 0.8745098  0.99215686 0.99607843 0.91764706\n",
      "  0.92156863 0.99215686 0.70196078 0.03921569 0.         0.\n",
      "  0.         0.         0.         0.        ]\n",
      " [0.         0.         0.         0.         0.         0.\n",
      "  0.         0.         0.         0.         0.         0.\n",
      "  0.17647059 0.6627451  0.91764706 0.89019608 0.5254902  0.10980392\n",
      "  0.25882353 0.96470588 0.99215686 0.32941176 0.         0.\n",
      "  0.         0.         0.         0.        ]\n",
      " [0.         0.         0.         0.         0.         0.\n",
      "  0.         0.         0.         0.         0.         0.14901961\n",
      "  0.89803922 0.98823529 0.98823529 0.40392157 0.         0.\n",
      "  0.         0.73333333 0.99215686 0.67058824 0.         0.\n",
      "  0.         0.         0.         0.        ]\n",
      " [0.         0.         0.         0.         0.         0.\n",
      "  0.         0.         0.         0.         0.         0.63921569\n",
      "  0.99215686 0.98823529 0.64313725 0.05882353 0.         0.\n",
      "  0.         0.24705882 0.99215686 0.96470588 0.39215686 0.\n",
      "  0.         0.         0.         0.        ]\n",
      " [0.         0.         0.         0.         0.         0.\n",
      "  0.         0.         0.         0.02745098 0.8        0.99215686\n",
      "  0.9372549  0.34509804 0.         0.         0.         0.\n",
      "  0.         0.2        0.94901961 0.99215686 0.21960784 0.\n",
      "  0.         0.         0.         0.        ]\n",
      " [0.         0.         0.         0.         0.         0.\n",
      "  0.         0.         0.02745098 0.58823529 0.98823529 0.98823529\n",
      "  0.49019608 0.         0.         0.         0.         0.\n",
      "  0.         0.         0.84705882 0.98823529 0.21960784 0.\n",
      "  0.         0.         0.         0.        ]\n",
      " [0.         0.         0.         0.         0.         0.\n",
      "  0.         0.         0.11372549 0.98823529 0.98823529 0.64313725\n",
      "  0.         0.         0.         0.         0.         0.\n",
      "  0.         0.         0.99215686 0.98823529 0.36862745 0.\n",
      "  0.         0.         0.         0.        ]\n",
      " [0.         0.         0.         0.         0.         0.\n",
      "  0.         0.         0.89803922 0.98823529 0.83921569 0.10980392\n",
      "  0.         0.         0.         0.         0.         0.\n",
      "  0.         0.2        0.99215686 0.98823529 0.26666667 0.\n",
      "  0.         0.         0.         0.        ]\n",
      " [0.         0.         0.         0.         0.         0.\n",
      "  0.         0.69019608 0.99607843 0.87058824 0.09803922 0.\n",
      "  0.         0.         0.         0.         0.         0.\n",
      "  0.18823529 0.94509804 0.99607843 0.5254902  0.         0.\n",
      "  0.         0.         0.         0.        ]\n",
      " [0.         0.         0.         0.         0.         0.\n",
      "  0.32156863 0.95294118 0.96862745 0.40392157 0.         0.\n",
      "  0.         0.         0.         0.         0.02745098 0.22352941\n",
      "  0.6745098  0.98823529 0.87058824 0.25490196 0.         0.\n",
      "  0.         0.         0.         0.        ]\n",
      " [0.         0.         0.         0.         0.         0.\n",
      "  0.57647059 0.98823529 0.88235294 0.         0.         0.\n",
      "  0.         0.         0.         0.         0.25882353 0.98823529\n",
      "  0.98823529 0.98823529 0.29803922 0.         0.         0.\n",
      "  0.         0.         0.         0.        ]\n",
      " [0.         0.         0.         0.         0.         0.\n",
      "  0.77254902 0.98823529 0.49019608 0.         0.         0.\n",
      "  0.         0.         0.14901961 0.63921569 0.94509804 0.98823529\n",
      "  0.83921569 0.35294118 0.         0.         0.         0.\n",
      "  0.         0.         0.         0.        ]\n",
      " [0.         0.         0.         0.         0.         0.22352941\n",
      "  0.99215686 0.99215686 0.24705882 0.         0.         0.05098039\n",
      "  0.11372549 0.40784314 0.69803922 0.99215686 0.98431373 0.58823529\n",
      "  0.09803922 0.         0.         0.         0.         0.\n",
      "  0.         0.         0.         0.        ]\n",
      " [0.         0.         0.         0.         0.         0.37254902\n",
      "  0.94117647 0.98823529 0.61176471 0.6627451  0.6627451  0.80784314\n",
      "  0.99215686 0.98823529 0.98823529 0.98823529 0.29411765 0.\n",
      "  0.         0.         0.         0.         0.         0.\n",
      "  0.         0.         0.         0.        ]\n",
      " [0.         0.         0.         0.         0.         0.\n",
      "  0.77254902 0.98823529 0.99215686 0.98823529 0.98823529 0.98823529\n",
      "  0.95686275 0.65882353 0.50980392 0.21960784 0.         0.\n",
      "  0.         0.         0.         0.         0.         0.\n",
      "  0.         0.         0.         0.        ]\n",
      " [0.         0.         0.         0.         0.         0.\n",
      "  0.23137255 0.74509804 0.99215686 0.98823529 0.98823529 0.59215686\n",
      "  0.09803922 0.         0.         0.         0.         0.\n",
      "  0.         0.         0.         0.         0.         0.\n",
      "  0.         0.         0.         0.        ]\n",
      " [0.         0.         0.         0.         0.         0.\n",
      "  0.         0.         0.         0.         0.         0.\n",
      "  0.         0.         0.         0.         0.         0.\n",
      "  0.         0.         0.         0.         0.         0.\n",
      "  0.         0.         0.         0.        ]\n",
      " [0.         0.         0.         0.         0.         0.\n",
      "  0.         0.         0.         0.         0.         0.\n",
      "  0.         0.         0.         0.         0.         0.\n",
      "  0.         0.         0.         0.         0.         0.\n",
      "  0.         0.         0.         0.        ]\n",
      " [0.         0.         0.         0.         0.         0.\n",
      "  0.         0.         0.         0.         0.         0.\n",
      "  0.         0.         0.         0.         0.         0.\n",
      "  0.         0.         0.         0.         0.         0.\n",
      "  0.         0.         0.         0.        ]\n",
      " [0.         0.         0.         0.         0.         0.\n",
      "  0.         0.         0.         0.         0.         0.\n",
      "  0.         0.         0.         0.         0.         0.\n",
      "  0.         0.         0.         0.         0.         0.\n",
      "  0.         0.         0.         0.        ]]\n"
     ]
    }
   ],
   "source": [
    "print(\"`x` TRƯỚC khi biến đổi: \", x_train[sample_id])\n",
    "print(\"`x` SAU khi biến đổi: \", x_train_norm[sample_id])"
   ]
  },
  {
   "cell_type": "markdown",
   "id": "f17333bc-8585-406e-a1ee-79c03d2a2d03",
   "metadata": {
    "deletable": false,
    "editable": false,
    "nbgrader": {
     "cell_type": "markdown",
     "checksum": "07cda535dc7b2c5942de4073293c6d97",
     "grade": false,
     "grade_id": "cell-4f9fcd48b0721ed1",
     "locked": true,
     "schema_version": 3,
     "solution": false,
     "task": false
    },
    "tags": []
   },
   "source": [
    "## 3. Cài đặt mạng CNN với kiến trúc LeNet"
   ]
  },
  {
   "cell_type": "markdown",
   "id": "c4b2f1f8-90f2-4952-8ba1-b6cbaa60dc2e",
   "metadata": {
    "deletable": false,
    "editable": false,
    "nbgrader": {
     "cell_type": "markdown",
     "checksum": "bf3a9a9f8025083da4055b01927a6964",
     "grade": false,
     "grade_id": "cell-ba60168f1c07967f",
     "locked": true,
     "schema_version": 3,
     "solution": false,
     "task": false
    },
    "tags": []
   },
   "source": [
    "Import các thư viện Keras phục vụ cho việc cài đặt mô hình:\n",
    "\n",
    "Đầu tiên, ta sẽ import các thư viện, module, hàm của `Keras`:\n",
    "- `Input`: để nhận dữ liệu đầu vào cho mô hình\n",
    "- `Conv2D`: biến đổi Convolution với activation\n",
    "- `AveragePooling2D`: giảm kích thước đặc trưng\n",
    "- `Dense`: hay còn gọi là lớp Fully Connected (Lớp kết nối đầy đủ), một thành phần quan trọng của các mô hình dựa trên mạng Neural Network.\n",
    "- `Model`: đây là lớp đối tượng mô hình được sử dụng để đóng gói lớp đầu vào, đầu ra, sau đó huấn luyện với phương thức `fit` và dự đoán kết quả với `predict`.\n",
    "- `load_model`: hàm sử dụng để load mô hình lên từ file"
   ]
  },
  {
   "cell_type": "code",
   "execution_count": 9,
   "id": "5173f06c-248a-4543-a739-6fc16133965b",
   "metadata": {
    "deletable": false,
    "editable": false,
    "nbgrader": {
     "cell_type": "code",
     "checksum": "1fbbf736f777369e1055bda3c29a611f",
     "grade": false,
     "grade_id": "cell-41738a4f2aff4901",
     "locked": true,
     "schema_version": 3,
     "solution": false,
     "task": false
    },
    "tags": []
   },
   "outputs": [],
   "source": [
    "from keras.layers import Input, Dense, Conv2D, AveragePooling2D, Flatten\n",
    "from keras.models import load_model, Model\n",
    "import keras"
   ]
  },
  {
   "cell_type": "code",
   "execution_count": 10,
   "id": "a396f301-3bbf-40f3-a727-5cdae2c8f28a",
   "metadata": {
    "deletable": false,
    "editable": false,
    "nbgrader": {
     "cell_type": "code",
     "checksum": "ea3f3acb2a5d3b4d0fe454fad76b6fb3",
     "grade": false,
     "grade_id": "cell-7235847a9f5cd5b3",
     "locked": true,
     "schema_version": 3,
     "solution": false,
     "task": false
    },
    "tags": []
   },
   "outputs": [],
   "source": [
    "class LeNetCNN:\n",
    "  # constructor\n",
    "  def __init__(self):\n",
    "    self.model = None\n",
    "\n",
    "  # Định nghĩa kiến trúc của mô hình\n",
    "  def build(self, input_dim):\n",
    "    input = Input(shape = input_dim) # input\n",
    "    \n",
    "    # Bước rút trích đặc trưng\n",
    "    C1 = Conv2D(6, (3, 3), padding='same', activation='sigmoid')(input)\n",
    "    S2 = AveragePooling2D(pool_size=(2, 2), padding=\"same\")(C1)\n",
    "    C3 = Conv2D(16, (3, 3), padding='same', activation='sigmoid')(S2)\n",
    "    S4 = AveragePooling2D(pool_size=(2, 2), padding=\"same\")(C3)\n",
    "    # Bước trung gian chuyển từ tensor sang vector\n",
    "    flat = Flatten()(S4)\n",
    "    # Bước phân loại đặc trưng bước trước\n",
    "    F5 = Dense(120, activation='sigmoid', use_bias=True)(flat)\n",
    "    F6 = Dense(84, activation='sigmoid', use_bias=True)(F5)\n",
    "    output = Dense(10, activation='softmax', use_bias=True)(F6) # y~ output\n",
    "    \n",
    "    self.model = Model(input, output)\n",
    "\n",
    "  # Huấn luyện mô hình\n",
    "  def train(self, x_train, y_train): # x_train chinh la X, y_train chinh la ground-truth\n",
    "    adam = keras.optimizers.Adam(learning_rate=0.01)\n",
    "    self.model.compile(optimizer=adam, loss = 'categorical_crossentropy', metrics=['accuracy'])\n",
    "    self.model.fit(x_train, y_train, epochs = 10, batch_size = 128)\n",
    "\n",
    "  # Load mô hình từ file\n",
    "  def load(self, model_file):\n",
    "    self.model = load_model(model_file)\n",
    "\n",
    "  # Lưu mô hình hiện tại xuống file\n",
    "  def save(self, model_file):\n",
    "    self.model.save(model_file)\n",
    "\n",
    "  # Tóm tắt kiến trúc mạng\n",
    "  def summary(self):\n",
    "    self.model.summary()\n",
    "\n",
    "  # Thử nghiệm mô hình với dữ liệu ảnh đầu vào\n",
    "  def predict(self, x_test):\n",
    "    return self.model.predict(x_test)\n",
    "  \n",
    "  # Đánh giá trên tập dữ liệu test\n",
    "  def predict_and_eval(self, x_test_norm, y_test):\n",
    "    # Predict trên tập dữ liệu test\n",
    "    test_pred = self.model.predict(x_test_norm)\n",
    "\n",
    "    # Đánh giá độ chính xác trên toàn bộ tập test\n",
    "    accuracy = tf.keras.metrics.Accuracy()\n",
    "    labels_pred = [np.argmax(i) for i in test_pred]\n",
    "    accuracy.update_state(labels_pred, y_test)\n",
    "    print('Độ chính xác của phiên bản hiện tại: {}'.format(accuracy.result().numpy()*100))\n"
   ]
  },
  {
   "cell_type": "code",
   "execution_count": 11,
   "id": "3c514ff3-ee90-412b-bb5a-062bafde6fc4",
   "metadata": {
    "deletable": false,
    "editable": false,
    "nbgrader": {
     "cell_type": "code",
     "checksum": "7cc100f6ee5b5bdeea0e0b7d45f33e17",
     "grade": false,
     "grade_id": "cell-a1ea4bce79733766",
     "locked": true,
     "schema_version": 3,
     "solution": false,
     "task": false
    },
    "tags": []
   },
   "outputs": [
    {
     "name": "stdout",
     "output_type": "stream",
     "text": [
      "Model: \"model\"\n",
      "_________________________________________________________________\n",
      " Layer (type)                Output Shape              Param #   \n",
      "=================================================================\n",
      " input_1 (InputLayer)        [(None, 28, 28, 1)]       0         \n",
      "                                                                 \n",
      " conv2d (Conv2D)             (None, 28, 28, 6)         60        \n",
      "                                                                 \n",
      " average_pooling2d (AverageP  (None, 14, 14, 6)        0         \n",
      " ooling2D)                                                       \n",
      "                                                                 \n",
      " conv2d_1 (Conv2D)           (None, 14, 14, 16)        880       \n",
      "                                                                 \n",
      " average_pooling2d_1 (Averag  (None, 7, 7, 16)         0         \n",
      " ePooling2D)                                                     \n",
      "                                                                 \n",
      " flatten (Flatten)           (None, 784)               0         \n",
      "                                                                 \n",
      " dense (Dense)               (None, 120)               94200     \n",
      "                                                                 \n",
      " dense_1 (Dense)             (None, 84)                10164     \n",
      "                                                                 \n",
      " dense_2 (Dense)             (None, 10)                850       \n",
      "                                                                 \n",
      "=================================================================\n",
      "Total params: 106,154\n",
      "Trainable params: 106,154\n",
      "Non-trainable params: 0\n",
      "_________________________________________________________________\n",
      "Epoch 1/10\n",
      "469/469 [==============================] - 10s 19ms/step - loss: 1.4355 - accuracy: 0.4665\n",
      "Epoch 2/10\n",
      "469/469 [==============================] - 12s 25ms/step - loss: 0.2091 - accuracy: 0.9365\n",
      "Epoch 3/10\n",
      "469/469 [==============================] - 10s 22ms/step - loss: 0.1172 - accuracy: 0.9638\n",
      "Epoch 4/10\n",
      "469/469 [==============================] - 11s 23ms/step - loss: 0.0879 - accuracy: 0.9732\n",
      "Epoch 5/10\n",
      "469/469 [==============================] - 11s 23ms/step - loss: 0.0692 - accuracy: 0.9788\n",
      "Epoch 6/10\n",
      "469/469 [==============================] - 10s 22ms/step - loss: 0.0592 - accuracy: 0.9818\n",
      "Epoch 7/10\n",
      "469/469 [==============================] - 10s 22ms/step - loss: 0.0512 - accuracy: 0.9840\n",
      "Epoch 8/10\n",
      "469/469 [==============================] - 10s 22ms/step - loss: 0.0461 - accuracy: 0.9857\n",
      "Epoch 9/10\n",
      "469/469 [==============================] - 10s 22ms/step - loss: 0.0397 - accuracy: 0.9872\n",
      "Epoch 10/10\n",
      "469/469 [==============================] - 11s 23ms/step - loss: 0.0381 - accuracy: 0.9877\n"
     ]
    }
   ],
   "source": [
    "# Khởi tạo random seed để cố định kết quả huấn luyện cho tất cả mọi người\n",
    "fix_random_seed()\n",
    "\n",
    "# Khởi tạo đối tượng mạng CNN kiến trúc LeNet\n",
    "lenet = LeNetCNN()\n",
    "# Xây dựng kiến trúc mô hình với ảnh đầu vào kích thước 28x28x1\n",
    "lenet.build((28, 28, 1))\n",
    "lenet.summary()\n",
    "lenet.train(x_train_norm, y_train_oh)"
   ]
  },
  {
   "cell_type": "markdown",
   "id": "e4a196ba-5366-47a2-b1a7-bcaf03936605",
   "metadata": {
    "deletable": false,
    "editable": false,
    "nbgrader": {
     "cell_type": "markdown",
     "checksum": "e42720965ca1062a7b589737abd7801f",
     "grade": false,
     "grade_id": "cell-9f597daf866aaed8",
     "locked": true,
     "schema_version": 3,
     "solution": false,
     "task": false
    },
    "tags": []
   },
   "source": [
    "Với kiến trúc mạng ở trên, hãy quan sát và xem có thông tin nào bạn chưa thực sự hiểu rõ không?\n",
    "\n",
    "Các thông tin cần nắm vững:\n",
    "- Tên lớp\n",
    "- Kích thước lớp\n",
    "- Số lượng tham số\n",
    "\n",
    "Thảo luận với bạn bè / thầy cô khi có chỗ nào chưa rõ trong các tham số trên."
   ]
  },
  {
   "cell_type": "code",
   "execution_count": 14,
   "id": "90538869-b247-4c5c-86ce-1ba49f92aae6",
   "metadata": {
    "deletable": false,
    "editable": false,
    "nbgrader": {
     "cell_type": "code",
     "checksum": "7f1d0dc3dee6e1553fa70042d0a3b02a",
     "grade": false,
     "grade_id": "cell-4236035607f6cc5f",
     "locked": true,
     "schema_version": 3,
     "solution": false,
     "task": false
    },
    "tags": []
   },
   "outputs": [
    {
     "name": "stdout",
     "output_type": "stream",
     "text": [
      "313/313 [==============================] - 1s 3ms/step\n"
     ]
    },
    {
     "data": {
      "image/png": "[encoded data removed]",
      "text/plain": [
       "<Figure size 640x480 with 1 Axes>"
      ]
     },
     "metadata": {},
     "output_type": "display_data"
    },
    {
     "name": "stdout",
     "output_type": "stream",
     "text": [
      "Nhãn dự đoán:  8\n",
      "Nhãn ground-truth:  8\n"
     ]
    }
   ],
   "source": [
    "# Predict trên tập dữ liệu test\n",
    "pred = lenet.predict(x_test_norm)\n",
    "test_index = 1234\n",
    "plt.imshow(x_test[test_index])\n",
    "plt.show()\n",
    "print('Nhãn dự đoán: ', np.argmax(pred[test_index]))\n",
    "print('Nhãn ground-truth: ', y_test[test_index])"
   ]
  },
  {
   "cell_type": "code",
   "execution_count": 13,
   "id": "ddbe08d9-fd89-4b67-8d62-64ec1ed4785a",
   "metadata": {
    "deletable": false,
    "editable": false,
    "nbgrader": {
     "cell_type": "code",
     "checksum": "5084e31510d5c9e1a0c053b004fe229b",
     "grade": false,
     "grade_id": "cell-06228067710bb510",
     "locked": true,
     "schema_version": 3,
     "solution": false,
     "task": false
    },
    "tags": []
   },
   "outputs": [
    {
     "name": "stdout",
     "output_type": "stream",
     "text": [
      "313/313 [==============================] - 1s 3ms/step\n",
      "Độ chính xác của phiên bản hiện tại: 98.47999811172485\n"
     ]
    }
   ],
   "source": [
    "# Đánh giá hiệu quả của hệ thống trên tập test\n",
    "lenet.predict_and_eval(x_test_norm, y_test)"
   ]
  },
  {
   "cell_type": "markdown",
   "id": "8f22937b-90ae-47f9-981b-74420ee7b90b",
   "metadata": {
    "deletable": false,
    "editable": false,
    "nbgrader": {
     "cell_type": "markdown",
     "checksum": "1db88492fff1da118f99b4fbc2d75592",
     "grade": false,
     "grade_id": "cell-cd44357ea71a7ccf",
     "locked": true,
     "schema_version": 3,
     "solution": false,
     "task": false
    },
    "tags": []
   },
   "source": [
    "## 4. Thử nghiệm với một số biến thể"
   ]
  },
  {
   "cell_type": "markdown",
   "id": "fd7e369e-63c1-4870-882b-7bff6b90bdea",
   "metadata": {
    "deletable": false,
    "editable": false,
    "nbgrader": {
     "cell_type": "markdown",
     "checksum": "db8301e46d5b5ebeaa52fe497079aca0",
     "grade": false,
     "grade_id": "cell-f47d995b92ff354d",
     "locked": true,
     "schema_version": 3,
     "solution": false,
     "task": false
    },
    "tags": []
   },
   "source": [
    "### 4.1 Biến thể Alpha - Thay activation `sigmoid` bằng `relu`"
   ]
  },
  {
   "cell_type": "code",
   "execution_count": 16,
   "id": "b2c1b4af-5b7e-427d-8582-f602ff557b4c",
   "metadata": {
    "deletable": false,
    "nbgrader": {
     "cell_type": "code",
     "checksum": "4a9b557c1b93531818a443cc8414320d",
     "grade": false,
     "grade_id": "cell-eaa8dbe632d82887",
     "locked": false,
     "schema_version": 3,
     "solution": true,
     "task": false
    },
    "tags": []
   },
   "outputs": [],
   "source": [
    "class AlphaCNN(LeNetCNN):\n",
    "  # Define structure of the CNN\n",
    "  def build(self, input_dim):\n",
    "    input = None\n",
    "    output = None\n",
    "    # YOUR CODE HERE\n",
    "    input = Input(shape = input_dim) # input\n",
    "    \n",
    "    # Bước rút trích đặc trưng\n",
    "    C1 = Conv2D(6, (3, 3), padding='same', activation='relu')(input)\n",
    "    S2 = AveragePooling2D(pool_size=(2, 2), padding=\"same\")(C1)\n",
    "    C3 = Conv2D(16, (3, 3), padding='same', activation='relu')(S2)\n",
    "    S4 = AveragePooling2D(pool_size=(2, 2), padding=\"same\")(C3)\n",
    "    # Bước trung gian chuyển từ tensor sang vector\n",
    "    flat = Flatten()(S4)\n",
    "    # Bước phân loại đặc trưng bước trước\n",
    "    F5 = Dense(120, activation='relu', use_bias=True)(flat)\n",
    "    F6 = Dense(84, activation='relu', use_bias=True)(F5)\n",
    "    output = Dense(10, activation='softmax', use_bias=True)(F6) # y~ output\n",
    "    self.model = Model(input, output)\n"
   ]
  },
  {
   "cell_type": "code",
   "execution_count": 17,
   "id": "bc2652c7-480f-4b48-8ac0-c1c3f6ad41df",
   "metadata": {
    "deletable": false,
    "editable": false,
    "nbgrader": {
     "cell_type": "code",
     "checksum": "e61be243a0567a2661e7fea73888eb38",
     "grade": false,
     "grade_id": "cell-75f270766ba8c072",
     "locked": true,
     "schema_version": 3,
     "solution": false,
     "task": false
    },
    "tags": []
   },
   "outputs": [
    {
     "name": "stdout",
     "output_type": "stream",
     "text": [
      "Model: \"model_1\"\n",
      "_________________________________________________________________\n",
      " Layer (type)                Output Shape              Param #   \n",
      "=================================================================\n",
      " input_2 (InputLayer)        [(None, 28, 28, 1)]       0         \n",
      "                                                                 \n",
      " conv2d_2 (Conv2D)           (None, 28, 28, 6)         60        \n",
      "                                                                 \n",
      " average_pooling2d_2 (Averag  (None, 14, 14, 6)        0         \n",
      " ePooling2D)                                                     \n",
      "                                                                 \n",
      " conv2d_3 (Conv2D)           (None, 14, 14, 16)        880       \n",
      "                                                                 \n",
      " average_pooling2d_3 (Averag  (None, 7, 7, 16)         0         \n",
      " ePooling2D)                                                     \n",
      "                                                                 \n",
      " flatten_1 (Flatten)         (None, 784)               0         \n",
      "                                                                 \n",
      " dense_3 (Dense)             (None, 120)               94200     \n",
      "                                                                 \n",
      " dense_4 (Dense)             (None, 84)                10164     \n",
      "                                                                 \n",
      " dense_5 (Dense)             (None, 10)                850       \n",
      "                                                                 \n",
      "=================================================================\n",
      "Total params: 106,154\n",
      "Trainable params: 106,154\n",
      "Non-trainable params: 0\n",
      "_________________________________________________________________\n"
     ]
    }
   ],
   "source": [
    "# Khởi tạo random seed để cố định kết quả huấn luyện cho tất cả mọi người\n",
    "fix_random_seed()\n",
    "# Khởi tạo đối tượng mạng CNN kiến trúc Alpha\n",
    "alpha = AlphaCNN()\n",
    "# Xây dựng kiến trúc mô hình với ảnh đầu vào kích thước 28x28x1\n",
    "alpha.build((28, 28, 1))\n",
    "alpha.summary()"
   ]
  },
  {
   "cell_type": "code",
   "execution_count": 18,
   "id": "dc55c6d5-6b4f-47a3-bc51-f0c2422c21c3",
   "metadata": {
    "deletable": false,
    "editable": false,
    "nbgrader": {
     "cell_type": "code",
     "checksum": "3b537023e60efc9311e5609179f5fea5",
     "grade": true,
     "grade_id": "cell-69b3da1266013ec3",
     "locked": true,
     "points": 5,
     "schema_version": 3,
     "solution": false,
     "task": false
    },
    "tags": []
   },
   "outputs": [],
   "source": [
    "# Kiểm tra kiến trúc Alpha\n",
    "\n",
    "# Kiểm tra số layer không đổi\n",
    "assert len(alpha.model.layers) == 9\n",
    "# Kiểm tra một số lớp trong kiến trúc mạng Alpha\n",
    "assert \"keras.engine.input_layer.InputLayer\" in str(type(alpha.model.layers[0]))\n",
    "assert \"keras.layers.convolutional.conv2d.Conv2D\" in str(type(alpha.model.layers[1]))\n",
    "assert \"keras.layers.pooling.average_pooling2d.AveragePooling2D\" in str(type(alpha.model.layers[2]))\n",
    "assert \"class 'keras.layers.core.dense.Dense\" in str(type(alpha.model.layers[6]))\n",
    "# Kiểm tra hàm activation của lớp convolution\n",
    "assert alpha.model.layers[1].activation(1.0).numpy() == 1.0\n",
    "assert alpha.model.layers[1].activation(-1.0).numpy() == 0.0"
   ]
  },
  {
   "cell_type": "code",
   "execution_count": null,
   "id": "d71bac29-dfe6-4f2b-a779-feb24e331ea5",
   "metadata": {
    "deletable": false,
    "editable": false,
    "nbgrader": {
     "cell_type": "code",
     "checksum": "962cea399f0fff8b3a5c55f55b817f74",
     "grade": true,
     "grade_id": "cell-5d588f75c5a69f85",
     "locked": true,
     "points": 5,
     "schema_version": 3,
     "solution": false,
     "task": false
    },
    "tags": []
   },
   "outputs": [],
   "source": [
    "# Kiểm tra với bộ test ẩn"
   ]
  },
  {
   "cell_type": "code",
   "execution_count": 19,
   "id": "c4fdd3c2-3bc8-4561-a7a7-5782ece72ba5",
   "metadata": {
    "deletable": false,
    "editable": false,
    "nbgrader": {
     "cell_type": "code",
     "checksum": "54fac7eae022f6a1ece02a15e804fbdf",
     "grade": false,
     "grade_id": "cell-bbc8a416556c71aa",
     "locked": true,
     "schema_version": 3,
     "solution": false,
     "task": false
    },
    "tags": []
   },
   "outputs": [
    {
     "name": "stdout",
     "output_type": "stream",
     "text": [
      "Epoch 1/10\n",
      "469/469 [==============================] - 7s 15ms/step - loss: 0.1753 - accuracy: 0.9439\n",
      "Epoch 2/10\n",
      "469/469 [==============================] - 7s 15ms/step - loss: 0.0607 - accuracy: 0.9815\n",
      "Epoch 3/10\n",
      "469/469 [==============================] - 7s 15ms/step - loss: 0.0464 - accuracy: 0.9857\n",
      "Epoch 4/10\n",
      "469/469 [==============================] - 7s 15ms/step - loss: 0.0400 - accuracy: 0.9881\n",
      "Epoch 5/10\n",
      "469/469 [==============================] - 7s 15ms/step - loss: 0.0337 - accuracy: 0.9897\n",
      "Epoch 6/10\n",
      "469/469 [==============================] - 7s 15ms/step - loss: 0.0281 - accuracy: 0.9912\n",
      "Epoch 7/10\n",
      "469/469 [==============================] - 7s 15ms/step - loss: 0.0303 - accuracy: 0.9909\n",
      "Epoch 8/10\n",
      "469/469 [==============================] - 7s 15ms/step - loss: 0.0284 - accuracy: 0.9915\n",
      "Epoch 9/10\n",
      "469/469 [==============================] - 7s 15ms/step - loss: 0.0282 - accuracy: 0.9916\n",
      "Epoch 10/10\n",
      "469/469 [==============================] - 7s 15ms/step - loss: 0.0261 - accuracy: 0.9925\n"
     ]
    }
   ],
   "source": [
    "# Sau khi đã đảm bảo rằng kiến trúc của bạn đã ổn. Chờ gì nữa, train thôi!\n",
    "alpha.train(x_train_norm, y_train_oh)"
   ]
  },
  {
   "cell_type": "code",
   "execution_count": 20,
   "id": "b033eb06-45b7-40cf-9cf5-0371c2b64217",
   "metadata": {
    "deletable": false,
    "editable": false,
    "nbgrader": {
     "cell_type": "code",
     "checksum": "e0547a9957e1844f525ec113de1a55c8",
     "grade": false,
     "grade_id": "cell-bdbb24e5e8fe59f1",
     "locked": true,
     "schema_version": 3,
     "solution": false,
     "task": false
    },
    "tags": []
   },
   "outputs": [
    {
     "name": "stdout",
     "output_type": "stream",
     "text": [
      "313/313 [==============================] - 1s 3ms/step\n",
      "Độ chính xác của phiên bản hiện tại: 98.50999712944031\n"
     ]
    }
   ],
   "source": [
    "# Đánh giá hiệu quả của mô hình trên tập test\n",
    "alpha.predict_and_eval(x_test_norm, y_test)"
   ]
  },
  {
   "cell_type": "markdown",
   "id": "fd79ef31-9bea-4b46-83db-5a9339570b39",
   "metadata": {
    "deletable": false,
    "editable": false,
    "nbgrader": {
     "cell_type": "markdown",
     "checksum": "044440f5e411652a848411af49d50b5a",
     "grade": false,
     "grade_id": "cell-2f08b3408e361ba2",
     "locked": true,
     "schema_version": 3,
     "solution": false,
     "task": false
    },
    "tags": []
   },
   "source": [
    "Theo bạn giữa phiên bản LeNet và Alpha, bạn thấy ĐỘ CHÍNH XÁC trên tập test của hai mô hình này có sự chênh lệch đáng kể hay không?"
   ]
  },
  {
   "cell_type": "code",
   "execution_count": 22,
   "id": "3e3bc6f9-212e-4c5b-8258-ad83d6807800",
   "metadata": {
    "deletable": false,
    "nbgrader": {
     "cell_type": "code",
     "checksum": "2b22fe23be2482e13f882b454a9fb087",
     "grade": false,
     "grade_id": "cell-2e8de9f7c7e4f13b",
     "locked": false,
     "schema_version": 3,
     "solution": true,
     "task": false
    },
    "tags": []
   },
   "outputs": [
    {
     "name": "stdout",
     "output_type": "stream",
     "text": [
      "Theo mình thì:  Không có ý kiến\n"
     ]
    }
   ],
   "source": [
    "options = ['Không có ý kiến', 'LeNet tốt hơn Alpha', 'LeNet tệ hơn Alpha', 'LeNet ngang ngửa Alpha (chênh không quá 1%)']\n",
    "your_choice = None\n",
    "\n",
    "# Hãy chọn your_choice bằng 0, 1, 2 hoặc 3 tương ứng với các lựa chọn ở trên\n",
    "# YOUR CODE HERE\n",
    "your_choice = 0\n",
    "\n",
    "print(\"Theo mình thì: \", options[your_choice])"
   ]
  },
  {
   "cell_type": "code",
   "execution_count": null,
   "id": "04e8fe61-183d-4695-9cbb-4b912ff0ea8a",
   "metadata": {
    "deletable": false,
    "editable": false,
    "nbgrader": {
     "cell_type": "code",
     "checksum": "ec5ba7fb53f38b440c140db7002eb751",
     "grade": true,
     "grade_id": "cell-e7a914c50f9b7526",
     "locked": true,
     "points": 5,
     "schema_version": 3,
     "solution": false,
     "task": false
    },
    "tags": []
   },
   "outputs": [],
   "source": [
    "# Kiểm tra với bộ test ẩn"
   ]
  },
  {
   "cell_type": "markdown",
   "id": "8d2617a7-ce29-4c51-945a-2cdd75f38589",
   "metadata": {
    "deletable": false,
    "editable": false,
    "nbgrader": {
     "cell_type": "markdown",
     "checksum": "0783c8a110bf40c0460c2acc583b4df6",
     "grade": false,
     "grade_id": "cell-cfa7ba4c556964f7",
     "locked": true,
     "schema_version": 3,
     "solution": false,
     "task": false
    },
    "tags": []
   },
   "source": [
    "Quan sát độ chính xác trên tập train của quá trình huấn luyện, theo bạn mô hình nào cho **tốc độ hội tụ** (*thể hiện tốc độ cải thiện độ chính xác qua từng epoch*) nhanh hơn?"
   ]
  },
  {
   "cell_type": "code",
   "execution_count": 23,
   "id": "01d2df8f-c73f-44b6-ade3-472ed41c9cff",
   "metadata": {
    "deletable": false,
    "nbgrader": {
     "cell_type": "code",
     "checksum": "6288842d1404560e32e0ff1a5b5081f5",
     "grade": false,
     "grade_id": "cell-b676fbf327be2a59",
     "locked": false,
     "schema_version": 3,
     "solution": true,
     "task": false
    },
    "tags": []
   },
   "outputs": [
    {
     "name": "stdout",
     "output_type": "stream",
     "text": [
      "Theo mình thì:  LeNet hội tụ nhanh hơn Alpha\n"
     ]
    }
   ],
   "source": [
    "options = ['Không có ý kiến', 'LeNet hội tụ nhanh hơn Alpha', 'LeNet hội tụ chậm hơn Alpha', \n",
    "           'LeNet hội tụ nhanh ngang ngửa Alpha (tại epoch huấn luyện thứ 1 , chênh lệch acc không quá 5%']\n",
    "your_choice = None\n",
    "\n",
    "# Hãy chọn your_choice bằng 0, 1, 2 hoặc 3 tương ứng với các lựa chọn ở trên\n",
    "# YOUR CODE HERE\n",
    "your_choice = 1\n",
    "\n",
    "print(\"Theo mình thì: \", options[your_choice])"
   ]
  },
  {
   "cell_type": "code",
   "execution_count": null,
   "id": "9a022032-6ff7-41e4-b0bc-52010373b791",
   "metadata": {
    "deletable": false,
    "editable": false,
    "nbgrader": {
     "cell_type": "code",
     "checksum": "61d9502514f5db151d2a0d69d2c0b903",
     "grade": true,
     "grade_id": "cell-84164e0998185647",
     "locked": true,
     "points": 5,
     "schema_version": 3,
     "solution": false,
     "task": false
    },
    "tags": []
   },
   "outputs": [],
   "source": [
    "# Kiểm tra với bộ test ẩn"
   ]
  },
  {
   "cell_type": "markdown",
   "id": "c30583ea-c145-434d-a89d-fd45327deb6b",
   "metadata": {
    "deletable": false,
    "editable": false,
    "nbgrader": {
     "cell_type": "markdown",
     "checksum": "669c471bb259b24bef2d0115295d57e8",
     "grade": false,
     "grade_id": "cell-54d39820be1b395e",
     "locked": true,
     "schema_version": 3,
     "solution": false,
     "task": false
    },
    "tags": []
   },
   "source": [
    "### 4.2. Biến thể Beta - Thay AveragePooling bằng MaxPooling\n",
    "Lưu ý rằng, biến thể `Beta` được phát triển tiếp từ biến thể `Alpha`, do đó cấu hình liên quan đến hàm activation cũng sử dụng `ReLU`"
   ]
  },
  {
   "cell_type": "code",
   "execution_count": 27,
   "id": "c8f23cca-010f-4c2a-a288-7ac58b5ecdce",
   "metadata": {
    "deletable": false,
    "nbgrader": {
     "cell_type": "code",
     "checksum": "39548237c4cb0cfe6bc1c1c148ab726c",
     "grade": false,
     "grade_id": "cell-1f2f494eec2c0ad2",
     "locked": false,
     "schema_version": 3,
     "solution": true,
     "task": false
    },
    "tags": []
   },
   "outputs": [],
   "source": [
    "from keras.layers import MaxPooling2D\n",
    "class BetaCNN(LeNetCNN):\n",
    "  # Define structure of the CNN\n",
    "  def build(self, input_dim):\n",
    "    input = None\n",
    "    output = None\n",
    "    # YOUR CODE HERE\n",
    "    input = Input(shape = input_dim) # input\n",
    "    \n",
    "    # Bước rút trích đặc trưng\n",
    "    C1 = Conv2D(6, (3, 3), padding='same', activation='relu')(input)\n",
    "    S2 = MaxPooling2D(pool_size=(2, 2), padding=\"same\")(C1)\n",
    "    C3 = Conv2D(16, (3, 3), padding='same', activation='relu')(S2)\n",
    "    S4 = MaxPooling2D(pool_size=(2, 2), padding=\"same\")(C3)\n",
    "    # Bước trung gian chuyển từ tensor sang vector\n",
    "    flat = Flatten()(S4)\n",
    "    # Bước phân loại đặc trưng bước trước\n",
    "    F5 = Dense(120, activation='relu', use_bias=True)(flat)\n",
    "    F6 = Dense(84, activation='relu', use_bias=True)(F5)\n",
    "    output = Dense(10, activation='softmax', use_bias=True)(F6) # y~ output\n",
    "    self.model = Model(input, output)\n"
   ]
  },
  {
   "cell_type": "code",
   "execution_count": 28,
   "id": "8425a11f-60c0-4f4b-a535-ee31d77568eb",
   "metadata": {
    "deletable": false,
    "editable": false,
    "nbgrader": {
     "cell_type": "code",
     "checksum": "e826a32b70bb5889e2d33d05c2a45441",
     "grade": false,
     "grade_id": "cell-bd91506665c2387b",
     "locked": true,
     "schema_version": 3,
     "solution": false,
     "task": false
    },
    "tags": []
   },
   "outputs": [
    {
     "name": "stdout",
     "output_type": "stream",
     "text": [
      "Model: \"model_3\"\n",
      "_________________________________________________________________\n",
      " Layer (type)                Output Shape              Param #   \n",
      "=================================================================\n",
      " input_4 (InputLayer)        [(None, 28, 28, 1)]       0         \n",
      "                                                                 \n",
      " conv2d_6 (Conv2D)           (None, 28, 28, 6)         60        \n",
      "                                                                 \n",
      " max_pooling2d_2 (MaxPooling  (None, 14, 14, 6)        0         \n",
      " 2D)                                                             \n",
      "                                                                 \n",
      " conv2d_7 (Conv2D)           (None, 14, 14, 16)        880       \n",
      "                                                                 \n",
      " max_pooling2d_3 (MaxPooling  (None, 7, 7, 16)         0         \n",
      " 2D)                                                             \n",
      "                                                                 \n",
      " flatten_3 (Flatten)         (None, 784)               0         \n",
      "                                                                 \n",
      " dense_9 (Dense)             (None, 120)               94200     \n",
      "                                                                 \n",
      " dense_10 (Dense)            (None, 84)                10164     \n",
      "                                                                 \n",
      " dense_11 (Dense)            (None, 10)                850       \n",
      "                                                                 \n",
      "=================================================================\n",
      "Total params: 106,154\n",
      "Trainable params: 106,154\n",
      "Non-trainable params: 0\n",
      "_________________________________________________________________\n"
     ]
    }
   ],
   "source": [
    "# Khởi tạo random seed để cố định kết quả huấn luyện cho tất cả mọi người\n",
    "fix_random_seed()\n",
    "\n",
    "# Khởi tạo đối tượng mạng CNN kiến trúc Beta\n",
    "beta = BetaCNN()\n",
    "# Xây dựng kiến trúc mô hình với ảnh đầu vào kích thước 28x28x1\n",
    "beta.build((28, 28, 1))\n",
    "beta.summary()"
   ]
  },
  {
   "cell_type": "code",
   "execution_count": 29,
   "id": "9e2ebe03-0c1f-4017-9104-f0322a617167",
   "metadata": {
    "deletable": false,
    "editable": false,
    "nbgrader": {
     "cell_type": "code",
     "checksum": "e9123f13929feb3147115f1e9eb51a35",
     "grade": true,
     "grade_id": "cell-c3ba13f1868a0d82",
     "locked": true,
     "points": 5,
     "schema_version": 3,
     "solution": false,
     "task": false
    },
    "tags": []
   },
   "outputs": [],
   "source": [
    "# Kiểm tra kiến trúc Beta\n",
    "\n",
    "# Kiểm tra số layer không đổi\n",
    "assert len(beta.model.layers) == 9\n",
    "# Kiểm tra một số lớp trong kiến trúc mạng\n",
    "assert \"keras.engine.input_layer.InputLayer\" in str(type(beta.model.layers[0]))\n",
    "assert \"keras.layers.convolutional.conv2d.Conv2D\" in str(type(beta.model.layers[1]))\n",
    "assert \"keras.layers.pooling.max_pooling2d.MaxPooling2D\" in str(type(beta.model.layers[2]))\n",
    "assert \"keras.layers.core.dense.Dense\" in str(type(beta.model.layers[6]))\n",
    "# Kiểm tra hàm activation của lớp convolution\n",
    "assert beta.model.layers[1].activation(1.0).numpy() == 1.0\n",
    "assert beta.model.layers[1].activation(-1.0).numpy() == 0.0"
   ]
  },
  {
   "cell_type": "code",
   "execution_count": null,
   "id": "bc732dd5-af4c-45a4-acbb-731a6668af28",
   "metadata": {
    "deletable": false,
    "editable": false,
    "nbgrader": {
     "cell_type": "code",
     "checksum": "1babd4df1a55e59fa366b7b59d24b758",
     "grade": true,
     "grade_id": "cell-c26d59f5ae15b06d",
     "locked": true,
     "points": 5,
     "schema_version": 3,
     "solution": false,
     "task": false
    },
    "tags": []
   },
   "outputs": [],
   "source": [
    "# Kiểm tra với bộ test ẩn"
   ]
  },
  {
   "cell_type": "code",
   "execution_count": 30,
   "id": "cabf587a-dd0e-473a-97df-fdde6a62e42b",
   "metadata": {
    "deletable": false,
    "editable": false,
    "nbgrader": {
     "cell_type": "code",
     "checksum": "3f18e43ca6a35db2c78da0be424207b5",
     "grade": false,
     "grade_id": "cell-2e4e82ce5f59e366",
     "locked": true,
     "schema_version": 3,
     "solution": false,
     "task": false
    },
    "tags": []
   },
   "outputs": [
    {
     "name": "stdout",
     "output_type": "stream",
     "text": [
      "Epoch 1/10\n",
      "469/469 [==============================] - 7s 14ms/step - loss: 0.1638 - accuracy: 0.9465\n",
      "Epoch 2/10\n",
      "469/469 [==============================] - 7s 14ms/step - loss: 0.0606 - accuracy: 0.9817\n",
      "Epoch 3/10\n",
      "469/469 [==============================] - 7s 14ms/step - loss: 0.0496 - accuracy: 0.9854\n",
      "Epoch 4/10\n",
      "469/469 [==============================] - 7s 15ms/step - loss: 0.0427 - accuracy: 0.9871\n",
      "Epoch 5/10\n",
      "469/469 [==============================] - 7s 15ms/step - loss: 0.0391 - accuracy: 0.9890\n",
      "Epoch 6/10\n",
      "469/469 [==============================] - 7s 15ms/step - loss: 0.0373 - accuracy: 0.9893\n",
      "Epoch 7/10\n",
      "469/469 [==============================] - 7s 15ms/step - loss: 0.0366 - accuracy: 0.9898\n",
      "Epoch 8/10\n",
      "469/469 [==============================] - 7s 14ms/step - loss: 0.0342 - accuracy: 0.9899\n",
      "Epoch 9/10\n",
      "469/469 [==============================] - 7s 14ms/step - loss: 0.0320 - accuracy: 0.9910\n",
      "Epoch 10/10\n",
      "469/469 [==============================] - 7s 15ms/step - loss: 0.0314 - accuracy: 0.9917\n"
     ]
    }
   ],
   "source": [
    "# Train đi, chờ chi!\n",
    "beta.train(x_train_norm, y_train_oh)"
   ]
  },
  {
   "cell_type": "code",
   "execution_count": 31,
   "id": "45711bee-67fc-4775-927b-37d08e13b422",
   "metadata": {
    "deletable": false,
    "editable": false,
    "nbgrader": {
     "cell_type": "code",
     "checksum": "3b8c15be2d8b4a63d8992a945cd712fe",
     "grade": false,
     "grade_id": "cell-7d74d6c35f41b377",
     "locked": true,
     "schema_version": 3,
     "solution": false,
     "task": false
    },
    "tags": []
   },
   "outputs": [
    {
     "name": "stdout",
     "output_type": "stream",
     "text": [
      "313/313 [==============================] - 1s 4ms/step\n",
      "Độ chính xác của phiên bản hiện tại: 98.36000204086304\n"
     ]
    }
   ],
   "source": [
    "# Đánh giá trên tập dữ liệu test\n",
    "beta.predict_and_eval(x_test_norm, y_test)"
   ]
  },
  {
   "cell_type": "markdown",
   "id": "834a7d42-a020-4147-8daa-68a7f67992fc",
   "metadata": {
    "deletable": false,
    "editable": false,
    "nbgrader": {
     "cell_type": "markdown",
     "checksum": "c8dadd6fa895d32fae1d4648771abd72",
     "grade": false,
     "grade_id": "cell-a5dbd567133a56ee",
     "locked": true,
     "schema_version": 3,
     "solution": false,
     "task": false
    },
    "tags": []
   },
   "source": [
    "Theo bạn giữa phiên bản Alpha và Beta, bạn thấy kết quả có sự thay đổi đáng kể hay không?"
   ]
  },
  {
   "cell_type": "code",
   "execution_count": 54,
   "id": "05099664-4af6-4569-8e38-a9c318ed822e",
   "metadata": {
    "deletable": false,
    "nbgrader": {
     "cell_type": "code",
     "checksum": "80aa367ff472386d75e44a149c6ac811",
     "grade": false,
     "grade_id": "cell-1f5d9a2a3ee03410",
     "locked": false,
     "schema_version": 3,
     "solution": true,
     "task": false
    },
    "tags": []
   },
   "outputs": [
    {
     "name": "stdout",
     "output_type": "stream",
     "text": [
      "Theo tôi thì:  Alpha tốt hơn Beta\n"
     ]
    }
   ],
   "source": [
    "options = ['Không có ý kiến', 'Alpha tốt hơn Beta', 'Alpha tệ hơn Beta', 'Alpha ngang ngửa Beta (chênh không quá 1%)']\n",
    "\n",
    "your_choice = None\n",
    "\n",
    "# Hãy chọn your_choice bằng 0, 1, 2 hoặc 3 tương ứng với các lựa chọn ở trên\n",
    "# YOUR CODE HERE\n",
    "your_choice = 1\n",
    "\n",
    "print(\"Theo tôi thì: \", options[your_choice])"
   ]
  },
  {
   "cell_type": "code",
   "execution_count": null,
   "id": "e793d400-6534-4ebd-872f-4503b17c50ea",
   "metadata": {
    "deletable": false,
    "editable": false,
    "nbgrader": {
     "cell_type": "code",
     "checksum": "f1af8caa9e450c0513db919eeca0f150",
     "grade": true,
     "grade_id": "cell-2150db242655b6a5",
     "locked": true,
     "points": 5,
     "schema_version": 3,
     "solution": false,
     "task": false
    },
    "tags": []
   },
   "outputs": [],
   "source": [
    "# Kiểm tra với bộ test ẩn"
   ]
  },
  {
   "cell_type": "markdown",
   "id": "a9df8c5b-9535-4936-91c9-1725730cef94",
   "metadata": {
    "deletable": false,
    "editable": false,
    "nbgrader": {
     "cell_type": "markdown",
     "checksum": "4a480c7c6a219477598c0e4316fbe150",
     "grade": false,
     "grade_id": "cell-3a1de1be4efbb3de",
     "locked": true,
     "schema_version": 3,
     "solution": false,
     "task": false
    },
    "tags": []
   },
   "source": [
    "Như vậy, đến bước này, bạn đã cài đặt xong mô hình LeNet theo hướng hiện đại, hay còn gọi là LeNet phiên bản 2020.\n",
    "\n",
    "Không dừng lại ở đó, ta sẽ thử với một số biến thể táo bạo hơn."
   ]
  },
  {
   "cell_type": "markdown",
   "id": "9635f78c-93be-4399-939b-52f2d8d8257c",
   "metadata": {
    "deletable": false,
    "editable": false,
    "nbgrader": {
     "cell_type": "markdown",
     "checksum": "e8b8a27259b81fb19707f22524d6d933",
     "grade": false,
     "grade_id": "cell-bafdc603bfb88d1f",
     "locked": true,
     "schema_version": 3,
     "solution": false,
     "task": false
    },
    "tags": []
   },
   "source": [
    "### 4.3 Biến thể Gamma - Bỏ hết hàm activation trong biến thể Beta\n",
    "Biến thể Gamma ra đời vì sự nghi ngờ rằng, **hàm activation không thực sự hữu ích** trong kiến trúc mạng CNN. Bạn hãy thử cài đặt, đánh giá xem giả thuyết này có đúng không?"
   ]
  },
  {
   "cell_type": "code",
   "execution_count": 33,
   "id": "214c9246-3610-41bd-8317-f01b1cf2dd48",
   "metadata": {
    "deletable": false,
    "nbgrader": {
     "cell_type": "code",
     "checksum": "999e6e93d973c7ab8d195b57a3d96871",
     "grade": false,
     "grade_id": "cell-2a3cf75dca1f3dc5",
     "locked": false,
     "schema_version": 3,
     "solution": true,
     "task": false
    },
    "tags": []
   },
   "outputs": [],
   "source": [
    "class GammaCNN(LeNetCNN):\n",
    "  # Define structure of the CNN\n",
    "  def build(self, input_dim):\n",
    "    input = None\n",
    "    output = None\n",
    "    # YOUR CODE HERE\n",
    "    input = Input(shape = input_dim) # input\n",
    "    \n",
    "    # Bước rút trích đặc trưng\n",
    "    C1 = Conv2D(6, (3, 3), padding='same')(input)\n",
    "    S2 = MaxPooling2D(pool_size=(2, 2), padding=\"same\")(C1)\n",
    "    C3 = Conv2D(16, (3, 3), padding='same')(S2)\n",
    "    S4 = MaxPooling2D(pool_size=(2, 2), padding=\"same\")(C3)\n",
    "    # Bước trung gian chuyển từ tensor sang vector\n",
    "    flat = Flatten()(S4)\n",
    "    # Bước phân loại đặc trưng bước trước\n",
    "    F5 = Dense(120, use_bias=True)(flat)\n",
    "    F6 = Dense(84, use_bias=True)(F5)\n",
    "    output = Dense(10, use_bias=True)(F6) # y~ output\n",
    "\n",
    "    self.model = Model(input, output)\n"
   ]
  },
  {
   "cell_type": "code",
   "execution_count": 34,
   "id": "7c73560b-d6ca-4df7-8a8f-5d6b7e6d510b",
   "metadata": {
    "deletable": false,
    "editable": false,
    "nbgrader": {
     "cell_type": "code",
     "checksum": "353138f8223d873bcf45fb354e358895",
     "grade": false,
     "grade_id": "cell-708799ec6d4c03b9",
     "locked": true,
     "schema_version": 3,
     "solution": false,
     "task": false
    },
    "tags": []
   },
   "outputs": [
    {
     "name": "stdout",
     "output_type": "stream",
     "text": [
      "Model: \"model_4\"\n",
      "_________________________________________________________________\n",
      " Layer (type)                Output Shape              Param #   \n",
      "=================================================================\n",
      " input_5 (InputLayer)        [(None, 28, 28, 1)]       0         \n",
      "                                                                 \n",
      " conv2d_8 (Conv2D)           (None, 28, 28, 6)         60        \n",
      "                                                                 \n",
      " max_pooling2d_4 (MaxPooling  (None, 14, 14, 6)        0         \n",
      " 2D)                                                             \n",
      "                                                                 \n",
      " conv2d_9 (Conv2D)           (None, 14, 14, 16)        880       \n",
      "                                                                 \n",
      " max_pooling2d_5 (MaxPooling  (None, 7, 7, 16)         0         \n",
      " 2D)                                                             \n",
      "                                                                 \n",
      " flatten_4 (Flatten)         (None, 784)               0         \n",
      "                                                                 \n",
      " dense_12 (Dense)            (None, 120)               94200     \n",
      "                                                                 \n",
      " dense_13 (Dense)            (None, 84)                10164     \n",
      "                                                                 \n",
      " dense_14 (Dense)            (None, 10)                850       \n",
      "                                                                 \n",
      "=================================================================\n",
      "Total params: 106,154\n",
      "Trainable params: 106,154\n",
      "Non-trainable params: 0\n",
      "_________________________________________________________________\n"
     ]
    }
   ],
   "source": [
    "# Khởi tạo random seed để cố định kết quả huấn luyện cho tất cả mọi người\n",
    "fix_random_seed()\n",
    "\n",
    "# Khởi tạo đối tượng mạng CNN kiến trúc Gamma\n",
    "gamma = GammaCNN()\n",
    "# Xây dựng kiến trúc mô hình với ảnh đầu vào kích thước 28x28x1\n",
    "gamma.build((28, 28, 1))\n",
    "gamma.summary()"
   ]
  },
  {
   "cell_type": "code",
   "execution_count": 35,
   "id": "1de96afd-4ae9-47d2-8d82-ee03845b9f21",
   "metadata": {
    "deletable": false,
    "editable": false,
    "nbgrader": {
     "cell_type": "code",
     "checksum": "b31ad4a43d87200fa5c2eac64660e04e",
     "grade": true,
     "grade_id": "cell-c62f68ce594105a4",
     "locked": true,
     "points": 5,
     "schema_version": 3,
     "solution": false,
     "task": false
    },
    "tags": []
   },
   "outputs": [],
   "source": [
    "# Kiểm tra kiến trúc Gamma\n",
    "\n",
    "# Kiểm tra số layer không đổi\n",
    "assert len(gamma.model.layers) == 9\n",
    "# Kiểm tra một số lớp trong kiến trúc mạng \n",
    "assert \"keras.engine.input_layer.InputLayer\" in str(type(gamma.model.layers[0]))\n",
    "assert \"keras.layers.convolutional.conv2d.Conv2D\" in str(type(gamma.model.layers[1]))\n",
    "assert \"keras.layers.pooling.max_pooling2d.MaxPooling2D\" in str(type(gamma.model.layers[2]))\n",
    "assert \"keras.layers.core.dense.Dense\" in str(type(gamma.model.layers[6]))\n",
    "# Kiểm tra hàm activation của lớp convolution\n",
    "assert gamma.model.layers[1].activation(1.0) == 1.0\n",
    "assert gamma.model.layers[1].activation(-1.0) == -1.0"
   ]
  },
  {
   "cell_type": "code",
   "execution_count": null,
   "id": "b95f6256-99aa-44a8-b05d-47ed521b61c9",
   "metadata": {
    "deletable": false,
    "editable": false,
    "nbgrader": {
     "cell_type": "code",
     "checksum": "14d4e34c675de64437fb077998432022",
     "grade": true,
     "grade_id": "cell-f702e0def828ec56",
     "locked": true,
     "points": 5,
     "schema_version": 3,
     "solution": false,
     "task": false
    },
    "tags": []
   },
   "outputs": [],
   "source": [
    "# Kiểm tra với bộ test ẩn"
   ]
  },
  {
   "cell_type": "code",
   "execution_count": 36,
   "id": "b5a8bbc6-468b-4b52-9b90-70efe5df352c",
   "metadata": {
    "deletable": false,
    "editable": false,
    "nbgrader": {
     "cell_type": "code",
     "checksum": "148a633150309f44ef1106c887dbc7c1",
     "grade": false,
     "grade_id": "cell-0bd39c18f8cd3555",
     "locked": true,
     "schema_version": 3,
     "solution": false,
     "task": false
    },
    "tags": []
   },
   "outputs": [
    {
     "name": "stdout",
     "output_type": "stream",
     "text": [
      "Epoch 1/10\n",
      "469/469 [==============================] - 10s 21ms/step - loss: 6.5987 - accuracy: 0.1052\n",
      "Epoch 2/10\n",
      "469/469 [==============================] - 10s 21ms/step - loss: 6.4806 - accuracy: 0.1044\n",
      "Epoch 3/10\n",
      "469/469 [==============================] - 10s 21ms/step - loss: 6.4806 - accuracy: 0.1044\n",
      "Epoch 4/10\n",
      "469/469 [==============================] - 10s 20ms/step - loss: 6.4806 - accuracy: 0.1044\n",
      "Epoch 5/10\n",
      "469/469 [==============================] - 10s 21ms/step - loss: 6.4805 - accuracy: 0.1044\n",
      "Epoch 6/10\n",
      "469/469 [==============================] - 10s 21ms/step - loss: 6.4806 - accuracy: 0.1044\n",
      "Epoch 7/10\n",
      "469/469 [==============================] - 9s 20ms/step - loss: 6.4806 - accuracy: 0.1044\n",
      "Epoch 8/10\n",
      "469/469 [==============================] - 10s 21ms/step - loss: 6.4806 - accuracy: 0.1044\n",
      "Epoch 9/10\n",
      "469/469 [==============================] - 8s 16ms/step - loss: 6.4805 - accuracy: 0.1044\n",
      "Epoch 10/10\n",
      "469/469 [==============================] - 7s 14ms/step - loss: 6.4806 - accuracy: 0.1044\n"
     ]
    }
   ],
   "source": [
    "# Train train train!\n",
    "gamma.train(x_train_norm, y_train_oh)"
   ]
  },
  {
   "cell_type": "code",
   "execution_count": 37,
   "id": "6306c696-445e-4821-a06a-f725ae20f684",
   "metadata": {
    "deletable": false,
    "editable": false,
    "nbgrader": {
     "cell_type": "code",
     "checksum": "f09a1e74c668a92d0fbbf9dfc288456c",
     "grade": false,
     "grade_id": "cell-8815bdaf09859dff",
     "locked": true,
     "schema_version": 3,
     "solution": false,
     "task": false
    },
    "tags": []
   },
   "outputs": [
    {
     "name": "stdout",
     "output_type": "stream",
     "text": [
      "313/313 [==============================] - 1s 4ms/step\n",
      "Độ chính xác của phiên bản hiện tại: 10.279999673366547\n"
     ]
    }
   ],
   "source": [
    "# Đánh giá trên tập dữ liệu test\n",
    "gamma.predict_and_eval(x_test_norm, y_test)"
   ]
  },
  {
   "cell_type": "markdown",
   "id": "46186d3d-e2a8-4060-a0f0-a78afc242469",
   "metadata": {
    "deletable": false,
    "editable": false,
    "nbgrader": {
     "cell_type": "markdown",
     "checksum": "056d2e36f7559d9c43ff159df96ec719",
     "grade": false,
     "grade_id": "cell-4da75126248a9cfa",
     "locked": true,
     "schema_version": 3,
     "solution": false,
     "task": false
    },
    "tags": []
   },
   "source": [
    "Theo bạn giữa phiên bản Beta và Gamma, bạn thấy kết quả có sự thay đổi đáng kể hay không?"
   ]
  },
  {
   "cell_type": "code",
   "execution_count": 38,
   "id": "d1899c64-d372-4ea5-b5d2-14c92cda071e",
   "metadata": {
    "deletable": false,
    "nbgrader": {
     "cell_type": "code",
     "checksum": "626a4da31567d344096963215c9d96ba",
     "grade": false,
     "grade_id": "cell-e51075ea1ec0d8fc",
     "locked": false,
     "schema_version": 3,
     "solution": true,
     "task": false
    },
    "tags": []
   },
   "outputs": [
    {
     "name": "stdout",
     "output_type": "stream",
     "text": [
      "Theo tôi thì:  Beta tốt hơn Gamma\n"
     ]
    }
   ],
   "source": [
    "options = ['Không có ý kiến', 'Beta tốt hơn Gamma', 'Beta tệ hơn Gamma', 'Beta ngang ngửa Gamma (chênh không quá 1%)']\n",
    "\n",
    "your_choice = None\n",
    "\n",
    "# Hãy chọn your_choice bằng 0, 1, 2 hoặc 3 tương ứng với các lựa chọn ở trên\n",
    "# YOUR CODE HERE\n",
    "your_choice = 1\n",
    "\n",
    "print(\"Theo tôi thì: \", options[your_choice])"
   ]
  },
  {
   "cell_type": "code",
   "execution_count": null,
   "id": "f7dc0867-53b4-40e6-ad48-0bd6810fecf3",
   "metadata": {
    "deletable": false,
    "editable": false,
    "nbgrader": {
     "cell_type": "code",
     "checksum": "8e9e85db16681128310d1963143bb8b0",
     "grade": true,
     "grade_id": "cell-65e3be763701e09f",
     "locked": true,
     "points": 5,
     "schema_version": 3,
     "solution": false,
     "task": false
    },
    "tags": []
   },
   "outputs": [],
   "source": [
    "# Kiểm tra với bộ test ẩn"
   ]
  },
  {
   "cell_type": "markdown",
   "id": "1da59dc1-0de1-46a9-aba8-e0702e632792",
   "metadata": {
    "deletable": false,
    "editable": false,
    "nbgrader": {
     "cell_type": "markdown",
     "checksum": "cb64304d039c5e09fbeefd5ebbe509fc",
     "grade": false,
     "grade_id": "cell-c10d40ae2d03ca4d",
     "locked": true,
     "schema_version": 3,
     "solution": false,
     "task": false
    },
    "tags": []
   },
   "source": [
    "### 4.4 Biến thể Omicron - Bỏ hết hàm Pooling trong biến thể Beta\n",
    "Biến thể **Omicron** ra đời vì sự nghi ngờ rằng, **Bước MaxPooling không thực sự hữu ích** trong kiến trúc mạng CNN. Bạn hãy thử cài đặt, đánh giá xem giả thuyết này có đúng không?"
   ]
  },
  {
   "cell_type": "code",
   "execution_count": 39,
   "id": "8b6bcb63-ee11-4f1f-8c6a-c57265c7e80c",
   "metadata": {
    "deletable": false,
    "nbgrader": {
     "cell_type": "code",
     "checksum": "bf699d9aace11d2a92b8b5e03dbba3ff",
     "grade": false,
     "grade_id": "cell-da6b9f79a575bd59",
     "locked": false,
     "schema_version": 3,
     "solution": true,
     "task": false
    },
    "tags": []
   },
   "outputs": [],
   "source": [
    "class OmicronCNN(LeNetCNN):\n",
    "  # Define structure of the CNN\n",
    "  def build(self, input_dim):\n",
    "    input = None\n",
    "    output = None\n",
    "    \n",
    "    # YOUR CODE HERE\n",
    "    input = Input(shape = input_dim) # input\n",
    "    \n",
    "    # Bước rút trích đặc trưng\n",
    "    C1 = Conv2D(6, (3, 3), padding='same', activation='relu')(input)\n",
    "    C3 = Conv2D(16, (3, 3), padding='same', activation='relu')(C1)\n",
    "    # Bước trung gian chuyển từ tensor sang vector\n",
    "    flat = Flatten()(C3)\n",
    "    # Bước phân loại đặc trưng bước trước\n",
    "    F5 = Dense(120, activation='relu', use_bias=True)(flat)\n",
    "    F6 = Dense(84, activation='relu', use_bias=True)(F5)\n",
    "    output = Dense(10, activation='softmax', use_bias=True)(F6) # y~ output\n",
    "    \n",
    "    self.model = Model(input, output)"
   ]
  },
  {
   "cell_type": "code",
   "execution_count": 40,
   "id": "87312bbb-4595-4a2e-93a9-d374846b8b95",
   "metadata": {
    "deletable": false,
    "editable": false,
    "nbgrader": {
     "cell_type": "code",
     "checksum": "dd7f1412de471232c7eaf5ad7f614dba",
     "grade": false,
     "grade_id": "cell-eab8b1ab6e4f23a2",
     "locked": true,
     "schema_version": 3,
     "solution": false,
     "task": false
    },
    "tags": []
   },
   "outputs": [
    {
     "name": "stdout",
     "output_type": "stream",
     "text": [
      "Model: \"model_5\"\n",
      "_________________________________________________________________\n",
      " Layer (type)                Output Shape              Param #   \n",
      "=================================================================\n",
      " input_6 (InputLayer)        [(None, 28, 28, 1)]       0         \n",
      "                                                                 \n",
      " conv2d_10 (Conv2D)          (None, 28, 28, 6)         60        \n",
      "                                                                 \n",
      " conv2d_11 (Conv2D)          (None, 28, 28, 16)        880       \n",
      "                                                                 \n",
      " flatten_5 (Flatten)         (None, 12544)             0         \n",
      "                                                                 \n",
      " dense_15 (Dense)            (None, 120)               1505400   \n",
      "                                                                 \n",
      " dense_16 (Dense)            (None, 84)                10164     \n",
      "                                                                 \n",
      " dense_17 (Dense)            (None, 10)                850       \n",
      "                                                                 \n",
      "=================================================================\n",
      "Total params: 1,517,354\n",
      "Trainable params: 1,517,354\n",
      "Non-trainable params: 0\n",
      "_________________________________________________________________\n"
     ]
    }
   ],
   "source": [
    "# Khởi tạo random seed để cố định kết quả huấn luyện cho tất cả mọi người\n",
    "fix_random_seed()\n",
    "\n",
    "# Khởi tạo đối tượng mạng CNN kiến trúc Omicron\n",
    "omicron = OmicronCNN()\n",
    "# Xây dựng kiến trúc mô hình với ảnh đầu vào kích thước 28x28x1\n",
    "omicron.build((28, 28, 1))\n",
    "omicron.summary()"
   ]
  },
  {
   "cell_type": "code",
   "execution_count": 41,
   "id": "db9b5215-e34c-4434-aa4c-f2ef42e688da",
   "metadata": {
    "deletable": false,
    "editable": false,
    "nbgrader": {
     "cell_type": "code",
     "checksum": "435c706710f83974b4e354149c568044",
     "grade": true,
     "grade_id": "cell-67108bef8f744c25",
     "locked": true,
     "points": 5,
     "schema_version": 3,
     "solution": false,
     "task": false
    },
    "tags": []
   },
   "outputs": [],
   "source": [
    "# Kiểm tra kiến trúc Omicron\n",
    "\n",
    "# Kiểm tra số layer không đổi\n",
    "assert len(omicron.model.layers) == 7\n",
    "# Kiểm tra một số lớp trong kiến trúc mạng\n",
    "assert \"keras.engine.input_layer.InputLayer\" in str(type(omicron.model.layers[0]))\n",
    "assert \"keras.layers.convolutional.conv2d.Conv2D\" in str(type(omicron.model.layers[1]))\n",
    "assert \"keras.layers.convolutional.conv2d.Conv2D\" in str(type(omicron.model.layers[2]))\n",
    "assert \"keras.layers.core.dense.Dense\" in str(type(omicron.model.layers[6]))\n",
    "# Kiểm tra hàm activation của lớp convolution\n",
    "assert beta.model.layers[1].activation(1.0).numpy() == 1.0\n",
    "assert beta.model.layers[1].activation(-1.0).numpy() == 0.0"
   ]
  },
  {
   "cell_type": "code",
   "execution_count": null,
   "id": "6033de55-20a6-4a2d-b484-bb74032407c3",
   "metadata": {
    "deletable": false,
    "editable": false,
    "nbgrader": {
     "cell_type": "code",
     "checksum": "a17036f8961b3a98351a4699a17b2a33",
     "grade": true,
     "grade_id": "cell-9e662848eeabd84f",
     "locked": true,
     "points": 5,
     "schema_version": 3,
     "solution": false,
     "task": false
    },
    "tags": []
   },
   "outputs": [],
   "source": [
    "# Kiểm tra với bộ test ẩn"
   ]
  },
  {
   "cell_type": "code",
   "execution_count": 42,
   "id": "84a945cc-9bba-4b03-9997-5281cc7ecad6",
   "metadata": {
    "deletable": false,
    "editable": false,
    "nbgrader": {
     "cell_type": "code",
     "checksum": "8b824cb5c8d9b34018c811978477be78",
     "grade": false,
     "grade_id": "cell-203181219f352b0b",
     "locked": true,
     "schema_version": 3,
     "solution": false,
     "task": false
    },
    "tags": []
   },
   "outputs": [
    {
     "name": "stdout",
     "output_type": "stream",
     "text": [
      "Epoch 1/10\n",
      "469/469 [==============================] - 15s 30ms/step - loss: 0.1746 - accuracy: 0.9461\n",
      "Epoch 2/10\n",
      "469/469 [==============================] - 14s 29ms/step - loss: 0.0612 - accuracy: 0.9819\n",
      "Epoch 3/10\n",
      "469/469 [==============================] - 13s 29ms/step - loss: 0.0447 - accuracy: 0.9864\n",
      "Epoch 4/10\n",
      "469/469 [==============================] - 14s 29ms/step - loss: 0.0405 - accuracy: 0.9880\n",
      "Epoch 5/10\n",
      "469/469 [==============================] - 14s 29ms/step - loss: 0.0347 - accuracy: 0.9900\n",
      "Epoch 6/10\n",
      "469/469 [==============================] - 14s 29ms/step - loss: 0.0345 - accuracy: 0.9900\n",
      "Epoch 7/10\n",
      "469/469 [==============================] - 14s 29ms/step - loss: 0.0304 - accuracy: 0.9916\n",
      "Epoch 8/10\n",
      "469/469 [==============================] - 14s 29ms/step - loss: 0.0268 - accuracy: 0.9930\n",
      "Epoch 9/10\n",
      "469/469 [==============================] - 14s 29ms/step - loss: 0.0226 - accuracy: 0.9941\n",
      "Epoch 10/10\n",
      "469/469 [==============================] - 14s 29ms/step - loss: 0.0236 - accuracy: 0.9947\n"
     ]
    }
   ],
   "source": [
    "# Train train train!\n",
    "omicron.train(x_train_norm, y_train_oh)"
   ]
  },
  {
   "cell_type": "code",
   "execution_count": 43,
   "id": "bd4d81b9-68c3-4d0f-af55-64f8808897f0",
   "metadata": {
    "deletable": false,
    "editable": false,
    "nbgrader": {
     "cell_type": "code",
     "checksum": "9aa694fc05b0c11f0bbf72f44fabe4b3",
     "grade": false,
     "grade_id": "cell-52ea9ba0b1d57fa3",
     "locked": true,
     "schema_version": 3,
     "solution": false,
     "task": false
    },
    "tags": []
   },
   "outputs": [
    {
     "name": "stdout",
     "output_type": "stream",
     "text": [
      "313/313 [==============================] - 1s 4ms/step\n",
      "Độ chính xác của phiên bản hiện tại: 98.15000295639038\n"
     ]
    }
   ],
   "source": [
    "# Đánh giá trên tập dữ liệu test\n",
    "omicron.predict_and_eval(x_test_norm, y_test)"
   ]
  },
  {
   "cell_type": "markdown",
   "id": "2ed10394-06eb-435f-82ae-3f2198b4a26b",
   "metadata": {
    "deletable": false,
    "editable": false,
    "nbgrader": {
     "cell_type": "markdown",
     "checksum": "7e6eec3eb9bc0efa0747f6f35a3c8c50",
     "grade": false,
     "grade_id": "cell-5392363c0eb31db6",
     "locked": true,
     "schema_version": 3,
     "solution": false,
     "task": false
    },
    "tags": []
   },
   "source": [
    "Theo bạn giữa phiên bản Beta và Omicron, bạn thấy kết quả có sự thay đổi đáng kể hay không?"
   ]
  },
  {
   "cell_type": "code",
   "execution_count": 44,
   "id": "2336cb9d-bdfc-4599-a32f-3f6b14ca8f39",
   "metadata": {
    "deletable": false,
    "nbgrader": {
     "cell_type": "code",
     "checksum": "0a76498e6ae13ece66dfa2d822d7cdee",
     "grade": false,
     "grade_id": "cell-afc2fda9bbda9f9c",
     "locked": false,
     "schema_version": 3,
     "solution": true,
     "task": false
    },
    "tags": []
   },
   "outputs": [
    {
     "name": "stdout",
     "output_type": "stream",
     "text": [
      "Theo tôi thì:  Beta tốt hơn Omicron\n"
     ]
    }
   ],
   "source": [
    "options = ['Không có ý kiến', 'Beta tốt hơn Omicron', 'Beta tệ hơn Omicron', 'Beta ngang ngửa Omicron (chênh không quá 1%)']\n",
    "\n",
    "your_choice = None\n",
    "\n",
    "# Hãy chọn your_choice bằng 0, 1, 2 hoặc 3 tương ứng với các lựa chọn ở trên\n",
    "# YOUR CODE HERE\n",
    "your_choice = 1\n",
    "\n",
    "print(\"Theo tôi thì: \", options[your_choice])"
   ]
  },
  {
   "cell_type": "code",
   "execution_count": null,
   "id": "6a3ea25e-967e-45f2-b1ec-78742f40f7d9",
   "metadata": {
    "deletable": false,
    "editable": false,
    "nbgrader": {
     "cell_type": "code",
     "checksum": "48a18f3090b4ad4d5d4dbfc5a30bae8e",
     "grade": true,
     "grade_id": "cell-cb1b98be430a36f2",
     "locked": true,
     "points": 5,
     "schema_version": 3,
     "solution": false,
     "task": false
    },
    "tags": []
   },
   "outputs": [],
   "source": [
    "# Kiểm tra với bộ test ẩn"
   ]
  },
  {
   "cell_type": "markdown",
   "id": "5f10f67c-c7be-44f6-a55a-74316ecdca4c",
   "metadata": {
    "deletable": false,
    "editable": false,
    "nbgrader": {
     "cell_type": "markdown",
     "checksum": "178dce4b6dfad4cad5459e74af92e6a6",
     "grade": false,
     "grade_id": "cell-39df1608d027be9f",
     "locked": true,
     "schema_version": 3,
     "solution": false,
     "task": false
    },
    "tags": []
   },
   "source": [
    "Ngoài ra, bạn có nhận xét gì về số lượng tham số và thời gian train của mô hình Omicron?"
   ]
  },
  {
   "cell_type": "code",
   "execution_count": 45,
   "id": "0c6bb5fc-29e7-462a-b987-a0788c69199d",
   "metadata": {
    "deletable": false,
    "nbgrader": {
     "cell_type": "code",
     "checksum": "30d019f0116e88c74260b15add788747",
     "grade": false,
     "grade_id": "cell-06864dcb2e0d74f7",
     "locked": false,
     "schema_version": 3,
     "solution": true,
     "task": false
    },
    "tags": []
   },
   "outputs": [
    {
     "name": "stdout",
     "output_type": "stream",
     "text": [
      "Theo tôi thì: \n",
      "   -  Omicron nhiều tham số hơn Beta\n",
      "   -  Omicron train chậm hơn Beta\n"
     ]
    }
   ],
   "source": [
    "options = ['Omicron có tham số ít hơn Beta', 'Omicron nhiều tham số hơn Beta', 'Omicron có tham số bằng Beta',\n",
    "           'Omicron train nhanh hơn Beta', 'Omicron train chậm hơn Beta', 'Omicron train tương đương Beta (không quá 10 giây)']\n",
    "\n",
    "your_choices = []\n",
    "\n",
    "# Hãy chọn your_choice với một TẬP CÁC GIÁ TRỊ từ 0, 1, 2, 3, 4, 5 tương ứng với các lựa chọn ở trên.\n",
    "# LƯU Ý: Có thể chọn 0, 1 hoặc nhiều hơn 1 lựa chọn trong câu hỏi này\n",
    "# YOUR CODE HERE\n",
    "your_choices = [1, 4]\n",
    "\n",
    "print(\"Theo tôi thì: \")\n",
    "for op in your_choices:\n",
    "    print('   - ', options[op])"
   ]
  },
  {
   "cell_type": "code",
   "execution_count": null,
   "id": "9040c3ac-23d4-4523-8b6b-a8b535b0bf6b",
   "metadata": {
    "deletable": false,
    "editable": false,
    "nbgrader": {
     "cell_type": "code",
     "checksum": "7aae79ccbb21361be975c87669957ce6",
     "grade": true,
     "grade_id": "cell-717940922f88d145",
     "locked": true,
     "points": 5,
     "schema_version": 3,
     "solution": false,
     "task": false
    },
    "tags": []
   },
   "outputs": [],
   "source": [
    "# Kiểm tra với bộ test ẩn"
   ]
  },
  {
   "cell_type": "markdown",
   "id": "ae624f13-3594-428c-9cb4-8ace14843323",
   "metadata": {
    "deletable": false,
    "editable": false,
    "nbgrader": {
     "cell_type": "markdown",
     "checksum": "73455f61b4b150ee28d1071ac4dbf328",
     "grade": false,
     "grade_id": "cell-b47acb5531c758eb",
     "locked": true,
     "schema_version": 3,
     "solution": false,
     "task": false
    },
    "tags": []
   },
   "source": [
    "### 4.5 Biến thể Delta - Bỏ hết lớp Convolution trong biến thể Beta\n",
    "Biến thể **Delta** ra đời vì sự nghi ngờ rằng, **Bước Convolution không thực sự hữu ích!!!??** trong kiến trúc mạng CNN. Bạn hãy thử cài đặt, đánh giá xem giả thuyết này có đúng không?\n",
    "\n",
    "Biến thể này nguy hiểm, vì nó thay đổi hoàn toàn kiến trúc của mạng CNN. Theo bạn, biến thể Beta này bản chất là mô hình gì?"
   ]
  },
  {
   "cell_type": "code",
   "execution_count": 46,
   "id": "9676160a-9a04-4367-8191-9a74f9ec1c0d",
   "metadata": {
    "deletable": false,
    "nbgrader": {
     "cell_type": "code",
     "checksum": "d009d64887a8f151600048da8071b9d2",
     "grade": false,
     "grade_id": "cell-b4859246363ac223",
     "locked": false,
     "schema_version": 3,
     "solution": true,
     "task": false
    },
    "tags": []
   },
   "outputs": [],
   "source": [
    "class DeltaCNN(LeNetCNN):\n",
    "  # Define structure of the CNN\n",
    "  def build(self, input_dim):\n",
    "    input = None\n",
    "    output = None\n",
    "    # YOUR CODE HERE\n",
    "    input = Input(shape = input_dim) # input\n",
    "    \n",
    "    # Bước rút trích đặc trưng\n",
    "    S2 = MaxPooling2D(pool_size=(2, 2), padding=\"same\")(input)\n",
    "    S4 = MaxPooling2D(pool_size=(2, 2), padding=\"same\")(S2)\n",
    "    # Bước trung gian chuyển từ tensor sang vector\n",
    "    flat = Flatten()(S4)\n",
    "    # Bước phân loại đặc trưng bước trước\n",
    "    F5 = Dense(120, activation='relu', use_bias=True)(flat)\n",
    "    F6 = Dense(84, activation='relu', use_bias=True)(F5)\n",
    "    output = Dense(10, activation='softmax', use_bias=True)(F6) # y~ output\n",
    "    \n",
    "    self.model = Model(input, output)"
   ]
  },
  {
   "cell_type": "code",
   "execution_count": 47,
   "id": "0a6d13e0-4782-4d50-a921-28d714205515",
   "metadata": {
    "deletable": false,
    "editable": false,
    "nbgrader": {
     "cell_type": "code",
     "checksum": "f474231866c10761aa14b4c22c80cba2",
     "grade": false,
     "grade_id": "cell-9242a4efe38e4b31",
     "locked": true,
     "schema_version": 3,
     "solution": false,
     "task": false
    },
    "tags": []
   },
   "outputs": [
    {
     "name": "stdout",
     "output_type": "stream",
     "text": [
      "Model: \"model_6\"\n",
      "_________________________________________________________________\n",
      " Layer (type)                Output Shape              Param #   \n",
      "=================================================================\n",
      " input_7 (InputLayer)        [(None, 28, 28, 1)]       0         \n",
      "                                                                 \n",
      " max_pooling2d_6 (MaxPooling  (None, 14, 14, 1)        0         \n",
      " 2D)                                                             \n",
      "                                                                 \n",
      " max_pooling2d_7 (MaxPooling  (None, 7, 7, 1)          0         \n",
      " 2D)                                                             \n",
      "                                                                 \n",
      " flatten_6 (Flatten)         (None, 49)                0         \n",
      "                                                                 \n",
      " dense_18 (Dense)            (None, 120)               6000      \n",
      "                                                                 \n",
      " dense_19 (Dense)            (None, 84)                10164     \n",
      "                                                                 \n",
      " dense_20 (Dense)            (None, 10)                850       \n",
      "                                                                 \n",
      "=================================================================\n",
      "Total params: 17,014\n",
      "Trainable params: 17,014\n",
      "Non-trainable params: 0\n",
      "_________________________________________________________________\n"
     ]
    }
   ],
   "source": [
    "# Khởi tạo random seed để cố định kết quả huấn luyện cho tất cả mọi người\n",
    "fix_random_seed()\n",
    "\n",
    "# Khởi tạo đối tượng mạng CNN kiến trúc Omicron\n",
    "delta = DeltaCNN()\n",
    "# Xây dựng kiến trúc mô hình với ảnh đầu vào kích thước 28x28x1\n",
    "delta.build((28, 28, 1))\n",
    "delta.summary()"
   ]
  },
  {
   "cell_type": "code",
   "execution_count": 48,
   "id": "870be9ab-0eba-4657-888c-e3ef25c0aad5",
   "metadata": {
    "deletable": false,
    "editable": false,
    "nbgrader": {
     "cell_type": "code",
     "checksum": "7da734ce1079dd3feb32b599b01f412c",
     "grade": true,
     "grade_id": "cell-fe9f94591026468d",
     "locked": true,
     "points": 5,
     "schema_version": 3,
     "solution": false,
     "task": false
    },
    "tags": []
   },
   "outputs": [],
   "source": [
    "# Kiểm tra kiến trúc Delta\n",
    "\n",
    "# Kiểm tra số layer không đổi\n",
    "assert len(delta.model.layers) == 7\n",
    "# Kiểm tra một số lớp trong kiến trúc mạng\n",
    "assert \"keras.engine.input_layer.InputLayer\" in str(type(delta.model.layers[0]))\n",
    "assert \"keras.layers.pooling.max_pooling2d.MaxPooling2D\" in str(type(delta.model.layers[1]))\n",
    "assert \"keras.layers.pooling.max_pooling2d.MaxPooling2D\" in str(type(delta.model.layers[2]))\n",
    "assert \"keras.layers.core.dense.Dense\" in str(type(delta.model.layers[6]))\n",
    "# Kiểm tra hàm activation của lớp convolution\n",
    "assert delta.model.layers[1].pool_size  == (2, 2)"
   ]
  },
  {
   "cell_type": "code",
   "execution_count": null,
   "id": "23d16425-b050-4a72-afff-00fc634fbd2a",
   "metadata": {
    "deletable": false,
    "editable": false,
    "nbgrader": {
     "cell_type": "code",
     "checksum": "73ecd4944659769d85df313a456bfa7e",
     "grade": true,
     "grade_id": "cell-4699cbf9ef2187a9",
     "locked": true,
     "points": 5,
     "schema_version": 3,
     "solution": false,
     "task": false
    },
    "tags": []
   },
   "outputs": [],
   "source": [
    "# Kiểm tra với bộ test ẩn"
   ]
  },
  {
   "cell_type": "code",
   "execution_count": 49,
   "id": "7e9fad50-0703-4be8-b468-6adb0d94b058",
   "metadata": {
    "deletable": false,
    "editable": false,
    "nbgrader": {
     "cell_type": "code",
     "checksum": "866f9034199aba9385689d2ef6144115",
     "grade": false,
     "grade_id": "cell-703a6528300f05a9",
     "locked": true,
     "schema_version": 3,
     "solution": false,
     "task": false
    },
    "tags": []
   },
   "outputs": [
    {
     "name": "stdout",
     "output_type": "stream",
     "text": [
      "Epoch 1/10\n",
      "469/469 [==============================] - 3s 5ms/step - loss: 0.5049 - accuracy: 0.8342\n",
      "Epoch 2/10\n",
      "469/469 [==============================] - 2s 5ms/step - loss: 0.3614 - accuracy: 0.8778\n",
      "Epoch 3/10\n",
      "469/469 [==============================] - 2s 5ms/step - loss: 0.3352 - accuracy: 0.8881\n",
      "Epoch 4/10\n",
      "469/469 [==============================] - 2s 5ms/step - loss: 0.3206 - accuracy: 0.8920\n",
      "Epoch 5/10\n",
      "469/469 [==============================] - 2s 5ms/step - loss: 0.3089 - accuracy: 0.8959\n",
      "Epoch 6/10\n",
      "469/469 [==============================] - 2s 5ms/step - loss: 0.2952 - accuracy: 0.9013\n",
      "Epoch 7/10\n",
      "469/469 [==============================] - 2s 5ms/step - loss: 0.2900 - accuracy: 0.9025\n",
      "Epoch 8/10\n",
      "469/469 [==============================] - 2s 5ms/step - loss: 0.2853 - accuracy: 0.9038\n",
      "Epoch 9/10\n",
      "469/469 [==============================] - 2s 5ms/step - loss: 0.2817 - accuracy: 0.9053\n",
      "Epoch 10/10\n",
      "469/469 [==============================] - 2s 5ms/step - loss: 0.2782 - accuracy: 0.9064\n"
     ]
    }
   ],
   "source": [
    "# Trèn trén tren!\n",
    "delta.train(x_train_norm, y_train_oh)"
   ]
  },
  {
   "cell_type": "code",
   "execution_count": 50,
   "id": "e7b09a9b-7dc4-4a4b-98ad-6e56456b926b",
   "metadata": {
    "deletable": false,
    "editable": false,
    "nbgrader": {
     "cell_type": "code",
     "checksum": "8dde8cf2eeacc64a344fa36ec7c419d9",
     "grade": false,
     "grade_id": "cell-a729ab21d81380e7",
     "locked": true,
     "schema_version": 3,
     "solution": false,
     "task": false
    },
    "tags": []
   },
   "outputs": [
    {
     "name": "stdout",
     "output_type": "stream",
     "text": [
      "313/313 [==============================] - 1s 2ms/step\n",
      "Độ chính xác của phiên bản hiện tại: 90.06999731063843\n"
     ]
    }
   ],
   "source": [
    "# Đánh giá trên tập dữ liệu test\n",
    "delta.predict_and_eval(x_test_norm, y_test)"
   ]
  },
  {
   "cell_type": "markdown",
   "id": "4344f9c9-acad-4c08-9d2b-c64583f2fae1",
   "metadata": {
    "deletable": false,
    "editable": false,
    "nbgrader": {
     "cell_type": "markdown",
     "checksum": "306bdfe365358849118f09b8bcb69c54",
     "grade": false,
     "grade_id": "cell-8d9d20a5ca56bb4c",
     "locked": true,
     "schema_version": 3,
     "solution": false,
     "task": false
    },
    "tags": []
   },
   "source": [
    "Theo bạn giữa phiên bản Delta và Beta, bạn thấy kết quả có sự thay đổi đáng kể hay không?"
   ]
  },
  {
   "cell_type": "code",
   "execution_count": 51,
   "id": "815de145-a238-4afa-a21f-947a3de3ffa9",
   "metadata": {
    "deletable": false,
    "nbgrader": {
     "cell_type": "code",
     "checksum": "66f5ab46d9ea533922224c464dea8b7e",
     "grade": false,
     "grade_id": "cell-4382fac94f0ef40b",
     "locked": false,
     "schema_version": 3,
     "solution": true,
     "task": false
    },
    "tags": []
   },
   "outputs": [
    {
     "name": "stdout",
     "output_type": "stream",
     "text": [
      "Theo tôi thì:  Beta tốt hơn Delta\n"
     ]
    }
   ],
   "source": [
    "options = ['Không có ý kiến', 'Beta tốt hơn Delta', 'Beta tệ hơn Delta', 'Beta ngang ngửa Delta (chênh không quá 1%)']\n",
    "\n",
    "your_choice = None\n",
    "\n",
    "# Hãy chọn your_choice bằng 0, 1, 2 hoặc 3 tương ứng với các lựa chọn ở trên\n",
    "# YOUR CODE HERE\n",
    "your_choice = 1\n",
    "\n",
    "print(\"Theo tôi thì: \", options[your_choice])"
   ]
  },
  {
   "cell_type": "code",
   "execution_count": null,
   "id": "7ad971f7-7eb6-45fd-9f7e-f3eba988cc0d",
   "metadata": {
    "deletable": false,
    "editable": false,
    "nbgrader": {
     "cell_type": "code",
     "checksum": "63953b04b0f8becbffcbac06a38cce75",
     "grade": true,
     "grade_id": "cell-81f2a74a0460c86a",
     "locked": true,
     "points": 5,
     "schema_version": 3,
     "solution": false,
     "task": false
    },
    "tags": []
   },
   "outputs": [],
   "source": [
    "# Kiểm tra với bộ test ẩn"
   ]
  },
  {
   "cell_type": "markdown",
   "id": "6a203208-c4de-47df-bb76-752fc312d1ea",
   "metadata": {
    "deletable": false,
    "editable": false,
    "nbgrader": {
     "cell_type": "markdown",
     "checksum": "91a1a46e404b593bf2499a230bed38c1",
     "grade": false,
     "grade_id": "cell-69b898a90737815a",
     "locked": true,
     "schema_version": 3,
     "solution": false,
     "task": false
    },
    "tags": []
   },
   "source": [
    "Ngoài ra, bạn có nhận xét gì về số lượng tham số và thời gian train của mô hình Delta?"
   ]
  },
  {
   "cell_type": "code",
   "execution_count": 52,
   "id": "df891c8e-f1e4-47c2-b56e-b06089821b5c",
   "metadata": {
    "deletable": false,
    "nbgrader": {
     "cell_type": "code",
     "checksum": "1245368663a16ab7187ed4045cdd9790",
     "grade": false,
     "grade_id": "cell-420393feaa427f16",
     "locked": false,
     "schema_version": 3,
     "solution": true,
     "task": false
    },
    "tags": []
   },
   "outputs": [
    {
     "name": "stdout",
     "output_type": "stream",
     "text": [
      "Theo tôi thì: \n",
      "   -  Delta có tham số ít hơn Beta\n",
      "   -  Delta train nhanh hơn Beta\n"
     ]
    }
   ],
   "source": [
    "options = ['Delta có tham số ít hơn Beta', 'Delta nhiều tham số hơn Beta', 'Delta có tham số bằng Beta',\n",
    "           'Delta train nhanh hơn Beta', 'Delta train chậm hơn Beta', 'Delta train tương đương']\n",
    "\n",
    "your_choices = []\n",
    "\n",
    "# Hãy chọn your_choice với một TẬP CÁC GIÁ TRỊ từ 0, 1, 2, 3, 4, 5 tương ứng với các lựa chọn ở trên\n",
    "# LƯU Ý: Có thể chọn 0, 1 hoặc nhiều hơn 1 lựa chọn trong câu hỏi này\n",
    "# YOUR CODE HERE\n",
    "your_choices = [0, 3]\n",
    "\n",
    "print(\"Theo tôi thì: \")\n",
    "for op in your_choices:\n",
    "    print('   - ', options[op])"
   ]
  },
  {
   "cell_type": "code",
   "execution_count": 53,
   "id": "577d9994-4921-44cd-8def-99641de0e995",
   "metadata": {
    "deletable": false,
    "editable": false,
    "nbgrader": {
     "cell_type": "code",
     "checksum": "ed9d3539db8f1f9fcc97501a29d97a73",
     "grade": true,
     "grade_id": "cell-c0abf0f02d65083c",
     "locked": true,
     "points": 5,
     "schema_version": 3,
     "solution": false,
     "task": false
    },
    "tags": []
   },
   "outputs": [],
   "source": [
    "# Kiểm tra với bộ test ẩn"
   ]
  },
  {
   "cell_type": "markdown",
   "id": "b2634d9e-d20e-4eb7-9a92-66304023b20d",
   "metadata": {},
   "source": [
    "Phew!! Vậy là bạn đã trải nghiệm **cảm giác thiết kế, chỉnh sửa kiến trúc* mạng CNN. Mỗi module đều có một chức năng nhất định. Hi vọng bạn cảm nhận được ý nghĩa của từng module và vai trò của nó trong thiết kế chung của mạng CNN."
   ]
  }
 ],
 "metadata": {
  "kernelspec": {
   "display_name": "Python 3 (ipykernel)",
   "language": "python",
   "name": "python3"
  },
  "language_info": {
   "codemirror_mode": {
    "name": "ipython",
    "version": 3
   },
   "file_extension": ".py",
   "mimetype": "text/x-python",
   "name": "python",
   "nbconvert_exporter": "python",
   "pygments_lexer": "ipython3",
   "version": "3.9.15"
  }
 },
 "nbformat": 4,
 "nbformat_minor": 5
}
